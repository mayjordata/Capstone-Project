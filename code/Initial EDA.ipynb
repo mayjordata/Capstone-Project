{
 "cells": [
  {
   "cell_type": "code",
   "execution_count": 1,
   "metadata": {},
   "outputs": [],
   "source": [
    "import pandas as pd\n",
    "import numpy as np\n",
    "import matplotlib.pyplot as plt\n",
    "import seaborn as sns\n",
    "\n",
    "\n",
    "\n",
    "# Webcraping packages\n",
    "import requests\n",
    "from bs4 import BeautifulSoup\n",
    "from time import sleep\n",
    "from datetime import datetime\n",
    "\n",
    "from selenium import webdriver"
   ]
  },
  {
   "cell_type": "markdown",
   "metadata": {},
   "source": [
    "## Imports"
   ]
  },
  {
   "cell_type": "markdown",
   "metadata": {},
   "source": [
    "### NFL"
   ]
  },
  {
   "cell_type": "code",
   "execution_count": 9,
   "metadata": {},
   "outputs": [],
   "source": [
    "# Overall Team Data\n",
    "team_df1 = pd.read_csv('../data/teams_2019_2015.csv')\n",
    "team_df2 = pd.read_csv('../data/teams_2014_1970.csv')"
   ]
  },
  {
   "cell_type": "code",
   "execution_count": 10,
   "metadata": {},
   "outputs": [],
   "source": [
    "# Passing Data\n",
    "pass_df1 = pd.read_csv('../data/pass_2019_2015.csv')\n",
    "pass_df2 = pd.read_csv('../data/pass_2014_1970.csv')"
   ]
  },
  {
   "cell_type": "code",
   "execution_count": 11,
   "metadata": {},
   "outputs": [],
   "source": [
    "# Rushing Data\n",
    "rush_df = pd.read_csv('../data/rush_stats.csv')"
   ]
  },
  {
   "cell_type": "code",
   "execution_count": 12,
   "metadata": {},
   "outputs": [],
   "source": [
    "# Defense Data\n",
    "def_df = pd.read_csv('../data/defensive_stats.csv')"
   ]
  },
  {
   "cell_type": "markdown",
   "metadata": {},
   "source": [
    "### College"
   ]
  },
  {
   "cell_type": "code",
   "execution_count": 62,
   "metadata": {},
   "outputs": [],
   "source": [
    "college_stand_df = pd.read_csv('../data/college_standings_2019_1996.csv')"
   ]
  },
  {
   "cell_type": "code",
   "execution_count": 63,
   "metadata": {},
   "outputs": [],
   "source": [
    "college_off_df = pd.read_csv('../data/college_offense_stats_2019_1996.csv')"
   ]
  },
  {
   "cell_type": "code",
   "execution_count": 64,
   "metadata": {},
   "outputs": [],
   "source": [
    "college_def_df = pd.read_csv('../data/college_defense_stats_2019_1996.csv')"
   ]
  },
  {
   "cell_type": "markdown",
   "metadata": {},
   "source": [
    "## Combining Data"
   ]
  },
  {
   "cell_type": "markdown",
   "metadata": {},
   "source": [
    "### Stacked Concatenation"
   ]
  },
  {
   "cell_type": "code",
   "execution_count": 14,
   "metadata": {},
   "outputs": [],
   "source": [
    "# Multiyear DataFrames - Stacking them dfs upon each other\n",
    "team_df = pd.concat([team_df1, team_df2])\n",
    "pass_df = pd.concat([pass_df1, pass_df2])"
   ]
  },
  {
   "cell_type": "code",
   "execution_count": 56,
   "metadata": {},
   "outputs": [],
   "source": [
    "# Exporting team DataFrame\n",
    "team_df.to_csv('../data/NFL_teams.csv', index=False)"
   ]
  },
  {
   "cell_type": "code",
   "execution_count": 57,
   "metadata": {},
   "outputs": [],
   "source": [
    "# Exporting pass DataFrame\n",
    "pass_df.to_csv('../data/NFL_passing.csv', index=False)"
   ]
  },
  {
   "cell_type": "markdown",
   "metadata": {},
   "source": [
    "Exporting concatenated dfs for later use."
   ]
  },
  {
   "cell_type": "markdown",
   "metadata": {},
   "source": [
    "### Merging DataFrames"
   ]
  },
  {
   "cell_type": "markdown",
   "metadata": {},
   "source": [
    "### NFL Stats"
   ]
  },
  {
   "cell_type": "code",
   "execution_count": 26,
   "metadata": {},
   "outputs": [
    {
     "data": {
      "text/plain": [
       "(1477, 34)"
      ]
     },
     "execution_count": 26,
     "metadata": {},
     "output_type": "execute_result"
    }
   ],
   "source": [
    "# Merging team & passsing DataFrames\n",
    "df1 = pd.merge(team_df, pass_df, left_on=['team','year'], right_on=['team','year'])\n",
    "df1.shape"
   ]
  },
  {
   "cell_type": "markdown",
   "metadata": {},
   "source": [
    "* I am merging all of the passing stats with the team stats DataFrame by the team name & year so that the stats match up."
   ]
  },
  {
   "cell_type": "code",
   "execution_count": 34,
   "metadata": {},
   "outputs": [
    {
     "data": {
      "text/plain": [
       "(1477, 43)"
      ]
     },
     "execution_count": 34,
     "metadata": {},
     "output_type": "execute_result"
    }
   ],
   "source": [
    "df2 = pd.merge(df1, rush_df, left_on=['team','year'], right_on=['team','year'])\n",
    "df2.shape"
   ]
  },
  {
   "cell_type": "markdown",
   "metadata": {},
   "source": [
    "* Performing the same merge with the previously merged DataFrame, but with the rushing stats."
   ]
  },
  {
   "cell_type": "code",
   "execution_count": 36,
   "metadata": {},
   "outputs": [],
   "source": [
    "df = pd.merge(df2, def_df, left_on=['team','year'], right_on=['team','year'])\n",
    "df.shape"
   ]
  },
  {
   "cell_type": "markdown",
   "metadata": {},
   "source": [
    "* Performing the same merge with the previously merged DataFrame, but with the defensive stats. I now have one master DataFrame, that includes all of the statistics together, per team and year, that I can perform my analysis on."
   ]
  },
  {
   "cell_type": "markdown",
   "metadata": {},
   "source": [
    "### College Football Stats"
   ]
  },
  {
   "cell_type": "code",
   "execution_count": 73,
   "metadata": {},
   "outputs": [
    {
     "data": {
      "text/plain": [
       "(2428, 42)"
      ]
     },
     "execution_count": 73,
     "metadata": {},
     "output_type": "execute_result"
    }
   ],
   "source": [
    "cdf1 = pd.merge(college_stand_df, college_off_df, left_on=['School','year'], right_on=['School','year'])\n",
    "cdf1.shape"
   ]
  },
  {
   "cell_type": "markdown",
   "metadata": {},
   "source": []
  },
  {
   "cell_type": "code",
   "execution_count": 75,
   "metadata": {},
   "outputs": [
    {
     "data": {
      "text/plain": [
       "(2428, 66)"
      ]
     },
     "execution_count": 75,
     "metadata": {},
     "output_type": "execute_result"
    }
   ],
   "source": [
    "cdf = pd.merge(cdf1, college_def_df, left_on=['School','year'], right_on=['School','year'])\n",
    "cdf.shape"
   ]
  },
  {
   "cell_type": "markdown",
   "metadata": {},
   "source": []
  },
  {
   "cell_type": "markdown",
   "metadata": {},
   "source": [
    "## EDA"
   ]
  },
  {
   "cell_type": "code",
   "execution_count": 65,
   "metadata": {},
   "outputs": [
    {
     "data": {
      "text/html": [
       "<div>\n",
       "<style scoped>\n",
       "    .dataframe tbody tr th:only-of-type {\n",
       "        vertical-align: middle;\n",
       "    }\n",
       "\n",
       "    .dataframe tbody tr th {\n",
       "        vertical-align: top;\n",
       "    }\n",
       "\n",
       "    .dataframe thead th {\n",
       "        text-align: right;\n",
       "    }\n",
       "</style>\n",
       "<table border=\"1\" class=\"dataframe\">\n",
       "  <thead>\n",
       "    <tr style=\"text-align: right;\">\n",
       "      <th></th>\n",
       "      <th>Rk</th>\n",
       "      <th>School</th>\n",
       "      <th>Conf</th>\n",
       "      <th>W</th>\n",
       "      <th>L</th>\n",
       "      <th>Pct</th>\n",
       "      <th>W.1</th>\n",
       "      <th>L.1</th>\n",
       "      <th>Pct.1</th>\n",
       "      <th>Off</th>\n",
       "      <th>Def</th>\n",
       "      <th>SRS</th>\n",
       "      <th>SOS</th>\n",
       "      <th>AP Pre</th>\n",
       "      <th>AP High</th>\n",
       "      <th>AP Rank</th>\n",
       "      <th>Notes</th>\n",
       "      <th>year</th>\n",
       "    </tr>\n",
       "  </thead>\n",
       "  <tbody>\n",
       "    <tr>\n",
       "      <td>0</td>\n",
       "      <td>1</td>\n",
       "      <td>Clemson</td>\n",
       "      <td>ACC (Atlantic)</td>\n",
       "      <td>11</td>\n",
       "      <td>0</td>\n",
       "      <td>1.000</td>\n",
       "      <td>8.0</td>\n",
       "      <td>0.0</td>\n",
       "      <td>1.000</td>\n",
       "      <td>45.9</td>\n",
       "      <td>10.7</td>\n",
       "      <td>20.66</td>\n",
       "      <td>-0.88</td>\n",
       "      <td>3.0</td>\n",
       "      <td>1.0</td>\n",
       "      <td>1.0</td>\n",
       "      <td>NaN</td>\n",
       "      <td>2019</td>\n",
       "    </tr>\n",
       "    <tr>\n",
       "      <td>1</td>\n",
       "      <td>2</td>\n",
       "      <td>Wake Forest</td>\n",
       "      <td>ACC (Atlantic)</td>\n",
       "      <td>7</td>\n",
       "      <td>3</td>\n",
       "      <td>0.700</td>\n",
       "      <td>3.0</td>\n",
       "      <td>3.0</td>\n",
       "      <td>0.500</td>\n",
       "      <td>32.4</td>\n",
       "      <td>28.5</td>\n",
       "      <td>5.22</td>\n",
       "      <td>0.62</td>\n",
       "      <td>NaN</td>\n",
       "      <td>NaN</td>\n",
       "      <td>19.0</td>\n",
       "      <td>NaN</td>\n",
       "      <td>2019</td>\n",
       "    </tr>\n",
       "    <tr>\n",
       "      <td>2</td>\n",
       "      <td>3</td>\n",
       "      <td>Louisville</td>\n",
       "      <td>ACC (Atlantic)</td>\n",
       "      <td>6</td>\n",
       "      <td>4</td>\n",
       "      <td>0.600</td>\n",
       "      <td>4.0</td>\n",
       "      <td>3.0</td>\n",
       "      <td>0.571</td>\n",
       "      <td>32.3</td>\n",
       "      <td>32.7</td>\n",
       "      <td>3.62</td>\n",
       "      <td>3.72</td>\n",
       "      <td>NaN</td>\n",
       "      <td>NaN</td>\n",
       "      <td>NaN</td>\n",
       "      <td>NaN</td>\n",
       "      <td>2019</td>\n",
       "    </tr>\n",
       "    <tr>\n",
       "      <td>3</td>\n",
       "      <td>4</td>\n",
       "      <td>Florida State</td>\n",
       "      <td>ACC (Atlantic)</td>\n",
       "      <td>6</td>\n",
       "      <td>5</td>\n",
       "      <td>0.545</td>\n",
       "      <td>4.0</td>\n",
       "      <td>4.0</td>\n",
       "      <td>0.500</td>\n",
       "      <td>30.2</td>\n",
       "      <td>27.5</td>\n",
       "      <td>4.52</td>\n",
       "      <td>2.42</td>\n",
       "      <td>NaN</td>\n",
       "      <td>NaN</td>\n",
       "      <td>NaN</td>\n",
       "      <td>NaN</td>\n",
       "      <td>2019</td>\n",
       "    </tr>\n",
       "    <tr>\n",
       "      <td>4</td>\n",
       "      <td>5</td>\n",
       "      <td>Boston College</td>\n",
       "      <td>ACC (Atlantic)</td>\n",
       "      <td>5</td>\n",
       "      <td>5</td>\n",
       "      <td>0.500</td>\n",
       "      <td>3.0</td>\n",
       "      <td>4.0</td>\n",
       "      <td>0.429</td>\n",
       "      <td>33.8</td>\n",
       "      <td>32.1</td>\n",
       "      <td>2.03</td>\n",
       "      <td>-0.07</td>\n",
       "      <td>NaN</td>\n",
       "      <td>NaN</td>\n",
       "      <td>NaN</td>\n",
       "      <td>NaN</td>\n",
       "      <td>2019</td>\n",
       "    </tr>\n",
       "  </tbody>\n",
       "</table>\n",
       "</div>"
      ],
      "text/plain": [
       "   Rk          School            Conf   W  L    Pct  W.1  L.1  Pct.1   Off  \\\n",
       "0   1         Clemson  ACC (Atlantic)  11  0  1.000  8.0  0.0  1.000  45.9   \n",
       "1   2     Wake Forest  ACC (Atlantic)   7  3  0.700  3.0  3.0  0.500  32.4   \n",
       "2   3      Louisville  ACC (Atlantic)   6  4  0.600  4.0  3.0  0.571  32.3   \n",
       "3   4   Florida State  ACC (Atlantic)   6  5  0.545  4.0  4.0  0.500  30.2   \n",
       "4   5  Boston College  ACC (Atlantic)   5  5  0.500  3.0  4.0  0.429  33.8   \n",
       "\n",
       "    Def    SRS   SOS  AP Pre  AP High  AP Rank Notes  year  \n",
       "0  10.7  20.66 -0.88     3.0      1.0      1.0   NaN  2019  \n",
       "1  28.5   5.22  0.62     NaN      NaN     19.0   NaN  2019  \n",
       "2  32.7   3.62  3.72     NaN      NaN      NaN   NaN  2019  \n",
       "3  27.5   4.52  2.42     NaN      NaN      NaN   NaN  2019  \n",
       "4  32.1   2.03 -0.07     NaN      NaN      NaN   NaN  2019  "
      ]
     },
     "execution_count": 65,
     "metadata": {},
     "output_type": "execute_result"
    }
   ],
   "source": [
    "college_stand_df.head()"
   ]
  },
  {
   "cell_type": "code",
   "execution_count": 66,
   "metadata": {},
   "outputs": [
    {
     "data": {
      "text/plain": [
       "Index(['Rk', 'School', 'Conf', 'W', 'L', 'Pct', 'W.1', 'L.1', 'Pct.1', 'Off',\n",
       "       'Def', 'SRS', 'SOS', 'AP Pre', 'AP High', 'AP Rank', 'Notes', 'year'],\n",
       "      dtype='object')"
      ]
     },
     "execution_count": 66,
     "metadata": {},
     "output_type": "execute_result"
    }
   ],
   "source": [
    "college_stand_df.columns"
   ]
  },
  {
   "cell_type": "code",
   "execution_count": 67,
   "metadata": {},
   "outputs": [
    {
     "data": {
      "text/plain": [
       "Notes      0.988264\n",
       "AP Pre     0.792889\n",
       "AP Rank    0.785986\n",
       "AP High    0.639627\n",
       "Pct.1      0.037625\n",
       "L.1        0.004833\n",
       "W.1        0.004833\n",
       "Pct        0.000000\n",
       "School     0.000000\n",
       "Conf       0.000000\n",
       "W          0.000000\n",
       "L          0.000000\n",
       "year       0.000000\n",
       "Off        0.000000\n",
       "Def        0.000000\n",
       "SRS        0.000000\n",
       "SOS        0.000000\n",
       "Rk         0.000000\n",
       "dtype: float64"
      ]
     },
     "execution_count": 67,
     "metadata": {},
     "output_type": "execute_result"
    }
   ],
   "source": [
    "college_stand_df.isnull().mean().sort_values(ascending = False)"
   ]
  },
  {
   "cell_type": "code",
   "execution_count": 68,
   "metadata": {},
   "outputs": [
    {
     "data": {
      "text/html": [
       "<div>\n",
       "<style scoped>\n",
       "    .dataframe tbody tr th:only-of-type {\n",
       "        vertical-align: middle;\n",
       "    }\n",
       "\n",
       "    .dataframe tbody tr th {\n",
       "        vertical-align: top;\n",
       "    }\n",
       "\n",
       "    .dataframe thead th {\n",
       "        text-align: right;\n",
       "    }\n",
       "</style>\n",
       "<table border=\"1\" class=\"dataframe\">\n",
       "  <thead>\n",
       "    <tr style=\"text-align: right;\">\n",
       "      <th></th>\n",
       "      <th>off_Rk</th>\n",
       "      <th>School</th>\n",
       "      <th>G</th>\n",
       "      <th>Pts</th>\n",
       "      <th>pass_cmp</th>\n",
       "      <th>pass_Att</th>\n",
       "      <th>cmp_Pct</th>\n",
       "      <th>pass_Yds</th>\n",
       "      <th>pass_TD</th>\n",
       "      <th>rush_Att</th>\n",
       "      <th>...</th>\n",
       "      <th>1st_down_Pass</th>\n",
       "      <th>1st_down_Rush</th>\n",
       "      <th>1st_down_Pen</th>\n",
       "      <th>1st_down_Tot</th>\n",
       "      <th>pen_No.</th>\n",
       "      <th>pen_Yds</th>\n",
       "      <th>Fum</th>\n",
       "      <th>Int</th>\n",
       "      <th>TO_Tot</th>\n",
       "      <th>year</th>\n",
       "    </tr>\n",
       "  </thead>\n",
       "  <tbody>\n",
       "    <tr>\n",
       "      <td>0</td>\n",
       "      <td>1</td>\n",
       "      <td>Ohio State</td>\n",
       "      <td>10</td>\n",
       "      <td>51.5</td>\n",
       "      <td>19.0</td>\n",
       "      <td>27.8</td>\n",
       "      <td>68.3</td>\n",
       "      <td>254.3</td>\n",
       "      <td>3.8</td>\n",
       "      <td>46.6</td>\n",
       "      <td>...</td>\n",
       "      <td>11.8</td>\n",
       "      <td>14.5</td>\n",
       "      <td>2.3</td>\n",
       "      <td>28.6</td>\n",
       "      <td>5.8</td>\n",
       "      <td>56.2</td>\n",
       "      <td>0.8</td>\n",
       "      <td>0.1</td>\n",
       "      <td>0.9</td>\n",
       "      <td>2019</td>\n",
       "    </tr>\n",
       "    <tr>\n",
       "      <td>1</td>\n",
       "      <td>2</td>\n",
       "      <td>LSU</td>\n",
       "      <td>10</td>\n",
       "      <td>47.8</td>\n",
       "      <td>28.5</td>\n",
       "      <td>37.0</td>\n",
       "      <td>77.0</td>\n",
       "      <td>390.3</td>\n",
       "      <td>3.5</td>\n",
       "      <td>35.6</td>\n",
       "      <td>...</td>\n",
       "      <td>15.8</td>\n",
       "      <td>10.5</td>\n",
       "      <td>1.6</td>\n",
       "      <td>27.6</td>\n",
       "      <td>5.9</td>\n",
       "      <td>58.9</td>\n",
       "      <td>0.4</td>\n",
       "      <td>0.7</td>\n",
       "      <td>1.1</td>\n",
       "      <td>2019</td>\n",
       "    </tr>\n",
       "    <tr>\n",
       "      <td>2</td>\n",
       "      <td>3</td>\n",
       "      <td>Oklahoma</td>\n",
       "      <td>10</td>\n",
       "      <td>47.0</td>\n",
       "      <td>20.4</td>\n",
       "      <td>28.5</td>\n",
       "      <td>71.6</td>\n",
       "      <td>334.0</td>\n",
       "      <td>3.1</td>\n",
       "      <td>37.8</td>\n",
       "      <td>...</td>\n",
       "      <td>13.7</td>\n",
       "      <td>11.3</td>\n",
       "      <td>1.2</td>\n",
       "      <td>25.9</td>\n",
       "      <td>7.3</td>\n",
       "      <td>78.9</td>\n",
       "      <td>0.7</td>\n",
       "      <td>0.6</td>\n",
       "      <td>1.3</td>\n",
       "      <td>2019</td>\n",
       "    </tr>\n",
       "    <tr>\n",
       "      <td>3</td>\n",
       "      <td>4</td>\n",
       "      <td>Alabama</td>\n",
       "      <td>10</td>\n",
       "      <td>46.8</td>\n",
       "      <td>23.3</td>\n",
       "      <td>32.7</td>\n",
       "      <td>71.3</td>\n",
       "      <td>347.7</td>\n",
       "      <td>3.8</td>\n",
       "      <td>32.5</td>\n",
       "      <td>...</td>\n",
       "      <td>13.7</td>\n",
       "      <td>9.4</td>\n",
       "      <td>1.7</td>\n",
       "      <td>24.7</td>\n",
       "      <td>7.3</td>\n",
       "      <td>68.9</td>\n",
       "      <td>0.3</td>\n",
       "      <td>0.4</td>\n",
       "      <td>0.7</td>\n",
       "      <td>2019</td>\n",
       "    </tr>\n",
       "    <tr>\n",
       "      <td>4</td>\n",
       "      <td>5</td>\n",
       "      <td>Clemson</td>\n",
       "      <td>11</td>\n",
       "      <td>45.9</td>\n",
       "      <td>21.9</td>\n",
       "      <td>33.4</td>\n",
       "      <td>65.7</td>\n",
       "      <td>282.5</td>\n",
       "      <td>2.8</td>\n",
       "      <td>39.2</td>\n",
       "      <td>...</td>\n",
       "      <td>12.7</td>\n",
       "      <td>11.6</td>\n",
       "      <td>2.1</td>\n",
       "      <td>26.5</td>\n",
       "      <td>5.7</td>\n",
       "      <td>45.7</td>\n",
       "      <td>0.4</td>\n",
       "      <td>0.9</td>\n",
       "      <td>1.3</td>\n",
       "      <td>2019</td>\n",
       "    </tr>\n",
       "  </tbody>\n",
       "</table>\n",
       "<p>5 rows × 26 columns</p>\n",
       "</div>"
      ],
      "text/plain": [
       "   off_Rk      School   G   Pts  pass_cmp  pass_Att  cmp_Pct  pass_Yds  \\\n",
       "0       1  Ohio State  10  51.5      19.0      27.8     68.3     254.3   \n",
       "1       2         LSU  10  47.8      28.5      37.0     77.0     390.3   \n",
       "2       3    Oklahoma  10  47.0      20.4      28.5     71.6     334.0   \n",
       "3       4     Alabama  10  46.8      23.3      32.7     71.3     347.7   \n",
       "4       5     Clemson  11  45.9      21.9      33.4     65.7     282.5   \n",
       "\n",
       "   pass_TD  rush_Att  ...  1st_down_Pass  1st_down_Rush  1st_down_Pen  \\\n",
       "0      3.8      46.6  ...           11.8           14.5           2.3   \n",
       "1      3.5      35.6  ...           15.8           10.5           1.6   \n",
       "2      3.1      37.8  ...           13.7           11.3           1.2   \n",
       "3      3.8      32.5  ...           13.7            9.4           1.7   \n",
       "4      2.8      39.2  ...           12.7           11.6           2.1   \n",
       "\n",
       "   1st_down_Tot  pen_No.  pen_Yds  Fum  Int  TO_Tot  year  \n",
       "0          28.6      5.8     56.2  0.8  0.1     0.9  2019  \n",
       "1          27.6      5.9     58.9  0.4  0.7     1.1  2019  \n",
       "2          25.9      7.3     78.9  0.7  0.6     1.3  2019  \n",
       "3          24.7      7.3     68.9  0.3  0.4     0.7  2019  \n",
       "4          26.5      5.7     45.7  0.4  0.9     1.3  2019  \n",
       "\n",
       "[5 rows x 26 columns]"
      ]
     },
     "execution_count": 68,
     "metadata": {},
     "output_type": "execute_result"
    }
   ],
   "source": [
    "college_off_df.head()"
   ]
  },
  {
   "cell_type": "code",
   "execution_count": 69,
   "metadata": {},
   "outputs": [
    {
     "data": {
      "text/plain": [
       "Index(['off_Rk', 'School', 'G', 'Pts', 'pass_cmp', 'pass_Att', 'cmp_Pct',\n",
       "       'pass_Yds', 'pass_TD', 'rush_Att', 'rush_Yds', 'rush_Avg', 'rush_TD',\n",
       "       'Plays', 'Yds', 'Avg_Yds', '1st_down_Pass', '1st_down_Rush',\n",
       "       '1st_down_Pen', '1st_down_Tot', 'pen_No.', 'pen_Yds', 'Fum', 'Int',\n",
       "       'TO_Tot', 'year'],\n",
       "      dtype='object')"
      ]
     },
     "execution_count": 69,
     "metadata": {},
     "output_type": "execute_result"
    }
   ],
   "source": [
    "college_off_df.columns"
   ]
  },
  {
   "cell_type": "code",
   "execution_count": 70,
   "metadata": {},
   "outputs": [
    {
     "data": {
      "text/plain": [
       "year             0.0\n",
       "TO_Tot           0.0\n",
       "School           0.0\n",
       "G                0.0\n",
       "Pts              0.0\n",
       "pass_cmp         0.0\n",
       "pass_Att         0.0\n",
       "cmp_Pct          0.0\n",
       "pass_Yds         0.0\n",
       "pass_TD          0.0\n",
       "rush_Att         0.0\n",
       "rush_Yds         0.0\n",
       "rush_Avg         0.0\n",
       "rush_TD          0.0\n",
       "Plays            0.0\n",
       "Yds              0.0\n",
       "Avg_Yds          0.0\n",
       "1st_down_Pass    0.0\n",
       "1st_down_Rush    0.0\n",
       "1st_down_Pen     0.0\n",
       "1st_down_Tot     0.0\n",
       "pen_No.          0.0\n",
       "pen_Yds          0.0\n",
       "Fum              0.0\n",
       "Int              0.0\n",
       "off_Rk           0.0\n",
       "dtype: float64"
      ]
     },
     "execution_count": 70,
     "metadata": {},
     "output_type": "execute_result"
    }
   ],
   "source": [
    "college_off_df.isnull().mean().sort_values(ascending = False)"
   ]
  },
  {
   "cell_type": "code",
   "execution_count": null,
   "metadata": {},
   "outputs": [],
   "source": []
  },
  {
   "cell_type": "code",
   "execution_count": null,
   "metadata": {},
   "outputs": [],
   "source": []
  },
  {
   "cell_type": "code",
   "execution_count": null,
   "metadata": {},
   "outputs": [],
   "source": []
  },
  {
   "cell_type": "code",
   "execution_count": null,
   "metadata": {},
   "outputs": [],
   "source": []
  },
  {
   "cell_type": "code",
   "execution_count": 15,
   "metadata": {},
   "outputs": [
    {
     "name": "stdout",
     "output_type": "stream",
     "text": [
      "(1477, 14)\n"
     ]
    }
   ],
   "source": [
    "print(team_df.shape)"
   ]
  },
  {
   "cell_type": "code",
   "execution_count": 18,
   "metadata": {},
   "outputs": [
    {
     "data": {
      "text/plain": [
       "Index(['team', 'year', 'wins', 'losses', 'ties', 'win_loss_perc',\n",
       "       'points_scored', 'opp_points', 'points_diff', 'margin_of_victory',\n",
       "       'SoS', 'SRS', 'OSRS', 'DSRS'],\n",
       "      dtype='object')"
      ]
     },
     "execution_count": 18,
     "metadata": {},
     "output_type": "execute_result"
    }
   ],
   "source": [
    "team_df.columns"
   ]
  },
  {
   "cell_type": "code",
   "execution_count": 16,
   "metadata": {},
   "outputs": [
    {
     "name": "stdout",
     "output_type": "stream",
     "text": [
      "(1477, 22)\n"
     ]
    }
   ],
   "source": [
    "print(pass_df.shape)"
   ]
  },
  {
   "cell_type": "code",
   "execution_count": 19,
   "metadata": {},
   "outputs": [
    {
     "data": {
      "text/plain": [
       "Index(['team', 'year', 'game', 'comp', 'attempts', 'comp_perc', 'pass_yards',\n",
       "       'pass_tds', 'pass_td_perc', 'int', 'int_perc', 'pass_long', 'pass_y/a',\n",
       "       'y/c', 'pass_y/g', 'QB_rate', 'sacks', 'sack_yds', 'sack_perc',\n",
       "       'qb_comebacks', 'qb_gwd', 'pass_exp'],\n",
       "      dtype='object')"
      ]
     },
     "execution_count": 19,
     "metadata": {},
     "output_type": "execute_result"
    }
   ],
   "source": [
    "pass_df.columns"
   ]
  },
  {
   "cell_type": "code",
   "execution_count": 17,
   "metadata": {},
   "outputs": [
    {
     "data": {
      "text/html": [
       "<div>\n",
       "<style scoped>\n",
       "    .dataframe tbody tr th:only-of-type {\n",
       "        vertical-align: middle;\n",
       "    }\n",
       "\n",
       "    .dataframe tbody tr th {\n",
       "        vertical-align: top;\n",
       "    }\n",
       "\n",
       "    .dataframe thead th {\n",
       "        text-align: right;\n",
       "    }\n",
       "</style>\n",
       "<table border=\"1\" class=\"dataframe\">\n",
       "  <thead>\n",
       "    <tr style=\"text-align: right;\">\n",
       "      <th></th>\n",
       "      <th>team</th>\n",
       "      <th>year</th>\n",
       "      <th>wins</th>\n",
       "      <th>losses</th>\n",
       "      <th>ties</th>\n",
       "      <th>win_loss_perc</th>\n",
       "      <th>points_scored</th>\n",
       "      <th>opp_points</th>\n",
       "      <th>points_diff</th>\n",
       "      <th>margin_of_victory</th>\n",
       "      <th>SoS</th>\n",
       "      <th>SRS</th>\n",
       "      <th>OSRS</th>\n",
       "      <th>DSRS</th>\n",
       "    </tr>\n",
       "  </thead>\n",
       "  <tbody>\n",
       "    <tr>\n",
       "      <td>0</td>\n",
       "      <td>New England Patriots</td>\n",
       "      <td>2019</td>\n",
       "      <td>8</td>\n",
       "      <td>1</td>\n",
       "      <td>0.0</td>\n",
       "      <td>0.889</td>\n",
       "      <td>270</td>\n",
       "      <td>98</td>\n",
       "      <td>172</td>\n",
       "      <td>19.1</td>\n",
       "      <td>-5.9</td>\n",
       "      <td>13.3</td>\n",
       "      <td>5.2</td>\n",
       "      <td>8.0</td>\n",
       "    </tr>\n",
       "    <tr>\n",
       "      <td>1</td>\n",
       "      <td>Buffalo Bills</td>\n",
       "      <td>2019</td>\n",
       "      <td>6</td>\n",
       "      <td>3</td>\n",
       "      <td>0.0</td>\n",
       "      <td>0.667</td>\n",
       "      <td>174</td>\n",
       "      <td>150</td>\n",
       "      <td>24</td>\n",
       "      <td>2.7</td>\n",
       "      <td>-5.3</td>\n",
       "      <td>-2.7</td>\n",
       "      <td>-5.3</td>\n",
       "      <td>2.6</td>\n",
       "    </tr>\n",
       "    <tr>\n",
       "      <td>2</td>\n",
       "      <td>Miami Dolphins</td>\n",
       "      <td>2019</td>\n",
       "      <td>2</td>\n",
       "      <td>7</td>\n",
       "      <td>0.0</td>\n",
       "      <td>0.222</td>\n",
       "      <td>119</td>\n",
       "      <td>268</td>\n",
       "      <td>-149</td>\n",
       "      <td>-16.6</td>\n",
       "      <td>0.6</td>\n",
       "      <td>-15.9</td>\n",
       "      <td>-7.9</td>\n",
       "      <td>-8.0</td>\n",
       "    </tr>\n",
       "    <tr>\n",
       "      <td>3</td>\n",
       "      <td>New York Jets</td>\n",
       "      <td>2019</td>\n",
       "      <td>2</td>\n",
       "      <td>7</td>\n",
       "      <td>0.0</td>\n",
       "      <td>0.222</td>\n",
       "      <td>130</td>\n",
       "      <td>238</td>\n",
       "      <td>-108</td>\n",
       "      <td>-12.0</td>\n",
       "      <td>-0.1</td>\n",
       "      <td>-12.1</td>\n",
       "      <td>-7.9</td>\n",
       "      <td>-4.2</td>\n",
       "    </tr>\n",
       "    <tr>\n",
       "      <td>4</td>\n",
       "      <td>Baltimore Ravens</td>\n",
       "      <td>2019</td>\n",
       "      <td>7</td>\n",
       "      <td>2</td>\n",
       "      <td>0.0</td>\n",
       "      <td>0.778</td>\n",
       "      <td>300</td>\n",
       "      <td>189</td>\n",
       "      <td>111</td>\n",
       "      <td>12.3</td>\n",
       "      <td>-2.0</td>\n",
       "      <td>10.3</td>\n",
       "      <td>9.4</td>\n",
       "      <td>0.9</td>\n",
       "    </tr>\n",
       "    <tr>\n",
       "      <td>...</td>\n",
       "      <td>...</td>\n",
       "      <td>...</td>\n",
       "      <td>...</td>\n",
       "      <td>...</td>\n",
       "      <td>...</td>\n",
       "      <td>...</td>\n",
       "      <td>...</td>\n",
       "      <td>...</td>\n",
       "      <td>...</td>\n",
       "      <td>...</td>\n",
       "      <td>...</td>\n",
       "      <td>...</td>\n",
       "      <td>...</td>\n",
       "      <td>...</td>\n",
       "    </tr>\n",
       "    <tr>\n",
       "      <td>1312</td>\n",
       "      <td>Chicago Bears</td>\n",
       "      <td>1970</td>\n",
       "      <td>6</td>\n",
       "      <td>8</td>\n",
       "      <td>0.0</td>\n",
       "      <td>0.429</td>\n",
       "      <td>256</td>\n",
       "      <td>261</td>\n",
       "      <td>-5</td>\n",
       "      <td>-0.4</td>\n",
       "      <td>2.6</td>\n",
       "      <td>2.2</td>\n",
       "      <td>0.4</td>\n",
       "      <td>1.8</td>\n",
       "    </tr>\n",
       "    <tr>\n",
       "      <td>1313</td>\n",
       "      <td>San Francisco 49ers</td>\n",
       "      <td>1970</td>\n",
       "      <td>10</td>\n",
       "      <td>3</td>\n",
       "      <td>1.0</td>\n",
       "      <td>0.769</td>\n",
       "      <td>352</td>\n",
       "      <td>267</td>\n",
       "      <td>85</td>\n",
       "      <td>6.1</td>\n",
       "      <td>0.4</td>\n",
       "      <td>6.5</td>\n",
       "      <td>6.4</td>\n",
       "      <td>0.1</td>\n",
       "    </tr>\n",
       "    <tr>\n",
       "      <td>1314</td>\n",
       "      <td>Los Angeles Rams</td>\n",
       "      <td>1970</td>\n",
       "      <td>9</td>\n",
       "      <td>4</td>\n",
       "      <td>1.0</td>\n",
       "      <td>0.692</td>\n",
       "      <td>325</td>\n",
       "      <td>202</td>\n",
       "      <td>123</td>\n",
       "      <td>8.8</td>\n",
       "      <td>0.8</td>\n",
       "      <td>9.6</td>\n",
       "      <td>4.4</td>\n",
       "      <td>5.3</td>\n",
       "    </tr>\n",
       "    <tr>\n",
       "      <td>1315</td>\n",
       "      <td>Atlanta Falcons</td>\n",
       "      <td>1970</td>\n",
       "      <td>4</td>\n",
       "      <td>8</td>\n",
       "      <td>2.0</td>\n",
       "      <td>0.333</td>\n",
       "      <td>206</td>\n",
       "      <td>261</td>\n",
       "      <td>-55</td>\n",
       "      <td>-3.9</td>\n",
       "      <td>1.6</td>\n",
       "      <td>-2.3</td>\n",
       "      <td>-3.5</td>\n",
       "      <td>1.2</td>\n",
       "    </tr>\n",
       "    <tr>\n",
       "      <td>1316</td>\n",
       "      <td>New Orleans Saints</td>\n",
       "      <td>1970</td>\n",
       "      <td>2</td>\n",
       "      <td>11</td>\n",
       "      <td>1.0</td>\n",
       "      <td>0.154</td>\n",
       "      <td>172</td>\n",
       "      <td>347</td>\n",
       "      <td>-175</td>\n",
       "      <td>-12.5</td>\n",
       "      <td>4.6</td>\n",
       "      <td>-7.9</td>\n",
       "      <td>-4.6</td>\n",
       "      <td>-3.3</td>\n",
       "    </tr>\n",
       "  </tbody>\n",
       "</table>\n",
       "<p>1477 rows × 14 columns</p>\n",
       "</div>"
      ],
      "text/plain": [
       "                      team  year  wins  losses  ties  win_loss_perc  \\\n",
       "0     New England Patriots  2019     8       1   0.0          0.889   \n",
       "1            Buffalo Bills  2019     6       3   0.0          0.667   \n",
       "2           Miami Dolphins  2019     2       7   0.0          0.222   \n",
       "3            New York Jets  2019     2       7   0.0          0.222   \n",
       "4         Baltimore Ravens  2019     7       2   0.0          0.778   \n",
       "...                    ...   ...   ...     ...   ...            ...   \n",
       "1312         Chicago Bears  1970     6       8   0.0          0.429   \n",
       "1313   San Francisco 49ers  1970    10       3   1.0          0.769   \n",
       "1314      Los Angeles Rams  1970     9       4   1.0          0.692   \n",
       "1315       Atlanta Falcons  1970     4       8   2.0          0.333   \n",
       "1316    New Orleans Saints  1970     2      11   1.0          0.154   \n",
       "\n",
       "      points_scored  opp_points  points_diff  margin_of_victory  SoS   SRS  \\\n",
       "0               270          98          172               19.1 -5.9  13.3   \n",
       "1               174         150           24                2.7 -5.3  -2.7   \n",
       "2               119         268         -149              -16.6  0.6 -15.9   \n",
       "3               130         238         -108              -12.0 -0.1 -12.1   \n",
       "4               300         189          111               12.3 -2.0  10.3   \n",
       "...             ...         ...          ...                ...  ...   ...   \n",
       "1312            256         261           -5               -0.4  2.6   2.2   \n",
       "1313            352         267           85                6.1  0.4   6.5   \n",
       "1314            325         202          123                8.8  0.8   9.6   \n",
       "1315            206         261          -55               -3.9  1.6  -2.3   \n",
       "1316            172         347         -175              -12.5  4.6  -7.9   \n",
       "\n",
       "      OSRS  DSRS  \n",
       "0      5.2   8.0  \n",
       "1     -5.3   2.6  \n",
       "2     -7.9  -8.0  \n",
       "3     -7.9  -4.2  \n",
       "4      9.4   0.9  \n",
       "...    ...   ...  \n",
       "1312   0.4   1.8  \n",
       "1313   6.4   0.1  \n",
       "1314   4.4   5.3  \n",
       "1315  -3.5   1.2  \n",
       "1316  -4.6  -3.3  \n",
       "\n",
       "[1477 rows x 14 columns]"
      ]
     },
     "execution_count": 17,
     "metadata": {},
     "output_type": "execute_result"
    }
   ],
   "source": [
    "team_df"
   ]
  },
  {
   "cell_type": "code",
   "execution_count": 22,
   "metadata": {},
   "outputs": [
    {
     "data": {
      "text/html": [
       "<div>\n",
       "<style scoped>\n",
       "    .dataframe tbody tr th:only-of-type {\n",
       "        vertical-align: middle;\n",
       "    }\n",
       "\n",
       "    .dataframe tbody tr th {\n",
       "        vertical-align: top;\n",
       "    }\n",
       "\n",
       "    .dataframe thead th {\n",
       "        text-align: right;\n",
       "    }\n",
       "</style>\n",
       "<table border=\"1\" class=\"dataframe\">\n",
       "  <thead>\n",
       "    <tr style=\"text-align: right;\">\n",
       "      <th></th>\n",
       "      <th>team</th>\n",
       "      <th>year</th>\n",
       "      <th>game</th>\n",
       "      <th>comp</th>\n",
       "      <th>attempts</th>\n",
       "      <th>comp_perc</th>\n",
       "      <th>pass_yards</th>\n",
       "      <th>pass_tds</th>\n",
       "      <th>pass_td_perc</th>\n",
       "      <th>int</th>\n",
       "      <th>...</th>\n",
       "      <th>pass_y/a</th>\n",
       "      <th>y/c</th>\n",
       "      <th>pass_y/g</th>\n",
       "      <th>QB_rate</th>\n",
       "      <th>sacks</th>\n",
       "      <th>sack_yds</th>\n",
       "      <th>sack_perc</th>\n",
       "      <th>qb_comebacks</th>\n",
       "      <th>qb_gwd</th>\n",
       "      <th>pass_exp</th>\n",
       "    </tr>\n",
       "  </thead>\n",
       "  <tbody>\n",
       "    <tr>\n",
       "      <td>0</td>\n",
       "      <td>Kansas City Chiefs</td>\n",
       "      <td>2019</td>\n",
       "      <td>10</td>\n",
       "      <td>252</td>\n",
       "      <td>383</td>\n",
       "      <td>65.8</td>\n",
       "      <td>3139</td>\n",
       "      <td>22</td>\n",
       "      <td>5.7</td>\n",
       "      <td>1</td>\n",
       "      <td>...</td>\n",
       "      <td>8.6</td>\n",
       "      <td>13.0</td>\n",
       "      <td>313.9</td>\n",
       "      <td>110.7</td>\n",
       "      <td>18</td>\n",
       "      <td>146</td>\n",
       "      <td>4.5</td>\n",
       "      <td>2.0</td>\n",
       "      <td>2.0</td>\n",
       "      <td>136.67</td>\n",
       "    </tr>\n",
       "    <tr>\n",
       "      <td>1</td>\n",
       "      <td>Atlanta Falcons</td>\n",
       "      <td>2019</td>\n",
       "      <td>9</td>\n",
       "      <td>267</td>\n",
       "      <td>378</td>\n",
       "      <td>70.6</td>\n",
       "      <td>2708</td>\n",
       "      <td>19</td>\n",
       "      <td>5.0</td>\n",
       "      <td>10</td>\n",
       "      <td>...</td>\n",
       "      <td>7.6</td>\n",
       "      <td>10.8</td>\n",
       "      <td>300.9</td>\n",
       "      <td>98.4</td>\n",
       "      <td>22</td>\n",
       "      <td>169</td>\n",
       "      <td>5.5</td>\n",
       "      <td>1.0</td>\n",
       "      <td>1.0</td>\n",
       "      <td>82.47</td>\n",
       "    </tr>\n",
       "    <tr>\n",
       "      <td>2</td>\n",
       "      <td>Los Angeles Chargers</td>\n",
       "      <td>2019</td>\n",
       "      <td>10</td>\n",
       "      <td>241</td>\n",
       "      <td>365</td>\n",
       "      <td>66.0</td>\n",
       "      <td>2701</td>\n",
       "      <td>14</td>\n",
       "      <td>3.8</td>\n",
       "      <td>10</td>\n",
       "      <td>...</td>\n",
       "      <td>7.7</td>\n",
       "      <td>11.7</td>\n",
       "      <td>270.1</td>\n",
       "      <td>90.7</td>\n",
       "      <td>21</td>\n",
       "      <td>122</td>\n",
       "      <td>5.4</td>\n",
       "      <td>1.0</td>\n",
       "      <td>2.0</td>\n",
       "      <td>78.39</td>\n",
       "    </tr>\n",
       "    <tr>\n",
       "      <td>3</td>\n",
       "      <td>Dallas Cowboys</td>\n",
       "      <td>2019</td>\n",
       "      <td>9</td>\n",
       "      <td>218</td>\n",
       "      <td>320</td>\n",
       "      <td>68.1</td>\n",
       "      <td>2693</td>\n",
       "      <td>18</td>\n",
       "      <td>5.6</td>\n",
       "      <td>9</td>\n",
       "      <td>...</td>\n",
       "      <td>8.7</td>\n",
       "      <td>12.7</td>\n",
       "      <td>299.2</td>\n",
       "      <td>102.0</td>\n",
       "      <td>11</td>\n",
       "      <td>84</td>\n",
       "      <td>3.3</td>\n",
       "      <td>NaN</td>\n",
       "      <td>NaN</td>\n",
       "      <td>125.05</td>\n",
       "    </tr>\n",
       "    <tr>\n",
       "      <td>4</td>\n",
       "      <td>Detroit Lions</td>\n",
       "      <td>2019</td>\n",
       "      <td>9</td>\n",
       "      <td>214</td>\n",
       "      <td>337</td>\n",
       "      <td>63.5</td>\n",
       "      <td>2621</td>\n",
       "      <td>20</td>\n",
       "      <td>5.9</td>\n",
       "      <td>6</td>\n",
       "      <td>...</td>\n",
       "      <td>8.2</td>\n",
       "      <td>12.9</td>\n",
       "      <td>291.2</td>\n",
       "      <td>101.6</td>\n",
       "      <td>20</td>\n",
       "      <td>147</td>\n",
       "      <td>5.6</td>\n",
       "      <td>2.0</td>\n",
       "      <td>1.0</td>\n",
       "      <td>90.45</td>\n",
       "    </tr>\n",
       "    <tr>\n",
       "      <td>5</td>\n",
       "      <td>Seattle Seahawks</td>\n",
       "      <td>2019</td>\n",
       "      <td>10</td>\n",
       "      <td>224</td>\n",
       "      <td>327</td>\n",
       "      <td>68.5</td>\n",
       "      <td>2559</td>\n",
       "      <td>23</td>\n",
       "      <td>7.0</td>\n",
       "      <td>2</td>\n",
       "      <td>...</td>\n",
       "      <td>8.4</td>\n",
       "      <td>12.2</td>\n",
       "      <td>255.9</td>\n",
       "      <td>114.9</td>\n",
       "      <td>27</td>\n",
       "      <td>178</td>\n",
       "      <td>7.6</td>\n",
       "      <td>4.0</td>\n",
       "      <td>5.0</td>\n",
       "      <td>93.91</td>\n",
       "    </tr>\n",
       "    <tr>\n",
       "      <td>6</td>\n",
       "      <td>Tampa Bay Buccaneers</td>\n",
       "      <td>2019</td>\n",
       "      <td>9</td>\n",
       "      <td>212</td>\n",
       "      <td>355</td>\n",
       "      <td>59.7</td>\n",
       "      <td>2558</td>\n",
       "      <td>17</td>\n",
       "      <td>4.8</td>\n",
       "      <td>14</td>\n",
       "      <td>...</td>\n",
       "      <td>7.8</td>\n",
       "      <td>13.0</td>\n",
       "      <td>284.2</td>\n",
       "      <td>83.8</td>\n",
       "      <td>34</td>\n",
       "      <td>207</td>\n",
       "      <td>8.7</td>\n",
       "      <td>1.0</td>\n",
       "      <td>1.0</td>\n",
       "      <td>39.56</td>\n",
       "    </tr>\n",
       "    <tr>\n",
       "      <td>7</td>\n",
       "      <td>Green Bay Packers</td>\n",
       "      <td>2019</td>\n",
       "      <td>10</td>\n",
       "      <td>225</td>\n",
       "      <td>347</td>\n",
       "      <td>64.8</td>\n",
       "      <td>2539</td>\n",
       "      <td>17</td>\n",
       "      <td>4.9</td>\n",
       "      <td>2</td>\n",
       "      <td>...</td>\n",
       "      <td>7.8</td>\n",
       "      <td>12.1</td>\n",
       "      <td>253.9</td>\n",
       "      <td>102.7</td>\n",
       "      <td>22</td>\n",
       "      <td>179</td>\n",
       "      <td>6.0</td>\n",
       "      <td>1.0</td>\n",
       "      <td>2.0</td>\n",
       "      <td>104.62</td>\n",
       "    </tr>\n",
       "    <tr>\n",
       "      <td>8</td>\n",
       "      <td>Los Angeles Rams</td>\n",
       "      <td>2019</td>\n",
       "      <td>9</td>\n",
       "      <td>215</td>\n",
       "      <td>357</td>\n",
       "      <td>60.2</td>\n",
       "      <td>2516</td>\n",
       "      <td>11</td>\n",
       "      <td>3.1</td>\n",
       "      <td>10</td>\n",
       "      <td>...</td>\n",
       "      <td>7.4</td>\n",
       "      <td>12.2</td>\n",
       "      <td>279.6</td>\n",
       "      <td>81.6</td>\n",
       "      <td>16</td>\n",
       "      <td>117</td>\n",
       "      <td>4.3</td>\n",
       "      <td>1.0</td>\n",
       "      <td>1.0</td>\n",
       "      <td>30.10</td>\n",
       "    </tr>\n",
       "    <tr>\n",
       "      <td>9</td>\n",
       "      <td>New England Patriots</td>\n",
       "      <td>2019</td>\n",
       "      <td>9</td>\n",
       "      <td>233</td>\n",
       "      <td>360</td>\n",
       "      <td>64.7</td>\n",
       "      <td>2465</td>\n",
       "      <td>14</td>\n",
       "      <td>3.9</td>\n",
       "      <td>6</td>\n",
       "      <td>...</td>\n",
       "      <td>7.2</td>\n",
       "      <td>11.1</td>\n",
       "      <td>273.9</td>\n",
       "      <td>91.9</td>\n",
       "      <td>16</td>\n",
       "      <td>117</td>\n",
       "      <td>4.3</td>\n",
       "      <td>NaN</td>\n",
       "      <td>NaN</td>\n",
       "      <td>71.88</td>\n",
       "    </tr>\n",
       "  </tbody>\n",
       "</table>\n",
       "<p>10 rows × 22 columns</p>\n",
       "</div>"
      ],
      "text/plain": [
       "                   team  year  game  comp  attempts  comp_perc  pass_yards  \\\n",
       "0    Kansas City Chiefs  2019    10   252       383       65.8        3139   \n",
       "1       Atlanta Falcons  2019     9   267       378       70.6        2708   \n",
       "2  Los Angeles Chargers  2019    10   241       365       66.0        2701   \n",
       "3        Dallas Cowboys  2019     9   218       320       68.1        2693   \n",
       "4         Detroit Lions  2019     9   214       337       63.5        2621   \n",
       "5      Seattle Seahawks  2019    10   224       327       68.5        2559   \n",
       "6  Tampa Bay Buccaneers  2019     9   212       355       59.7        2558   \n",
       "7     Green Bay Packers  2019    10   225       347       64.8        2539   \n",
       "8      Los Angeles Rams  2019     9   215       357       60.2        2516   \n",
       "9  New England Patriots  2019     9   233       360       64.7        2465   \n",
       "\n",
       "   pass_tds  pass_td_perc  int  ...  pass_y/a   y/c  pass_y/g  QB_rate  sacks  \\\n",
       "0        22           5.7    1  ...       8.6  13.0     313.9    110.7     18   \n",
       "1        19           5.0   10  ...       7.6  10.8     300.9     98.4     22   \n",
       "2        14           3.8   10  ...       7.7  11.7     270.1     90.7     21   \n",
       "3        18           5.6    9  ...       8.7  12.7     299.2    102.0     11   \n",
       "4        20           5.9    6  ...       8.2  12.9     291.2    101.6     20   \n",
       "5        23           7.0    2  ...       8.4  12.2     255.9    114.9     27   \n",
       "6        17           4.8   14  ...       7.8  13.0     284.2     83.8     34   \n",
       "7        17           4.9    2  ...       7.8  12.1     253.9    102.7     22   \n",
       "8        11           3.1   10  ...       7.4  12.2     279.6     81.6     16   \n",
       "9        14           3.9    6  ...       7.2  11.1     273.9     91.9     16   \n",
       "\n",
       "   sack_yds  sack_perc  qb_comebacks  qb_gwd  pass_exp  \n",
       "0       146        4.5           2.0     2.0    136.67  \n",
       "1       169        5.5           1.0     1.0     82.47  \n",
       "2       122        5.4           1.0     2.0     78.39  \n",
       "3        84        3.3           NaN     NaN    125.05  \n",
       "4       147        5.6           2.0     1.0     90.45  \n",
       "5       178        7.6           4.0     5.0     93.91  \n",
       "6       207        8.7           1.0     1.0     39.56  \n",
       "7       179        6.0           1.0     2.0    104.62  \n",
       "8       117        4.3           1.0     1.0     30.10  \n",
       "9       117        4.3           NaN     NaN     71.88  \n",
       "\n",
       "[10 rows x 22 columns]"
      ]
     },
     "execution_count": 22,
     "metadata": {},
     "output_type": "execute_result"
    }
   ],
   "source": [
    "pass_df.head(10)"
   ]
  },
  {
   "cell_type": "code",
   "execution_count": 40,
   "metadata": {},
   "outputs": [],
   "source": [
    "df.drop(columns='game_y', inplace=True)"
   ]
  },
  {
   "cell_type": "code",
   "execution_count": 44,
   "metadata": {},
   "outputs": [],
   "source": [
    "df.rename(columns={'game_x':'game'}, inplace=True)"
   ]
  },
  {
   "cell_type": "code",
   "execution_count": 46,
   "metadata": {},
   "outputs": [
    {
     "data": {
      "text/plain": [
       "(1477, 68)"
      ]
     },
     "execution_count": 46,
     "metadata": {},
     "output_type": "execute_result"
    }
   ],
   "source": [
    "df.shape"
   ]
  },
  {
   "cell_type": "code",
   "execution_count": 71,
   "metadata": {},
   "outputs": [
    {
     "data": {
      "text/plain": [
       "1974    26\n",
       "1973    26\n",
       "1972    26\n",
       "1971    26\n",
       "1970    26\n",
       "Name: year, dtype: int64"
      ]
     },
     "execution_count": 71,
     "metadata": {},
     "output_type": "execute_result"
    }
   ],
   "source": [
    "df['year'].value_counts().tail()"
   ]
  },
  {
   "cell_type": "code",
   "execution_count": null,
   "metadata": {},
   "outputs": [],
   "source": []
  },
  {
   "cell_type": "code",
   "execution_count": 72,
   "metadata": {},
   "outputs": [
    {
     "data": {
      "text/plain": [
       "Los Angeles Raiders     13\n",
       "Phoenix Cardinals        6\n",
       "Los Angeles Chargers     3\n",
       "Tennessee Oilers         2\n",
       "Boston Patriots          1\n",
       "Name: team, dtype: int64"
      ]
     },
     "execution_count": 72,
     "metadata": {},
     "output_type": "execute_result"
    }
   ],
   "source": [
    "df['team'].value_counts().tail()"
   ]
  },
  {
   "cell_type": "markdown",
   "metadata": {},
   "source": [
    "## DataFrame Completion Exports"
   ]
  },
  {
   "cell_type": "code",
   "execution_count": null,
   "metadata": {},
   "outputs": [],
   "source": []
  }
 ],
 "metadata": {
  "kernelspec": {
   "display_name": "Python 3",
   "language": "python",
   "name": "python3"
  },
  "language_info": {
   "codemirror_mode": {
    "name": "ipython",
    "version": 3
   },
   "file_extension": ".py",
   "mimetype": "text/x-python",
   "name": "python",
   "nbconvert_exporter": "python",
   "pygments_lexer": "ipython3",
   "version": "3.7.4"
  }
 },
 "nbformat": 4,
 "nbformat_minor": 2
}
