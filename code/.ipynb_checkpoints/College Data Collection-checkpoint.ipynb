{
 "cells": [
  {
   "cell_type": "markdown",
   "metadata": {},
   "source": [
    "## Imports"
   ]
  },
  {
   "cell_type": "code",
   "execution_count": null,
   "metadata": {},
   "outputs": [],
   "source": [
    "import pandas as pd\n",
    "import requests\n",
    "from bs4 import BeautifulSoup\n",
    "from time import sleep\n",
    "from datetime import datetime\n",
    "\n",
    "from selenium import webdriver"
   ]
  },
  {
   "cell_type": "markdown",
   "metadata": {},
   "source": [
    "# Sports Reference College Football"
   ]
  },
  {
   "cell_type": "markdown",
   "metadata": {},
   "source": [
    "# Selenium Solution"
   ]
  },
  {
   "cell_type": "code",
   "execution_count": null,
   "metadata": {},
   "outputs": [],
   "source": [
    "# Link to the main page\n",
    "url = 'https://www.sports-reference.com/cfb/years/'"
   ]
  },
  {
   "cell_type": "code",
   "execution_count": null,
   "metadata": {},
   "outputs": [],
   "source": [
    "driver = webdriver.Chrome(executable_path=\"./chromedriver/macos/chromedriver\")"
   ]
  },
  {
   "cell_type": "code",
   "execution_count": null,
   "metadata": {},
   "outputs": [],
   "source": [
    "driver.get(url)"
   ]
  },
  {
   "cell_type": "code",
   "execution_count": null,
   "metadata": {},
   "outputs": [],
   "source": [
    "# creating soup for the inital page documented in the \"url\" variable.\n",
    "soup = BeautifulSoup(driver.page_source)"
   ]
  },
  {
   "cell_type": "markdown",
   "metadata": {},
   "source": [
    "### Finding Years"
   ]
  },
  {
   "cell_type": "code",
   "execution_count": null,
   "metadata": {},
   "outputs": [],
   "source": [
    "# Finding the table on the page that contains all of the years in the NFL.\n",
    "years_table = soup.find('table', {'id': 'years'})"
   ]
  },
  {
   "cell_type": "code",
   "execution_count": null,
   "metadata": {},
   "outputs": [],
   "source": [
    "# Obtaining each numerical year\n",
    "years_list = []\n",
    "\n",
    "for row in years_table.find_all('tr')[1:37]:\n",
    "    if row.find('th').text == 'Year':\n",
    "        pass\n",
    "    else:\n",
    "        year = row.find('th').text\n",
    "        years_list.append(year)"
   ]
  },
  {
   "cell_type": "markdown",
   "metadata": {},
   "source": [
    "This loop collects all of the years in the CFB that I would like to collect data/statistics from. This list dates back to 1985.\n",
    "* The years before 1996 includes ties in the statistics. Overtime (OT) rules were changed in 1996, where multiple OTs were allowed until a winner is decided and this eliminated ties an an outcome. \n",
    "* Because of this there are 2 extra columns for years 1995 and older. I decided to scrape 2 different sets of data to eliminate stats being in the wrong columns."
   ]
  },
  {
   "cell_type": "code",
   "execution_count": null,
   "metadata": {},
   "outputs": [],
   "source": [
    "len(years_list)"
   ]
  },
  {
   "cell_type": "code",
   "execution_count": null,
   "metadata": {},
   "outputs": [],
   "source": [
    "years_list[24]"
   ]
  },
  {
   "cell_type": "code",
   "execution_count": null,
   "metadata": {},
   "outputs": [],
   "source": []
  },
  {
   "cell_type": "code",
   "execution_count": null,
   "metadata": {
    "scrolled": true
   },
   "outputs": [],
   "source": [
    "\n",
    "# initializing list container for stand table\n",
    "stand_list = []\n",
    "# initializing list container for offense table\n",
    "offense_list = []\n",
    "# initializing list container for defense table\n",
    "defense_list = []\n",
    "\n",
    "start = datetime.now()\n",
    "\n",
    "for year in years_list[19:]: # Looping through each year from current year (2019) to 1985.\n",
    "    sleep(10)\n",
    "    print(f\"scrapping year: {year}\")\n",
    "    \n",
    "    # Links to specific year for selenium to click on. Using the original url combined with the year to access the specific year.\n",
    "    year_link = (url + year + '.html')\n",
    "    standings_link = (url + year + '-standings.html')\n",
    "    offense_link = (url + year + '-team-offense.html')\n",
    "    defense_link = (url + year + '-team-defense.html')\n",
    "\n",
    "    \n",
    "    # going to current year Standings page\n",
    "    driver.get(standings_link)\n",
    "    \n",
    "    # creating soup for current year in loop\n",
    "    stand_soup = BeautifulSoup(driver.page_source)\n",
    "    \n",
    "    # Gather standings stats for each team\n",
    "    # Collect Standings Table\n",
    "    stand_table = stand_soup.find('table', {'id': 'standings'})\n",
    "\n",
    "    # header names\n",
    "    cols = []\n",
    "    for i in stand_table.find_all('tr')[1]:  \n",
    "        for a in i:\n",
    "            if a == '\\n':\n",
    "                continue\n",
    "            else:\n",
    "                cols.append(a)\n",
    "    cols.append(\"year\")\n",
    "    \n",
    "    \n",
    "\n",
    "    # Iterating through rows\n",
    "    for i in stand_table.find_all('tr'):\n",
    "        # Empty team container\n",
    "        team = []\n",
    "\n",
    "        # finding and adding the team ranking to the list\n",
    "        rank = i.find('th')\n",
    "        team.append(rank.text)\n",
    "\n",
    "        # Finding rest of the team data with 'td' attribute\n",
    "        row = i.find_all('td')\n",
    "\n",
    "        # Iterating through columns\n",
    "        if len(row) == 0:\n",
    "            continue\n",
    "        else:\n",
    "            for a in row:\n",
    "                team.append(a.text)\n",
    "            team.append(year)\n",
    "        stand_list.append(team)\n",
    "     \n",
    "    print('got standings data')\n",
    "    sleep(2)\n",
    "\n",
    "\n",
    "\n",
    "    # going to current year offensive page\n",
    "    driver.get(offense_link)\n",
    "    \n",
    "    # creating offense soup for current year in loop\n",
    "    offense_soup = BeautifulSoup(driver.page_source)\n",
    "    \n",
    "    # Gather offensive stats for each team\n",
    "    # Collect Offense Table\n",
    "    offense_table = offense_soup.find('table', {'id': 'offense'})\n",
    "\n",
    "    # header names: Offense\n",
    "    if offense_table:\n",
    "        o_cols = []\n",
    "        for i in offense_table.find_all('tr')[1]:  \n",
    "            for a in i:\n",
    "                if a == '\\n':\n",
    "                    continue\n",
    "                else:\n",
    "                    o_cols.append(a)\n",
    "        o_cols.append(\"year\")\n",
    "    else:\n",
    "        continue\n",
    "    \n",
    "    \n",
    "    # Iterating through rows: Offense\n",
    "    if offense_table:\n",
    "        for i in offense_table.find_all('tr'):\n",
    "            # Empty team container\n",
    "            team = []\n",
    "\n",
    "            # finding and adding the team ranking to the list\n",
    "            rank = i.find('th')\n",
    "            team.append(rank.text)\n",
    "\n",
    "            # Finding rest of the team data with 'td' attribute\n",
    "            row = i.find_all('td')\n",
    "\n",
    "            # Iterating through columns\n",
    "            if len(row) == 0:\n",
    "                continue\n",
    "            else:\n",
    "                for a in row:\n",
    "                    team.append(a.text)\n",
    "                team.append(year)\n",
    "            offense_list.append(team)\n",
    "        print('got offense data')\n",
    "    else:\n",
    "        print(\"There is no offensive table this year\")   \n",
    "        \n",
    "    sleep(2)\n",
    "\n",
    "\n",
    " \n",
    "    # going to current year defensive page\n",
    "    driver.get(defense_link)\n",
    "    \n",
    "    # creating defense soup for current year in loop\n",
    "    defense_soup = BeautifulSoup(driver.page_source)\n",
    "    \n",
    "    \n",
    "    # Gather defensive stats for each team\n",
    "    # Collect Defense Table\n",
    "    defense_table = defense_soup.find('table', {'id': 'defense'})\n",
    "    \n",
    "    # header names: Defense\n",
    "    if defense_table:\n",
    "        d_cols = []\n",
    "        for i in defense_table.find_all('tr')[1]:  \n",
    "            for a in i:\n",
    "                if a == '\\n':\n",
    "                    continue\n",
    "                else:\n",
    "                    d_cols.append(a)\n",
    "        d_cols.append(\"year\")\n",
    "    else:\n",
    "        continue\n",
    "    \n",
    "    # Iterating through rows: Defense\n",
    "    if defense_table:\n",
    "        for i in defense_table.find_all('tr'):\n",
    "            # Empty team container\n",
    "            team = []\n",
    "\n",
    "            # finding and adding the team ranking to the list\n",
    "            rank = i.find('th')\n",
    "            team.append(rank.text)\n",
    "\n",
    "            # Finding rest of the team data with 'td' attribute\n",
    "            row = i.find_all('td')\n",
    "\n",
    "            # Iterating through columns\n",
    "            if len(row) == 0:\n",
    "                continue\n",
    "            else:\n",
    "                for a in row:\n",
    "                    team.append(a.text)\n",
    "                team.append(year)\n",
    "            defense_list.append(team)\n",
    "        print('got defense data')\n",
    "    else:\n",
    "        print(\"There is no defensive table this year\")\n",
    "    \n",
    "\n",
    "    sleep(2)\n",
    "\n",
    "\n",
    "# creating DataFrames\n",
    "stand_df = pd.DataFrame(stand_list, columns=cols)\n",
    "offense_df = pd.DataFrame(offense_list, columns=o_cols)\n",
    "defense_df = pd.DataFrame(defense_list, columns=d_cols)\n",
    "\n",
    "stop = datetime.now()\n",
    "print(f'The total time passed during scrape (hh:mm:ss:ms) is: {stop - start}')\n",
    "\n",
    "driver.quit()"
   ]
  },
  {
   "cell_type": "code",
   "execution_count": null,
   "metadata": {},
   "outputs": [],
   "source": [
    "print(stand_df.shape)\n",
    "stand_df"
   ]
  },
  {
   "cell_type": "code",
   "execution_count": null,
   "metadata": {},
   "outputs": [],
   "source": [
    "print(offense_df.shape)\n",
    "offense_df"
   ]
  },
  {
   "cell_type": "code",
   "execution_count": null,
   "metadata": {},
   "outputs": [],
   "source": [
    "offense_df.columns"
   ]
  },
  {
   "cell_type": "code",
   "execution_count": null,
   "metadata": {},
   "outputs": [],
   "source": [
    "o_columns = ['off_Rk', 'School', 'G', 'Pts', 'pass_cmp', 'pass_Att', 'cmp_Pct', 'pass_Yds', 'pass_TD', 'rush_Att',\n",
    "       'rush_Yds', 'rush_Avg', 'rush_TD', 'Plays', 'Yds', 'Avg_Yds', '1st_down_Pass', '1st_down_Rush', '1st_down_Pen', '1st_down_Tot',\n",
    "       'pen_No.', 'pen_Yds', 'Fum', 'Int', 'TO_Tot', 'year']\n",
    "\n",
    "offense_df.columns = o_columns\n",
    "\n",
    "offense_df.columns"
   ]
  },
  {
   "cell_type": "code",
   "execution_count": null,
   "metadata": {},
   "outputs": [],
   "source": [
    "print(defense_df.shape)\n",
    "defense_df"
   ]
  },
  {
   "cell_type": "code",
   "execution_count": null,
   "metadata": {},
   "outputs": [],
   "source": [
    "defense_df.columns"
   ]
  },
  {
   "cell_type": "code",
   "execution_count": null,
   "metadata": {},
   "outputs": [],
   "source": [
    "d_columns = ['def_Rk', 'School', 'G', 'opp_Pts', 'opp_cmp', 'opp_pass_Att', 'opp_cmp_Pct', 'opp_ass_Yds', 'opp_pass_TD', 'opp_rush_Att',\n",
    "       'opp_rush_Yds', 'opp_rush_Avg', 'opp_rush_TD', 'opp_Plays', 'opp_Yds', 'opp_Avg_Yds', 'opp_1st_down_Pass', 'opp_1st_down_Rush', 'opp_1st_down_Pen', 'opp_1st_down_Tot',\n",
    "       'opp_pen_No.', 'opp_pen_Yds', 'opp_Fum', 'opp_Int', 'opp_TO_Tot', 'year']\n",
    "\n",
    "defense_df.columns = d_columns\n",
    "\n",
    "defense_df.columns"
   ]
  },
  {
   "cell_type": "markdown",
   "metadata": {},
   "source": [
    "## Exports"
   ]
  },
  {
   "cell_type": "code",
   "execution_count": null,
   "metadata": {},
   "outputs": [],
   "source": [
    "stand_df.to_csv('../data/college_standings_1995_1985.csv', index=False)"
   ]
  },
  {
   "cell_type": "code",
   "execution_count": null,
   "metadata": {},
   "outputs": [],
   "source": [
    "offense_df.to_csv('../data/college_offense_stats_1995_1985.csv', index=False)"
   ]
  },
  {
   "cell_type": "code",
   "execution_count": null,
   "metadata": {},
   "outputs": [],
   "source": [
    "defense_df.to_csv('../data/college_defense_stats_1995_1985.csv', index=False)"
   ]
  },
  {
   "cell_type": "code",
   "execution_count": null,
   "metadata": {},
   "outputs": [],
   "source": []
  },
  {
   "cell_type": "code",
   "execution_count": null,
   "metadata": {},
   "outputs": [],
   "source": []
  }
 ],
 "metadata": {
  "kernelspec": {
   "display_name": "Python 3",
   "language": "python",
   "name": "python3"
  },
  "language_info": {
   "codemirror_mode": {
    "name": "ipython",
    "version": 3
   },
   "file_extension": ".py",
   "mimetype": "text/x-python",
   "name": "python",
   "nbconvert_exporter": "python",
   "pygments_lexer": "ipython3",
   "version": "3.7.4"
  }
 },
 "nbformat": 4,
 "nbformat_minor": 2
}
