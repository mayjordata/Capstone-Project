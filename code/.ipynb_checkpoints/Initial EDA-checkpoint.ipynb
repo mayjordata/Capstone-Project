{
 "cells": [
  {
   "cell_type": "code",
   "execution_count": 1,
   "metadata": {},
   "outputs": [],
   "source": [
    "import pandas as pd\n",
    "import numpy as np\n",
    "import matplotlib.pyplot as plt\n",
    "import seaborn as sns\n",
    "\n",
    "plt.style.use('bmh')\n",
    "\n",
    "# Webcraping packages\n",
    "import requests\n",
    "from bs4 import BeautifulSoup\n",
    "from time import sleep\n",
    "from datetime import datetime\n",
    "\n",
    "from selenium import webdriver"
   ]
  },
  {
   "cell_type": "markdown",
   "metadata": {},
   "source": [
    "## Imports"
   ]
  },
  {
   "cell_type": "markdown",
   "metadata": {},
   "source": [
    "### NFL"
   ]
  },
  {
   "cell_type": "code",
   "execution_count": 2,
   "metadata": {},
   "outputs": [],
   "source": [
    "# Overall Team Data\n",
    "team_df1 = pd.read_csv('../data/teams_2019_2015.csv')\n",
    "team_df2 = pd.read_csv('../data/teams_2014_1970.csv')"
   ]
  },
  {
   "cell_type": "code",
   "execution_count": 3,
   "metadata": {},
   "outputs": [],
   "source": [
    "# Passing Data\n",
    "pass_df1 = pd.read_csv('../data/pass_2019_2015.csv')\n",
    "pass_df2 = pd.read_csv('../data/pass_2014_1970.csv')"
   ]
  },
  {
   "cell_type": "code",
   "execution_count": 4,
   "metadata": {},
   "outputs": [],
   "source": [
    "# Rushing Data\n",
    "rush_df = pd.read_csv('../data/rush_stats.csv')"
   ]
  },
  {
   "cell_type": "code",
   "execution_count": 5,
   "metadata": {},
   "outputs": [],
   "source": [
    "# Defense Data\n",
    "def_df = pd.read_csv('../data/defensive_stats.csv')"
   ]
  },
  {
   "cell_type": "markdown",
   "metadata": {},
   "source": [
    "### College"
   ]
  },
  {
   "cell_type": "code",
   "execution_count": 6,
   "metadata": {},
   "outputs": [],
   "source": [
    "college_stand_df = pd.read_csv('../data/college_standings_2019_1996.csv')"
   ]
  },
  {
   "cell_type": "code",
   "execution_count": 7,
   "metadata": {},
   "outputs": [],
   "source": [
    "college_off_df = pd.read_csv('../data/college_offense_stats_2019_1996.csv')"
   ]
  },
  {
   "cell_type": "code",
   "execution_count": 8,
   "metadata": {},
   "outputs": [],
   "source": [
    "college_def_df = pd.read_csv('../data/college_defense_stats_2019_1996.csv')"
   ]
  },
  {
   "cell_type": "markdown",
   "metadata": {},
   "source": [
    "## Combining Data"
   ]
  },
  {
   "cell_type": "markdown",
   "metadata": {},
   "source": [
    "### Stacked Concatenation"
   ]
  },
  {
   "cell_type": "code",
   "execution_count": 9,
   "metadata": {},
   "outputs": [],
   "source": [
    "# Multiyear DataFrames - Stacking them dfs upon each other\n",
    "team_df = pd.concat([team_df1, team_df2], index=True)\n",
    "pass_df = pd.concat([pass_df1, pass_df2], index=True)"
   ]
  },
  {
   "cell_type": "markdown",
   "metadata": {},
   "source": [
    "### Merging DataFrames"
   ]
  },
  {
   "cell_type": "markdown",
   "metadata": {},
   "source": [
    "### NFL Stats"
   ]
  },
  {
   "cell_type": "code",
   "execution_count": 10,
   "metadata": {},
   "outputs": [
    {
     "data": {
      "text/plain": [
       "(1477, 34)"
      ]
     },
     "execution_count": 10,
     "metadata": {},
     "output_type": "execute_result"
    }
   ],
   "source": [
    "# Merging team & passsing DataFrames\n",
    "df1 = pd.merge(team_df, pass_df, left_on=['team','year'], right_on=['team','year'])\n",
    "df1.shape"
   ]
  },
  {
   "cell_type": "markdown",
   "metadata": {},
   "source": [
    "* I am merging all of the passing stats with the team stats DataFrame by the team name & year so that the stats match up."
   ]
  },
  {
   "cell_type": "code",
   "execution_count": 11,
   "metadata": {},
   "outputs": [
    {
     "data": {
      "text/plain": [
       "(1477, 43)"
      ]
     },
     "execution_count": 11,
     "metadata": {},
     "output_type": "execute_result"
    }
   ],
   "source": [
    "df2 = pd.merge(df1, rush_df, left_on=['team','year'], right_on=['team','year'])\n",
    "df2.shape"
   ]
  },
  {
   "cell_type": "markdown",
   "metadata": {},
   "source": [
    "* Performing the same merge with the previously merged DataFrame, but with the rushing stats."
   ]
  },
  {
   "cell_type": "code",
   "execution_count": 12,
   "metadata": {},
   "outputs": [
    {
     "data": {
      "text/plain": [
       "(1477, 69)"
      ]
     },
     "execution_count": 12,
     "metadata": {},
     "output_type": "execute_result"
    }
   ],
   "source": [
    "df = pd.merge(df2, def_df, left_on=['team','year'], right_on=['team','year'])\n",
    "df.shape"
   ]
  },
  {
   "cell_type": "markdown",
   "metadata": {},
   "source": [
    "* Performing the same merge with the previously merged DataFrame, but with the defensive stats. I now have one master DataFrame, that includes all of the statistics together, per team and year, that I can perform my analysis on."
   ]
  },
  {
   "cell_type": "code",
   "execution_count": 13,
   "metadata": {},
   "outputs": [],
   "source": [
    "df.drop(columns='game_y', inplace=True)"
   ]
  },
  {
   "cell_type": "code",
   "execution_count": 14,
   "metadata": {},
   "outputs": [],
   "source": [
    "df.rename(columns={'game_x':'game'}, inplace=True)"
   ]
  },
  {
   "cell_type": "markdown",
   "metadata": {},
   "source": [
    "* Removing duplicate game columns, because we only need one column that shows this statistic."
   ]
  },
  {
   "cell_type": "code",
   "execution_count": 15,
   "metadata": {},
   "outputs": [
    {
     "data": {
      "text/plain": [
       "(1477, 68)"
      ]
     },
     "execution_count": 15,
     "metadata": {},
     "output_type": "execute_result"
    }
   ],
   "source": [
    "df.shape"
   ]
  },
  {
   "cell_type": "code",
   "execution_count": 16,
   "metadata": {},
   "outputs": [
    {
     "data": {
      "text/html": [
       "<div>\n",
       "<style scoped>\n",
       "    .dataframe tbody tr th:only-of-type {\n",
       "        vertical-align: middle;\n",
       "    }\n",
       "\n",
       "    .dataframe tbody tr th {\n",
       "        vertical-align: top;\n",
       "    }\n",
       "\n",
       "    .dataframe thead th {\n",
       "        text-align: right;\n",
       "    }\n",
       "</style>\n",
       "<table border=\"1\" class=\"dataframe\">\n",
       "  <thead>\n",
       "    <tr style=\"text-align: right;\">\n",
       "      <th></th>\n",
       "      <th>team</th>\n",
       "      <th>year</th>\n",
       "      <th>wins</th>\n",
       "      <th>losses</th>\n",
       "      <th>ties</th>\n",
       "      <th>win_loss_perc</th>\n",
       "      <th>points_scored</th>\n",
       "      <th>opp_points</th>\n",
       "      <th>points_diff</th>\n",
       "      <th>margin_of_victory</th>\n",
       "      <th>...</th>\n",
       "      <th>opp_rush_yds</th>\n",
       "      <th>opp_rush_td</th>\n",
       "      <th>opp_rush_y/a</th>\n",
       "      <th>opp_rush_1stD</th>\n",
       "      <th>def_pen</th>\n",
       "      <th>def_pen_yds</th>\n",
       "      <th>def_pen_1stD</th>\n",
       "      <th>opp_score_pct</th>\n",
       "      <th>turnover_pct</th>\n",
       "      <th>def_exp</th>\n",
       "    </tr>\n",
       "  </thead>\n",
       "  <tbody>\n",
       "    <tr>\n",
       "      <td>0</td>\n",
       "      <td>New England Patriots</td>\n",
       "      <td>2019</td>\n",
       "      <td>8</td>\n",
       "      <td>1</td>\n",
       "      <td>0.0</td>\n",
       "      <td>0.889</td>\n",
       "      <td>270</td>\n",
       "      <td>98</td>\n",
       "      <td>172</td>\n",
       "      <td>19.1</td>\n",
       "      <td>...</td>\n",
       "      <td>892</td>\n",
       "      <td>5</td>\n",
       "      <td>4.7</td>\n",
       "      <td>38</td>\n",
       "      <td>59</td>\n",
       "      <td>510</td>\n",
       "      <td>21</td>\n",
       "      <td>11.4</td>\n",
       "      <td>21.9</td>\n",
       "      <td>162.44</td>\n",
       "    </tr>\n",
       "    <tr>\n",
       "      <td>1</td>\n",
       "      <td>Buffalo Bills</td>\n",
       "      <td>2019</td>\n",
       "      <td>6</td>\n",
       "      <td>3</td>\n",
       "      <td>0.0</td>\n",
       "      <td>0.667</td>\n",
       "      <td>174</td>\n",
       "      <td>150</td>\n",
       "      <td>24</td>\n",
       "      <td>2.7</td>\n",
       "      <td>...</td>\n",
       "      <td>1040</td>\n",
       "      <td>9</td>\n",
       "      <td>4.5</td>\n",
       "      <td>54</td>\n",
       "      <td>56</td>\n",
       "      <td>463</td>\n",
       "      <td>14</td>\n",
       "      <td>23.8</td>\n",
       "      <td>9.9</td>\n",
       "      <td>14.81</td>\n",
       "    </tr>\n",
       "  </tbody>\n",
       "</table>\n",
       "<p>2 rows × 68 columns</p>\n",
       "</div>"
      ],
      "text/plain": [
       "                   team  year  wins  losses  ties  win_loss_perc  \\\n",
       "0  New England Patriots  2019     8       1   0.0          0.889   \n",
       "1         Buffalo Bills  2019     6       3   0.0          0.667   \n",
       "\n",
       "   points_scored  opp_points  points_diff  margin_of_victory  ...  \\\n",
       "0            270          98          172               19.1  ...   \n",
       "1            174         150           24                2.7  ...   \n",
       "\n",
       "   opp_rush_yds  opp_rush_td  opp_rush_y/a  opp_rush_1stD  def_pen  \\\n",
       "0           892            5           4.7             38       59   \n",
       "1          1040            9           4.5             54       56   \n",
       "\n",
       "   def_pen_yds  def_pen_1stD  opp_score_pct  turnover_pct  def_exp  \n",
       "0          510            21           11.4          21.9   162.44  \n",
       "1          463            14           23.8           9.9    14.81  \n",
       "\n",
       "[2 rows x 68 columns]"
      ]
     },
     "execution_count": 16,
     "metadata": {},
     "output_type": "execute_result"
    }
   ],
   "source": [
    "df.head(2)"
   ]
  },
  {
   "cell_type": "code",
   "execution_count": 17,
   "metadata": {},
   "outputs": [],
   "source": [
    "current_NFL = df[(df['year'] > 2013) & (df['year'] < 2019)]"
   ]
  },
  {
   "cell_type": "markdown",
   "metadata": {},
   "source": [
    "* Selecting 5 NFL years between 2014 - 2018 to be used in my recommender data. I want to use more recent years because teams looks different over the course of years because of player and coaching turnover, along with other factors. \n",
    "* I am not including 2019, because as of now (November 2019) the season is still under way and I want to use full season data."
   ]
  },
  {
   "cell_type": "markdown",
   "metadata": {},
   "source": [
    "### College Football Stats"
   ]
  },
  {
   "cell_type": "code",
   "execution_count": 18,
   "metadata": {},
   "outputs": [
    {
     "data": {
      "text/plain": [
       "(2428, 42)"
      ]
     },
     "execution_count": 18,
     "metadata": {},
     "output_type": "execute_result"
    }
   ],
   "source": [
    "cdf1 = pd.merge(college_stand_df, college_off_df, left_on=['School','year'], right_on=['School','year'])\n",
    "cdf1.shape"
   ]
  },
  {
   "cell_type": "markdown",
   "metadata": {},
   "source": [
    "* Merging the College offensive DataFrame upon the overall College Standings DataFrame by the school and year."
   ]
  },
  {
   "cell_type": "code",
   "execution_count": 19,
   "metadata": {},
   "outputs": [
    {
     "data": {
      "text/plain": [
       "(2428, 66)"
      ]
     },
     "execution_count": 19,
     "metadata": {},
     "output_type": "execute_result"
    }
   ],
   "source": [
    "cdf = pd.merge(cdf1, college_def_df, left_on=['School','year'], right_on=['School','year'])\n",
    "cdf.shape"
   ]
  },
  {
   "cell_type": "markdown",
   "metadata": {},
   "source": [
    "* Merging the College Defensive stats upon the previously merged DataFrame for one master."
   ]
  },
  {
   "cell_type": "code",
   "execution_count": 20,
   "metadata": {},
   "outputs": [
    {
     "data": {
      "text/html": [
       "<div>\n",
       "<style scoped>\n",
       "    .dataframe tbody tr th:only-of-type {\n",
       "        vertical-align: middle;\n",
       "    }\n",
       "\n",
       "    .dataframe tbody tr th {\n",
       "        vertical-align: top;\n",
       "    }\n",
       "\n",
       "    .dataframe thead th {\n",
       "        text-align: right;\n",
       "    }\n",
       "</style>\n",
       "<table border=\"1\" class=\"dataframe\">\n",
       "  <thead>\n",
       "    <tr style=\"text-align: right;\">\n",
       "      <th></th>\n",
       "      <th>Rk</th>\n",
       "      <th>School</th>\n",
       "      <th>Conf</th>\n",
       "      <th>W</th>\n",
       "      <th>L</th>\n",
       "      <th>Pct</th>\n",
       "      <th>W.1</th>\n",
       "      <th>L.1</th>\n",
       "      <th>Pct.1</th>\n",
       "      <th>Off</th>\n",
       "      <th>...</th>\n",
       "      <th>opp_Avg_Yds</th>\n",
       "      <th>opp_1st_down_Pass</th>\n",
       "      <th>opp_1st_down_Rush</th>\n",
       "      <th>opp_1st_down_Pen</th>\n",
       "      <th>opp_1st_down_Tot</th>\n",
       "      <th>opp_pen_No.</th>\n",
       "      <th>opp_pen_Yds</th>\n",
       "      <th>opp_Fum</th>\n",
       "      <th>opp_Int</th>\n",
       "      <th>opp_TO_Tot</th>\n",
       "    </tr>\n",
       "  </thead>\n",
       "  <tbody>\n",
       "    <tr>\n",
       "      <td>0</td>\n",
       "      <td>1</td>\n",
       "      <td>Clemson</td>\n",
       "      <td>ACC (Atlantic)</td>\n",
       "      <td>11</td>\n",
       "      <td>0</td>\n",
       "      <td>1.0</td>\n",
       "      <td>8.0</td>\n",
       "      <td>0.0</td>\n",
       "      <td>1.0</td>\n",
       "      <td>45.9</td>\n",
       "      <td>...</td>\n",
       "      <td>3.9</td>\n",
       "      <td>5.0</td>\n",
       "      <td>5.6</td>\n",
       "      <td>1.2</td>\n",
       "      <td>11.8</td>\n",
       "      <td>5.5</td>\n",
       "      <td>51.7</td>\n",
       "      <td>1.0</td>\n",
       "      <td>1.2</td>\n",
       "      <td>2.2</td>\n",
       "    </tr>\n",
       "    <tr>\n",
       "      <td>1</td>\n",
       "      <td>2</td>\n",
       "      <td>Wake Forest</td>\n",
       "      <td>ACC (Atlantic)</td>\n",
       "      <td>7</td>\n",
       "      <td>3</td>\n",
       "      <td>0.7</td>\n",
       "      <td>3.0</td>\n",
       "      <td>3.0</td>\n",
       "      <td>0.5</td>\n",
       "      <td>32.4</td>\n",
       "      <td>...</td>\n",
       "      <td>5.8</td>\n",
       "      <td>11.4</td>\n",
       "      <td>8.1</td>\n",
       "      <td>1.2</td>\n",
       "      <td>20.7</td>\n",
       "      <td>6.2</td>\n",
       "      <td>52.9</td>\n",
       "      <td>0.8</td>\n",
       "      <td>1.0</td>\n",
       "      <td>1.8</td>\n",
       "    </tr>\n",
       "  </tbody>\n",
       "</table>\n",
       "<p>2 rows × 66 columns</p>\n",
       "</div>"
      ],
      "text/plain": [
       "   Rk       School            Conf   W  L  Pct  W.1  L.1  Pct.1   Off  ...  \\\n",
       "0   1      Clemson  ACC (Atlantic)  11  0  1.0  8.0  0.0    1.0  45.9  ...   \n",
       "1   2  Wake Forest  ACC (Atlantic)   7  3  0.7  3.0  3.0    0.5  32.4  ...   \n",
       "\n",
       "   opp_Avg_Yds  opp_1st_down_Pass  opp_1st_down_Rush  opp_1st_down_Pen  \\\n",
       "0          3.9                5.0                5.6               1.2   \n",
       "1          5.8               11.4                8.1               1.2   \n",
       "\n",
       "   opp_1st_down_Tot  opp_pen_No. opp_pen_Yds  opp_Fum  opp_Int  opp_TO_Tot  \n",
       "0              11.8          5.5        51.7      1.0      1.2         2.2  \n",
       "1              20.7          6.2        52.9      0.8      1.0         1.8  \n",
       "\n",
       "[2 rows x 66 columns]"
      ]
     },
     "execution_count": 20,
     "metadata": {},
     "output_type": "execute_result"
    }
   ],
   "source": [
    "cdf.head(2)"
   ]
  },
  {
   "cell_type": "code",
   "execution_count": 21,
   "metadata": {},
   "outputs": [],
   "source": [
    "current_College = cdf[(cdf['year'] > 2013) & (cdf['year'] < 2019)]"
   ]
  },
  {
   "cell_type": "code",
   "execution_count": 22,
   "metadata": {},
   "outputs": [
    {
     "data": {
      "text/plain": [
       "Index(['Rk', 'School', 'Conf', 'W', 'L', 'Pct', 'W.1', 'L.1', 'Pct.1', 'Off',\n",
       "       'Def', 'SRS', 'SOS', 'AP Pre', 'AP High', 'AP Rank', 'Notes', 'year',\n",
       "       'off_Rk', 'G_x', 'Pts', 'pass_cmp', 'pass_Att', 'cmp_Pct', 'pass_Yds',\n",
       "       'pass_TD', 'rush_Att', 'rush_Yds', 'rush_Avg', 'rush_TD', 'Plays',\n",
       "       'Yds', 'Avg_Yds', '1st_down_Pass', '1st_down_Rush', '1st_down_Pen',\n",
       "       '1st_down_Tot', 'pen_No.', 'pen_Yds', 'Fum', 'Int', 'TO_Tot', 'def_Rk',\n",
       "       'G_y', 'opp_Pts', 'opp_cmp', 'opp_pass_Att', 'opp_cmp_Pct',\n",
       "       'opp_ass_Yds', 'opp_pass_TD', 'opp_rush_Att', 'opp_rush_Yds',\n",
       "       'opp_rush_Avg', 'opp_rush_TD', 'opp_Plays', 'opp_Yds', 'opp_Avg_Yds',\n",
       "       'opp_1st_down_Pass', 'opp_1st_down_Rush', 'opp_1st_down_Pen',\n",
       "       'opp_1st_down_Tot', 'opp_pen_No.', 'opp_pen_Yds', 'opp_Fum', 'opp_Int',\n",
       "       'opp_TO_Tot'],\n",
       "      dtype='object')"
      ]
     },
     "execution_count": 22,
     "metadata": {},
     "output_type": "execute_result"
    }
   ],
   "source": [
    "current_College.columns"
   ]
  },
  {
   "cell_type": "code",
   "execution_count": 23,
   "metadata": {},
   "outputs": [
    {
     "data": {
      "text/plain": [
       "Index(['team', 'year', 'wins', 'losses', 'ties', 'win_loss_perc',\n",
       "       'points_scored', 'opp_points', 'points_diff', 'margin_of_victory',\n",
       "       'SoS', 'SRS', 'OSRS', 'DSRS', 'game', 'comp', 'attempts', 'comp_perc',\n",
       "       'pass_yards', 'pass_tds', 'pass_td_perc', 'int', 'int_perc',\n",
       "       'pass_long', 'pass_y/a', 'y/c', 'pass_y/g', 'QB_rate', 'sacks',\n",
       "       'sack_yds', 'sack_perc', 'qb_comebacks', 'qb_gwd', 'pass_exp',\n",
       "       'rush_att', 'rush_yards', 'rush_tds', 'rush_long', 'rush_y/a',\n",
       "       'rush_y/g', 'fumbles', 'rush_exp', 'game', 'points_allow', 'opp_yards',\n",
       "       'opp_plays', 'opp_y/p', 'turnover', 'opp_fumb', 'opp_1stD', 'opp_comp',\n",
       "       'opp_pass_att', 'opp_pass_yds', 'opp_pass_td', 'def_int', 'opp_Ny/a',\n",
       "       'opp_pass_1stD', 'opp_rush_att', 'opp_rush_yds', 'opp_rush_td',\n",
       "       'opp_rush_y/a', 'opp_rush_1stD', 'def_pen', 'def_pen_yds',\n",
       "       'def_pen_1stD', 'opp_score_pct', 'turnover_pct', 'def_exp'],\n",
       "      dtype='object')"
      ]
     },
     "execution_count": 23,
     "metadata": {},
     "output_type": "execute_result"
    }
   ],
   "source": [
    "current_NFL.columns"
   ]
  },
  {
   "cell_type": "code",
   "execution_count": 24,
   "metadata": {},
   "outputs": [],
   "source": [
    "col_drop = ['ties','opp_points','points_diff', 'margin_of_victory', 'OSRS', 'DSRS', 'pass_td_perc',\n",
    "           'int_perc', 'pass_long','pass_yards','pass_y/a', 'y/c', 'QB_rate', 'sacks',\n",
    "            'sack_yds', 'sack_perc', 'qb_comebacks', 'qb_gwd', 'pass_exp', \n",
    "           'rush_long', 'rush_yards','rush_y/a', 'rush_exp','opp_Ny/a', 'opp_pass_1stD',\n",
    "            'opp_rush_y/a' ,'opp_1stD', 'opp_pass_1stD', 'opp_rush_1stD', 'def_pen', \n",
    "            'def_pen_yds', 'def_pen_1stD', 'opp_score_pct', 'turnover_pct', 'def_exp']\n",
    "current_NFL = current_NFL.drop(columns=col_drop).copy()"
   ]
  },
  {
   "cell_type": "code",
   "execution_count": 25,
   "metadata": {},
   "outputs": [
    {
     "name": "stdout",
     "output_type": "stream",
     "text": [
      "<class 'pandas.core.frame.DataFrame'>\n",
      "Int64Index: 160 entries, 32 to 191\n",
      "Data columns (total 34 columns):\n",
      "team             160 non-null object\n",
      "year             160 non-null int64\n",
      "wins             160 non-null int64\n",
      "losses           160 non-null int64\n",
      "win_loss_perc    160 non-null float64\n",
      "points_scored    160 non-null int64\n",
      "SoS              160 non-null float64\n",
      "SRS              160 non-null float64\n",
      "game             160 non-null int64\n",
      "comp             160 non-null int64\n",
      "attempts         160 non-null int64\n",
      "comp_perc        160 non-null float64\n",
      "pass_tds         160 non-null int64\n",
      "int              160 non-null int64\n",
      "pass_y/g         160 non-null float64\n",
      "rush_att         160 non-null int64\n",
      "rush_tds         160 non-null int64\n",
      "rush_y/g         160 non-null float64\n",
      "fumbles          160 non-null int64\n",
      "game             160 non-null int64\n",
      "points_allow     160 non-null int64\n",
      "opp_yards        160 non-null int64\n",
      "opp_plays        160 non-null int64\n",
      "opp_y/p          160 non-null float64\n",
      "turnover         160 non-null int64\n",
      "opp_fumb         160 non-null int64\n",
      "opp_comp         160 non-null int64\n",
      "opp_pass_att     160 non-null int64\n",
      "opp_pass_yds     160 non-null int64\n",
      "opp_pass_td      160 non-null int64\n",
      "def_int          160 non-null int64\n",
      "opp_rush_att     160 non-null int64\n",
      "opp_rush_yds     160 non-null int64\n",
      "opp_rush_td      160 non-null int64\n",
      "dtypes: float64(7), int64(26), object(1)\n",
      "memory usage: 43.8+ KB\n"
     ]
    }
   ],
   "source": [
    "current_NFL.info()"
   ]
  },
  {
   "cell_type": "code",
   "execution_count": 26,
   "metadata": {},
   "outputs": [],
   "source": [
    "col_drop2 = ['Rk','W.1', 'L.1', 'Pct.1','AP Pre', 'AP High', 'AP Rank', 'Notes', 'off_Rk','Pts',\n",
    "            '1st_down_Pass', '1st_down_Rush', '1st_down_Pen', '1st_down_Tot', 'pen_No.', 'pen_Yds', 'def_Rk', 'G_y',\n",
    "            'opp_Pts', 'opp_1st_down_Pass', 'opp_1st_down_Rush', 'opp_1st_down_Pen',\n",
    "       'opp_1st_down_Tot', 'opp_pen_No.', 'opp_pen_Yds']\n",
    "current_College = current_College.drop(columns=col_drop2).copy()"
   ]
  },
  {
   "cell_type": "markdown",
   "metadata": {},
   "source": [
    "Dropping the columns that I don't need moving forward. This is mainly determined by what columns are not included in the NFL DataFrame."
   ]
  },
  {
   "cell_type": "code",
   "execution_count": 27,
   "metadata": {},
   "outputs": [
    {
     "name": "stdout",
     "output_type": "stream",
     "text": [
      "<class 'pandas.core.frame.DataFrame'>\n",
      "Int64Index: 639 entries, 129 to 767\n",
      "Data columns (total 41 columns):\n",
      "School          639 non-null object\n",
      "Conf            639 non-null object\n",
      "W               639 non-null int64\n",
      "L               639 non-null int64\n",
      "Pct             639 non-null float64\n",
      "Off             639 non-null float64\n",
      "Def             639 non-null float64\n",
      "SRS             639 non-null float64\n",
      "SOS             639 non-null float64\n",
      "year            639 non-null int64\n",
      "G_x             639 non-null int64\n",
      "pass_cmp        639 non-null float64\n",
      "pass_Att        639 non-null float64\n",
      "cmp_Pct         639 non-null float64\n",
      "pass_Yds        639 non-null float64\n",
      "pass_TD         639 non-null float64\n",
      "rush_Att        639 non-null float64\n",
      "rush_Yds        639 non-null float64\n",
      "rush_Avg        639 non-null float64\n",
      "rush_TD         639 non-null float64\n",
      "Plays           639 non-null float64\n",
      "Yds             639 non-null float64\n",
      "Avg_Yds         639 non-null float64\n",
      "Fum             639 non-null float64\n",
      "Int             639 non-null float64\n",
      "TO_Tot          639 non-null float64\n",
      "opp_cmp         639 non-null float64\n",
      "opp_pass_Att    639 non-null float64\n",
      "opp_cmp_Pct     639 non-null float64\n",
      "opp_ass_Yds     639 non-null float64\n",
      "opp_pass_TD     639 non-null float64\n",
      "opp_rush_Att    639 non-null float64\n",
      "opp_rush_Yds    639 non-null float64\n",
      "opp_rush_Avg    639 non-null float64\n",
      "opp_rush_TD     639 non-null float64\n",
      "opp_Plays       639 non-null float64\n",
      "opp_Yds         639 non-null float64\n",
      "opp_Avg_Yds     639 non-null float64\n",
      "opp_Fum         639 non-null float64\n",
      "opp_Int         639 non-null float64\n",
      "opp_TO_Tot      639 non-null float64\n",
      "dtypes: float64(35), int64(4), object(2)\n",
      "memory usage: 209.7+ KB\n"
     ]
    }
   ],
   "source": [
    "current_College.info()"
   ]
  },
  {
   "cell_type": "markdown",
   "metadata": {},
   "source": [
    "* To make sure both the NFL & college DataFrames have common columns I will drop columns that does not exist in both from the NFL."
   ]
  },
  {
   "cell_type": "markdown",
   "metadata": {},
   "source": [
    "## EDA"
   ]
  },
  {
   "cell_type": "markdown",
   "metadata": {},
   "source": [
    "### NFL\n",
    "---"
   ]
  },
  {
   "cell_type": "code",
   "execution_count": 28,
   "metadata": {},
   "outputs": [
    {
     "data": {
      "text/plain": [
       "32     378\n",
       "33     292\n",
       "34     271\n",
       "35     299\n",
       "36     334\n",
       "      ... \n",
       "187    301\n",
       "188    287\n",
       "189    320\n",
       "190    292\n",
       "191    327\n",
       "Name: comp, Length: 160, dtype: int64"
      ]
     },
     "execution_count": 28,
     "metadata": {},
     "output_type": "execute_result"
    }
   ],
   "source": [
    "current_NFL['comp']"
   ]
  },
  {
   "cell_type": "code",
   "execution_count": 29,
   "metadata": {},
   "outputs": [],
   "source": [
    "nfl_per_cols = ['comp', 'attempts','pass_tds','int','rush_att','rush_tds','fumbles',\n",
    "                'points_allow','opp_yards','opp_plays','turnover','opp_fumb','opp_comp','opp_pass_att',\n",
    "                'opp_pass_yds','opp_pass_td','def_int','opp_rush_att','opp_rush_yds','opp_rush_td']"
   ]
  },
  {
   "cell_type": "markdown",
   "metadata": {},
   "source": [
    "This list of columns will be the list of columns that I want to apply the per game average to."
   ]
  },
  {
   "cell_type": "code",
   "execution_count": 30,
   "metadata": {},
   "outputs": [],
   "source": [
    "current_NFL = current_NFL.apply(lambda x: x/16 if x.name in nfl_per_cols else x)"
   ]
  },
  {
   "cell_type": "markdown",
   "metadata": {},
   "source": [
    "Recalculating each column to a per game basis by dividing by the number of games the NFL plays. I am doing this to properly match the stats with the college DataFrame. All of the stats in that DataFrame is on a per game basis. This helps because since both platforms plays a different amount of games, they will be compared on a similar level."
   ]
  },
  {
   "cell_type": "code",
   "execution_count": 31,
   "metadata": {},
   "outputs": [],
   "source": [
    "# 'rush_att','rush_tds','fumbles','points_allow','opp_yards','opp_plays','turnover','opp_fumb','opp_comp','opp_pass_att','opp_pass_yds','opp_pass_td','def_int','opp_rush_att','opp_rush_yds','opp_rush_td'"
   ]
  },
  {
   "cell_type": "code",
   "execution_count": 32,
   "metadata": {},
   "outputs": [
    {
     "data": {
      "text/plain": [
       "Index(['team', 'year', 'wins', 'losses', 'win_loss_perc', 'points_scored',\n",
       "       'SoS', 'SRS', 'game', 'comp', 'attempts', 'comp_perc', 'pass_tds',\n",
       "       'int', 'pass_y/g', 'rush_att', 'rush_tds', 'rush_y/g', 'fumbles',\n",
       "       'game', 'points_allow', 'opp_yards', 'opp_plays', 'opp_y/p', 'turnover',\n",
       "       'opp_fumb', 'opp_comp', 'opp_pass_att', 'opp_pass_yds', 'opp_pass_td',\n",
       "       'def_int', 'opp_rush_att', 'opp_rush_yds', 'opp_rush_td'],\n",
       "      dtype='object')"
      ]
     },
     "execution_count": 32,
     "metadata": {},
     "output_type": "execute_result"
    }
   ],
   "source": [
    "current_NFL.columns"
   ]
  },
  {
   "cell_type": "code",
   "execution_count": 36,
   "metadata": {},
   "outputs": [
    {
     "name": "stdout",
     "output_type": "stream",
     "text": [
      "<class 'pandas.core.frame.DataFrame'>\n",
      "Int64Index: 160 entries, 32 to 191\n",
      "Data columns (total 34 columns):\n",
      "team             160 non-null object\n",
      "year             160 non-null int64\n",
      "game             160 non-null int64\n",
      "game             160 non-null int64\n",
      "wins             160 non-null int64\n",
      "losses           160 non-null int64\n",
      "win_loss_perc    160 non-null float64\n",
      "points_scored    160 non-null int64\n",
      "points_allow     160 non-null float64\n",
      "SRS              160 non-null float64\n",
      "SoS              160 non-null float64\n",
      "comp             160 non-null float64\n",
      "attempts         160 non-null float64\n",
      "comp_perc        160 non-null float64\n",
      "pass_y/g         160 non-null float64\n",
      "pass_tds         160 non-null float64\n",
      "rush_att         160 non-null float64\n",
      "rush_y/g         160 non-null float64\n",
      "rush_tds         160 non-null float64\n",
      "fumbles          160 non-null float64\n",
      "int              160 non-null float64\n",
      "opp_comp         160 non-null float64\n",
      "opp_pass_att     160 non-null float64\n",
      "opp_pass_yds     160 non-null float64\n",
      "opp_pass_td      160 non-null float64\n",
      "opp_rush_att     160 non-null float64\n",
      "opp_rush_yds     160 non-null float64\n",
      "opp_rush_td      160 non-null float64\n",
      "opp_plays        160 non-null float64\n",
      "opp_yards        160 non-null float64\n",
      "opp_y/p          160 non-null float64\n",
      "opp_fumb         160 non-null float64\n",
      "def_int          160 non-null float64\n",
      "turnover         160 non-null float64\n",
      "dtypes: float64(27), int64(6), object(1)\n",
      "memory usage: 43.8+ KB\n"
     ]
    }
   ],
   "source": [
    "current_NFL.info()"
   ]
  },
  {
   "cell_type": "markdown",
   "metadata": {},
   "source": [
    "Further processing of columns to line up to the college DataFrame"
   ]
  },
  {
   "cell_type": "code",
   "execution_count": 67,
   "metadata": {},
   "outputs": [],
   "source": [
    "# drop extra game column\n",
    "current_NFL = current_NFL.loc[:, ~current_NFL.columns.duplicated()]\n",
    "# combine turnovers - offensive\n",
    "current_NFL['TO_Tot'] = current_NFL['fumbles'] + current_NFL['int']\n",
    "# create a opponent completion percent category\n",
    "current_NFL['opp_comp_Pct'] = current_NFL['opp_comp'] / current_NFL['opp_pass_att']"
   ]
  },
  {
   "cell_type": "markdown",
   "metadata": {},
   "source": [
    "* Dropped the multipled game column.\n",
    "* Created a total turnover column for offense.\n",
    "* Created an opponent completion percentage column."
   ]
  },
  {
   "cell_type": "code",
   "execution_count": 69,
   "metadata": {},
   "outputs": [],
   "source": [
    "col_order = ['team', 'year','game','wins', 'losses', 'win_loss_perc', 'points_scored',\n",
    "             'points_allow','SRS', 'SoS','comp', 'attempts', 'comp_perc',\n",
    "             'pass_y/g','pass_tds','rush_att','rush_y/g','rush_tds','fumbles','int','TO_Tot',\n",
    "             'opp_comp','opp_pass_att','opp_comp_Pct','opp_pass_yds','opp_pass_td', \n",
    "             'opp_rush_att', 'opp_rush_yds','opp_rush_td','opp_plays','opp_yards',\n",
    "             'opp_y/p','opp_fumb','def_int','turnover']"
   ]
  },
  {
   "cell_type": "code",
   "execution_count": 70,
   "metadata": {},
   "outputs": [],
   "source": [
    "current_NFL = current_NFL[col_order]"
   ]
  },
  {
   "cell_type": "code",
   "execution_count": 71,
   "metadata": {},
   "outputs": [
    {
     "data": {
      "text/html": [
       "<div>\n",
       "<style scoped>\n",
       "    .dataframe tbody tr th:only-of-type {\n",
       "        vertical-align: middle;\n",
       "    }\n",
       "\n",
       "    .dataframe tbody tr th {\n",
       "        vertical-align: top;\n",
       "    }\n",
       "\n",
       "    .dataframe thead th {\n",
       "        text-align: right;\n",
       "    }\n",
       "</style>\n",
       "<table border=\"1\" class=\"dataframe\">\n",
       "  <thead>\n",
       "    <tr style=\"text-align: right;\">\n",
       "      <th></th>\n",
       "      <th>team</th>\n",
       "      <th>year</th>\n",
       "      <th>game</th>\n",
       "      <th>wins</th>\n",
       "      <th>losses</th>\n",
       "      <th>win_loss_perc</th>\n",
       "      <th>points_scored</th>\n",
       "      <th>points_allow</th>\n",
       "      <th>SRS</th>\n",
       "      <th>SoS</th>\n",
       "      <th>...</th>\n",
       "      <th>opp_pass_td</th>\n",
       "      <th>opp_rush_att</th>\n",
       "      <th>opp_rush_yds</th>\n",
       "      <th>opp_rush_td</th>\n",
       "      <th>opp_plays</th>\n",
       "      <th>opp_yards</th>\n",
       "      <th>opp_y/p</th>\n",
       "      <th>opp_fumb</th>\n",
       "      <th>def_int</th>\n",
       "      <th>turnover</th>\n",
       "    </tr>\n",
       "  </thead>\n",
       "  <tbody>\n",
       "    <tr>\n",
       "      <td>32</td>\n",
       "      <td>New England Patriots</td>\n",
       "      <td>2018</td>\n",
       "      <td>16</td>\n",
       "      <td>11</td>\n",
       "      <td>5</td>\n",
       "      <td>0.688</td>\n",
       "      <td>436</td>\n",
       "      <td>20.3125</td>\n",
       "      <td>5.2</td>\n",
       "      <td>-1.8</td>\n",
       "      <td>...</td>\n",
       "      <td>1.8125</td>\n",
       "      <td>22.9375</td>\n",
       "      <td>112.6875</td>\n",
       "      <td>0.4375</td>\n",
       "      <td>62.6250</td>\n",
       "      <td>359.1250</td>\n",
       "      <td>5.7</td>\n",
       "      <td>0.6250</td>\n",
       "      <td>1.1250</td>\n",
       "      <td>1.7500</td>\n",
       "    </tr>\n",
       "    <tr>\n",
       "      <td>33</td>\n",
       "      <td>Miami Dolphins</td>\n",
       "      <td>2018</td>\n",
       "      <td>16</td>\n",
       "      <td>7</td>\n",
       "      <td>9</td>\n",
       "      <td>0.438</td>\n",
       "      <td>319</td>\n",
       "      <td>27.0625</td>\n",
       "      <td>-8.8</td>\n",
       "      <td>-1.7</td>\n",
       "      <td>...</td>\n",
       "      <td>1.9375</td>\n",
       "      <td>30.3125</td>\n",
       "      <td>145.3125</td>\n",
       "      <td>1.0625</td>\n",
       "      <td>64.0000</td>\n",
       "      <td>391.0625</td>\n",
       "      <td>6.1</td>\n",
       "      <td>0.4375</td>\n",
       "      <td>1.3125</td>\n",
       "      <td>1.7500</td>\n",
       "    </tr>\n",
       "    <tr>\n",
       "      <td>34</td>\n",
       "      <td>Buffalo Bills</td>\n",
       "      <td>2018</td>\n",
       "      <td>16</td>\n",
       "      <td>6</td>\n",
       "      <td>10</td>\n",
       "      <td>0.375</td>\n",
       "      <td>269</td>\n",
       "      <td>23.3750</td>\n",
       "      <td>-6.9</td>\n",
       "      <td>-0.3</td>\n",
       "      <td>...</td>\n",
       "      <td>1.3750</td>\n",
       "      <td>27.5000</td>\n",
       "      <td>114.9375</td>\n",
       "      <td>1.0625</td>\n",
       "      <td>60.5000</td>\n",
       "      <td>294.1250</td>\n",
       "      <td>4.9</td>\n",
       "      <td>0.6875</td>\n",
       "      <td>1.0000</td>\n",
       "      <td>1.6875</td>\n",
       "    </tr>\n",
       "    <tr>\n",
       "      <td>35</td>\n",
       "      <td>New York Jets</td>\n",
       "      <td>2018</td>\n",
       "      <td>16</td>\n",
       "      <td>4</td>\n",
       "      <td>12</td>\n",
       "      <td>0.250</td>\n",
       "      <td>333</td>\n",
       "      <td>27.5625</td>\n",
       "      <td>-7.8</td>\n",
       "      <td>-1.1</td>\n",
       "      <td>...</td>\n",
       "      <td>1.8125</td>\n",
       "      <td>27.5000</td>\n",
       "      <td>126.3125</td>\n",
       "      <td>1.0000</td>\n",
       "      <td>66.3125</td>\n",
       "      <td>380.3750</td>\n",
       "      <td>5.7</td>\n",
       "      <td>0.4375</td>\n",
       "      <td>0.8125</td>\n",
       "      <td>1.2500</td>\n",
       "    </tr>\n",
       "    <tr>\n",
       "      <td>36</td>\n",
       "      <td>Baltimore Ravens</td>\n",
       "      <td>2018</td>\n",
       "      <td>16</td>\n",
       "      <td>10</td>\n",
       "      <td>6</td>\n",
       "      <td>0.625</td>\n",
       "      <td>389</td>\n",
       "      <td>17.9375</td>\n",
       "      <td>7.0</td>\n",
       "      <td>0.6</td>\n",
       "      <td>...</td>\n",
       "      <td>1.3125</td>\n",
       "      <td>22.1250</td>\n",
       "      <td>82.9375</td>\n",
       "      <td>0.6875</td>\n",
       "      <td>60.8750</td>\n",
       "      <td>292.9375</td>\n",
       "      <td>4.8</td>\n",
       "      <td>0.3125</td>\n",
       "      <td>0.7500</td>\n",
       "      <td>1.0625</td>\n",
       "    </tr>\n",
       "  </tbody>\n",
       "</table>\n",
       "<p>5 rows × 35 columns</p>\n",
       "</div>"
      ],
      "text/plain": [
       "                    team  year  game  wins  losses  win_loss_perc  \\\n",
       "32  New England Patriots  2018    16    11       5          0.688   \n",
       "33        Miami Dolphins  2018    16     7       9          0.438   \n",
       "34         Buffalo Bills  2018    16     6      10          0.375   \n",
       "35         New York Jets  2018    16     4      12          0.250   \n",
       "36      Baltimore Ravens  2018    16    10       6          0.625   \n",
       "\n",
       "    points_scored  points_allow  SRS  SoS  ...  opp_pass_td  opp_rush_att  \\\n",
       "32            436       20.3125  5.2 -1.8  ...       1.8125       22.9375   \n",
       "33            319       27.0625 -8.8 -1.7  ...       1.9375       30.3125   \n",
       "34            269       23.3750 -6.9 -0.3  ...       1.3750       27.5000   \n",
       "35            333       27.5625 -7.8 -1.1  ...       1.8125       27.5000   \n",
       "36            389       17.9375  7.0  0.6  ...       1.3125       22.1250   \n",
       "\n",
       "    opp_rush_yds  opp_rush_td  opp_plays  opp_yards  opp_y/p  opp_fumb  \\\n",
       "32      112.6875       0.4375    62.6250   359.1250      5.7    0.6250   \n",
       "33      145.3125       1.0625    64.0000   391.0625      6.1    0.4375   \n",
       "34      114.9375       1.0625    60.5000   294.1250      4.9    0.6875   \n",
       "35      126.3125       1.0000    66.3125   380.3750      5.7    0.4375   \n",
       "36       82.9375       0.6875    60.8750   292.9375      4.8    0.3125   \n",
       "\n",
       "    def_int  turnover  \n",
       "32   1.1250    1.7500  \n",
       "33   1.3125    1.7500  \n",
       "34   1.0000    1.6875  \n",
       "35   0.8125    1.2500  \n",
       "36   0.7500    1.0625  \n",
       "\n",
       "[5 rows x 35 columns]"
      ]
     },
     "execution_count": 71,
     "metadata": {},
     "output_type": "execute_result"
    }
   ],
   "source": [
    "current_NFL.head()"
   ]
  },
  {
   "cell_type": "code",
   "execution_count": 72,
   "metadata": {},
   "outputs": [
    {
     "name": "stdout",
     "output_type": "stream",
     "text": [
      "<class 'pandas.core.frame.DataFrame'>\n",
      "Int64Index: 160 entries, 32 to 191\n",
      "Data columns (total 35 columns):\n",
      "team             160 non-null object\n",
      "year             160 non-null int64\n",
      "game             160 non-null int64\n",
      "wins             160 non-null int64\n",
      "losses           160 non-null int64\n",
      "win_loss_perc    160 non-null float64\n",
      "points_scored    160 non-null int64\n",
      "points_allow     160 non-null float64\n",
      "SRS              160 non-null float64\n",
      "SoS              160 non-null float64\n",
      "comp             160 non-null float64\n",
      "attempts         160 non-null float64\n",
      "comp_perc        160 non-null float64\n",
      "pass_y/g         160 non-null float64\n",
      "pass_tds         160 non-null float64\n",
      "rush_att         160 non-null float64\n",
      "rush_y/g         160 non-null float64\n",
      "rush_tds         160 non-null float64\n",
      "fumbles          160 non-null float64\n",
      "int              160 non-null float64\n",
      "TO_Tot           160 non-null float64\n",
      "opp_comp         160 non-null float64\n",
      "opp_pass_att     160 non-null float64\n",
      "opp_comp_Pct     160 non-null float64\n",
      "opp_pass_yds     160 non-null float64\n",
      "opp_pass_td      160 non-null float64\n",
      "opp_rush_att     160 non-null float64\n",
      "opp_rush_yds     160 non-null float64\n",
      "opp_rush_td      160 non-null float64\n",
      "opp_plays        160 non-null float64\n",
      "opp_yards        160 non-null float64\n",
      "opp_y/p          160 non-null float64\n",
      "opp_fumb         160 non-null float64\n",
      "def_int          160 non-null float64\n",
      "turnover         160 non-null float64\n",
      "dtypes: float64(29), int64(5), object(1)\n",
      "memory usage: 45.0+ KB\n"
     ]
    }
   ],
   "source": [
    "current_NFL.info()"
   ]
  },
  {
   "cell_type": "markdown",
   "metadata": {},
   "source": [
    "I now have all of the columns of interest in the proper format and order. I can proceed forward with the college data processing.\n",
    "* Also adding a final column to specify each team being from the NFL."
   ]
  },
  {
   "cell_type": "code",
   "execution_count": 73,
   "metadata": {},
   "outputs": [],
   "source": [
    "current_NFL['League'] = 'NFL'"
   ]
  },
  {
   "cell_type": "markdown",
   "metadata": {},
   "source": [
    "### College\n",
    "---"
   ]
  },
  {
   "cell_type": "code",
   "execution_count": 40,
   "metadata": {},
   "outputs": [],
   "source": [
    "col_drop_extra = ['Conf','rush_Avg','Plays','Yds','Avg_Yds','opp_rush_Avg']\n",
    "current_College = current_College.drop(columns=col_drop_extra).copy()"
   ]
  },
  {
   "cell_type": "markdown",
   "metadata": {},
   "source": [
    "Needing to drop unneccesary columns"
   ]
  },
  {
   "cell_type": "code",
   "execution_count": 41,
   "metadata": {},
   "outputs": [
    {
     "data": {
      "text/plain": [
       "Index(['School', 'W', 'L', 'Pct', 'Off', 'Def', 'SRS', 'SOS', 'year', 'G_x',\n",
       "       'pass_cmp', 'pass_Att', 'cmp_Pct', 'pass_Yds', 'pass_TD', 'rush_Att',\n",
       "       'rush_Yds', 'rush_TD', 'Fum', 'Int', 'TO_Tot', 'opp_cmp',\n",
       "       'opp_pass_Att', 'opp_cmp_Pct', 'opp_ass_Yds', 'opp_pass_TD',\n",
       "       'opp_rush_Att', 'opp_rush_Yds', 'opp_rush_TD', 'opp_Plays', 'opp_Yds',\n",
       "       'opp_Avg_Yds', 'opp_Fum', 'opp_Int', 'opp_TO_Tot'],\n",
       "      dtype='object')"
      ]
     },
     "execution_count": 41,
     "metadata": {},
     "output_type": "execute_result"
    }
   ],
   "source": [
    "current_College.columns"
   ]
  },
  {
   "cell_type": "code",
   "execution_count": 42,
   "metadata": {},
   "outputs": [],
   "source": [
    "col_order_coll = ['School', 'year','G_x','W', 'L', 'Pct', 'Off', 'Def', 'SRS', 'SOS',\n",
    "       'pass_cmp', 'pass_Att', 'cmp_Pct', 'pass_Yds', 'pass_TD', 'rush_Att',\n",
    "       'rush_Yds', 'rush_TD', 'Fum', 'Int', 'TO_Tot', 'opp_cmp',\n",
    "       'opp_pass_Att', 'opp_cmp_Pct', 'opp_ass_Yds', 'opp_pass_TD',\n",
    "       'opp_rush_Att', 'opp_rush_Yds', 'opp_rush_TD', 'opp_Plays', 'opp_Yds',\n",
    "       'opp_Avg_Yds', 'opp_Fum', 'opp_Int', 'opp_TO_Tot']"
   ]
  },
  {
   "cell_type": "code",
   "execution_count": 43,
   "metadata": {},
   "outputs": [],
   "source": [
    "current_College = current_College[col_order_coll]"
   ]
  },
  {
   "cell_type": "markdown",
   "metadata": {},
   "source": [
    "Reordering columns to match with the NFL's order."
   ]
  },
  {
   "cell_type": "code",
   "execution_count": 44,
   "metadata": {},
   "outputs": [
    {
     "name": "stdout",
     "output_type": "stream",
     "text": [
      "<class 'pandas.core.frame.DataFrame'>\n",
      "Int64Index: 639 entries, 129 to 767\n",
      "Data columns (total 35 columns):\n",
      "School          639 non-null object\n",
      "year            639 non-null int64\n",
      "G_x             639 non-null int64\n",
      "W               639 non-null int64\n",
      "L               639 non-null int64\n",
      "Pct             639 non-null float64\n",
      "Off             639 non-null float64\n",
      "Def             639 non-null float64\n",
      "SRS             639 non-null float64\n",
      "SOS             639 non-null float64\n",
      "pass_cmp        639 non-null float64\n",
      "pass_Att        639 non-null float64\n",
      "cmp_Pct         639 non-null float64\n",
      "pass_Yds        639 non-null float64\n",
      "pass_TD         639 non-null float64\n",
      "rush_Att        639 non-null float64\n",
      "rush_Yds        639 non-null float64\n",
      "rush_TD         639 non-null float64\n",
      "Fum             639 non-null float64\n",
      "Int             639 non-null float64\n",
      "TO_Tot          639 non-null float64\n",
      "opp_cmp         639 non-null float64\n",
      "opp_pass_Att    639 non-null float64\n",
      "opp_cmp_Pct     639 non-null float64\n",
      "opp_ass_Yds     639 non-null float64\n",
      "opp_pass_TD     639 non-null float64\n",
      "opp_rush_Att    639 non-null float64\n",
      "opp_rush_Yds    639 non-null float64\n",
      "opp_rush_TD     639 non-null float64\n",
      "opp_Plays       639 non-null float64\n",
      "opp_Yds         639 non-null float64\n",
      "opp_Avg_Yds     639 non-null float64\n",
      "opp_Fum         639 non-null float64\n",
      "opp_Int         639 non-null float64\n",
      "opp_TO_Tot      639 non-null float64\n",
      "dtypes: float64(30), int64(4), object(1)\n",
      "memory usage: 179.7+ KB\n"
     ]
    }
   ],
   "source": [
    "current_College.info()"
   ]
  },
  {
   "cell_type": "markdown",
   "metadata": {},
   "source": [
    "Adding a final column to specify teams being from College"
   ]
  },
  {
   "cell_type": "code",
   "execution_count": 74,
   "metadata": {},
   "outputs": [],
   "source": [
    "current_College['League'] = 'College'"
   ]
  },
  {
   "cell_type": "markdown",
   "metadata": {},
   "source": [
    "### Combining DataFrames of interest\n",
    "---"
   ]
  },
  {
   "cell_type": "markdown",
   "metadata": {},
   "source": [
    "In order to proceed forward with creating a recommender I will rename the columns for consistency and add the two NFL & College DataFrames together."
   ]
  },
  {
   "cell_type": "code",
   "execution_count": 77,
   "metadata": {},
   "outputs": [],
   "source": [
    "final_names = ['team', 'year','games_played','wins', 'loss', 'win_pct', 'off_pts', 'def_pts', 'SRS', 'SOS',\n",
    "       'pass_comp', 'pass_att', 'comp_pct', 'pass_yds', 'pass_TD', 'rush_att',\n",
    "       'rush_yds', 'rush_TD', 'Fum', 'Int', 'TO_Tot', 'opp_pass_comp',\n",
    "       'opp_pass_att', 'opp_comp_pct', 'opp_pass_yds', 'opp_pass_TD',\n",
    "       'opp_rush_att', 'opp_rush_yds', 'opp_rush_TD', 'opp_plays', 'opp_yds',\n",
    "       'opp_yds_play', 'opp_Fum', 'opp_Int', 'opp_TO_Tot','league']"
   ]
  },
  {
   "cell_type": "markdown",
   "metadata": {},
   "source": [
    "Final list of column names I want to rename each DataFrame's columns. I made it a list on its own, just in case I want to further modify this column list in the future."
   ]
  },
  {
   "cell_type": "code",
   "execution_count": 80,
   "metadata": {},
   "outputs": [],
   "source": [
    "# renaming NFL columns\n",
    "current_NFL.columns = final_names\n",
    "# renaming College columns\n",
    "current_College.columns = final_names"
   ]
  },
  {
   "cell_type": "code",
   "execution_count": 81,
   "metadata": {},
   "outputs": [
    {
     "data": {
      "text/plain": [
       "Index(['team', 'year', 'games_played', 'wins', 'loss', 'win_pct', 'off_pts',\n",
       "       'def_pts', 'SRS', 'SOS', 'pass_comp', 'pass_att', 'comp_pct',\n",
       "       'pass_yds', 'pass_TD', 'rush_att', 'rush_yds', 'rush_TD', 'Fum', 'Int',\n",
       "       'TO_Tot', 'opp_pass_comp', 'opp_pass_att', 'opp_comp_pct',\n",
       "       'opp_pass_yds', 'opp_pass_TD', 'opp_rush_att', 'opp_rush_yds',\n",
       "       'opp_rush_TD', 'opp_plays', 'opp_yds', 'opp_yds_play', 'opp_Fum',\n",
       "       'opp_Int', 'opp_TO_Tot', 'league'],\n",
       "      dtype='object')"
      ]
     },
     "execution_count": 81,
     "metadata": {},
     "output_type": "execute_result"
    }
   ],
   "source": [
    "current_NFL.columns"
   ]
  },
  {
   "cell_type": "code",
   "execution_count": 82,
   "metadata": {},
   "outputs": [
    {
     "data": {
      "text/plain": [
       "Index(['team', 'year', 'games_played', 'wins', 'loss', 'win_pct', 'off_pts',\n",
       "       'def_pts', 'SRS', 'SOS', 'pass_comp', 'pass_att', 'comp_pct',\n",
       "       'pass_yds', 'pass_TD', 'rush_att', 'rush_yds', 'rush_TD', 'Fum', 'Int',\n",
       "       'TO_Tot', 'opp_pass_comp', 'opp_pass_att', 'opp_comp_pct',\n",
       "       'opp_pass_yds', 'opp_pass_TD', 'opp_rush_att', 'opp_rush_yds',\n",
       "       'opp_rush_TD', 'opp_plays', 'opp_yds', 'opp_yds_play', 'opp_Fum',\n",
       "       'opp_Int', 'opp_TO_Tot', 'league'],\n",
       "      dtype='object')"
      ]
     },
     "execution_count": 82,
     "metadata": {},
     "output_type": "execute_result"
    }
   ],
   "source": [
    "current_College.columns"
   ]
  },
  {
   "cell_type": "code",
   "execution_count": null,
   "metadata": {},
   "outputs": [],
   "source": []
  },
  {
   "cell_type": "code",
   "execution_count": 91,
   "metadata": {},
   "outputs": [],
   "source": [
    "# current_NFL.off_pts.astype('Float64')"
   ]
  },
  {
   "cell_type": "code",
   "execution_count": 94,
   "metadata": {},
   "outputs": [
    {
     "data": {
      "text/html": [
       "<div>\n",
       "<style scoped>\n",
       "    .dataframe tbody tr th:only-of-type {\n",
       "        vertical-align: middle;\n",
       "    }\n",
       "\n",
       "    .dataframe tbody tr th {\n",
       "        vertical-align: top;\n",
       "    }\n",
       "\n",
       "    .dataframe thead th {\n",
       "        text-align: right;\n",
       "    }\n",
       "</style>\n",
       "<table border=\"1\" class=\"dataframe\">\n",
       "  <thead>\n",
       "    <tr style=\"text-align: right;\">\n",
       "      <th></th>\n",
       "      <th>team</th>\n",
       "      <th>year</th>\n",
       "      <th>games_played</th>\n",
       "      <th>wins</th>\n",
       "      <th>loss</th>\n",
       "      <th>win_pct</th>\n",
       "      <th>off_pts</th>\n",
       "      <th>def_pts</th>\n",
       "      <th>SRS</th>\n",
       "      <th>SOS</th>\n",
       "      <th>...</th>\n",
       "      <th>opp_rush_att</th>\n",
       "      <th>opp_rush_yds</th>\n",
       "      <th>opp_rush_TD</th>\n",
       "      <th>opp_plays</th>\n",
       "      <th>opp_yds</th>\n",
       "      <th>opp_yds_play</th>\n",
       "      <th>opp_Fum</th>\n",
       "      <th>opp_Int</th>\n",
       "      <th>opp_TO_Tot</th>\n",
       "      <th>league</th>\n",
       "    </tr>\n",
       "  </thead>\n",
       "  <tbody>\n",
       "    <tr>\n",
       "      <td>0</td>\n",
       "      <td>New England Patriots</td>\n",
       "      <td>2018</td>\n",
       "      <td>16</td>\n",
       "      <td>11</td>\n",
       "      <td>5</td>\n",
       "      <td>0.688</td>\n",
       "      <td>436.0</td>\n",
       "      <td>20.3125</td>\n",
       "      <td>5.2</td>\n",
       "      <td>-1.8</td>\n",
       "      <td>...</td>\n",
       "      <td>22.9375</td>\n",
       "      <td>112.6875</td>\n",
       "      <td>0.4375</td>\n",
       "      <td>62.625</td>\n",
       "      <td>359.1250</td>\n",
       "      <td>5.7</td>\n",
       "      <td>0.6250</td>\n",
       "      <td>1.1250</td>\n",
       "      <td>1.75</td>\n",
       "      <td>NFL</td>\n",
       "    </tr>\n",
       "    <tr>\n",
       "      <td>1</td>\n",
       "      <td>Miami Dolphins</td>\n",
       "      <td>2018</td>\n",
       "      <td>16</td>\n",
       "      <td>7</td>\n",
       "      <td>9</td>\n",
       "      <td>0.438</td>\n",
       "      <td>319.0</td>\n",
       "      <td>27.0625</td>\n",
       "      <td>-8.8</td>\n",
       "      <td>-1.7</td>\n",
       "      <td>...</td>\n",
       "      <td>30.3125</td>\n",
       "      <td>145.3125</td>\n",
       "      <td>1.0625</td>\n",
       "      <td>64.000</td>\n",
       "      <td>391.0625</td>\n",
       "      <td>6.1</td>\n",
       "      <td>0.4375</td>\n",
       "      <td>1.3125</td>\n",
       "      <td>1.75</td>\n",
       "      <td>NFL</td>\n",
       "    </tr>\n",
       "  </tbody>\n",
       "</table>\n",
       "<p>2 rows × 36 columns</p>\n",
       "</div>"
      ],
      "text/plain": [
       "                   team  year  games_played  wins  loss  win_pct  off_pts  \\\n",
       "0  New England Patriots  2018            16    11     5    0.688    436.0   \n",
       "1        Miami Dolphins  2018            16     7     9    0.438    319.0   \n",
       "\n",
       "   def_pts  SRS  SOS  ...  opp_rush_att  opp_rush_yds  opp_rush_TD  opp_plays  \\\n",
       "0  20.3125  5.2 -1.8  ...       22.9375      112.6875       0.4375     62.625   \n",
       "1  27.0625 -8.8 -1.7  ...       30.3125      145.3125       1.0625     64.000   \n",
       "\n",
       "    opp_yds  opp_yds_play  opp_Fum  opp_Int  opp_TO_Tot  league  \n",
       "0  359.1250           5.7   0.6250   1.1250        1.75     NFL  \n",
       "1  391.0625           6.1   0.4375   1.3125        1.75     NFL  \n",
       "\n",
       "[2 rows x 36 columns]"
      ]
     },
     "execution_count": 94,
     "metadata": {},
     "output_type": "execute_result"
    }
   ],
   "source": [
    "# Final DataFrame for recommender system.\n",
    "rec_df = pd.concat([current_NFL, current_College],ignore_index=True)\n",
    "rec_df.head(2)"
   ]
  },
  {
   "cell_type": "code",
   "execution_count": 95,
   "metadata": {},
   "outputs": [
    {
     "data": {
      "text/html": [
       "<div>\n",
       "<style scoped>\n",
       "    .dataframe tbody tr th:only-of-type {\n",
       "        vertical-align: middle;\n",
       "    }\n",
       "\n",
       "    .dataframe tbody tr th {\n",
       "        vertical-align: top;\n",
       "    }\n",
       "\n",
       "    .dataframe thead th {\n",
       "        text-align: right;\n",
       "    }\n",
       "</style>\n",
       "<table border=\"1\" class=\"dataframe\">\n",
       "  <thead>\n",
       "    <tr style=\"text-align: right;\">\n",
       "      <th></th>\n",
       "      <th>team</th>\n",
       "      <th>year</th>\n",
       "      <th>games_played</th>\n",
       "      <th>wins</th>\n",
       "      <th>loss</th>\n",
       "      <th>win_pct</th>\n",
       "      <th>off_pts</th>\n",
       "      <th>def_pts</th>\n",
       "      <th>SRS</th>\n",
       "      <th>SOS</th>\n",
       "      <th>...</th>\n",
       "      <th>opp_rush_att</th>\n",
       "      <th>opp_rush_yds</th>\n",
       "      <th>opp_rush_TD</th>\n",
       "      <th>opp_plays</th>\n",
       "      <th>opp_yds</th>\n",
       "      <th>opp_yds_play</th>\n",
       "      <th>opp_Fum</th>\n",
       "      <th>opp_Int</th>\n",
       "      <th>opp_TO_Tot</th>\n",
       "      <th>league</th>\n",
       "    </tr>\n",
       "  </thead>\n",
       "  <tbody>\n",
       "    <tr>\n",
       "      <td>797</td>\n",
       "      <td>Idaho</td>\n",
       "      <td>2014</td>\n",
       "      <td>11</td>\n",
       "      <td>1</td>\n",
       "      <td>10</td>\n",
       "      <td>0.091</td>\n",
       "      <td>25.0</td>\n",
       "      <td>37.3</td>\n",
       "      <td>-19.67</td>\n",
       "      <td>-7.21</td>\n",
       "      <td>...</td>\n",
       "      <td>43.9</td>\n",
       "      <td>245.9</td>\n",
       "      <td>2.9</td>\n",
       "      <td>66.8</td>\n",
       "      <td>462.1</td>\n",
       "      <td>6.9</td>\n",
       "      <td>0.8</td>\n",
       "      <td>0.7</td>\n",
       "      <td>1.5</td>\n",
       "      <td>College</td>\n",
       "    </tr>\n",
       "    <tr>\n",
       "      <td>798</td>\n",
       "      <td>Georgia State</td>\n",
       "      <td>2014</td>\n",
       "      <td>12</td>\n",
       "      <td>1</td>\n",
       "      <td>11</td>\n",
       "      <td>0.083</td>\n",
       "      <td>22.7</td>\n",
       "      <td>43.3</td>\n",
       "      <td>-20.41</td>\n",
       "      <td>-4.50</td>\n",
       "      <td>...</td>\n",
       "      <td>48.5</td>\n",
       "      <td>303.4</td>\n",
       "      <td>3.4</td>\n",
       "      <td>75.7</td>\n",
       "      <td>497.1</td>\n",
       "      <td>6.6</td>\n",
       "      <td>0.4</td>\n",
       "      <td>0.3</td>\n",
       "      <td>0.7</td>\n",
       "      <td>College</td>\n",
       "    </tr>\n",
       "  </tbody>\n",
       "</table>\n",
       "<p>2 rows × 36 columns</p>\n",
       "</div>"
      ],
      "text/plain": [
       "              team  year  games_played  wins  loss  win_pct  off_pts  def_pts  \\\n",
       "797          Idaho  2014            11     1    10    0.091     25.0     37.3   \n",
       "798  Georgia State  2014            12     1    11    0.083     22.7     43.3   \n",
       "\n",
       "       SRS   SOS  ...  opp_rush_att  opp_rush_yds  opp_rush_TD  opp_plays  \\\n",
       "797 -19.67 -7.21  ...          43.9         245.9          2.9       66.8   \n",
       "798 -20.41 -4.50  ...          48.5         303.4          3.4       75.7   \n",
       "\n",
       "     opp_yds  opp_yds_play  opp_Fum  opp_Int  opp_TO_Tot   league  \n",
       "797    462.1           6.9      0.8      0.7         1.5  College  \n",
       "798    497.1           6.6      0.4      0.3         0.7  College  \n",
       "\n",
       "[2 rows x 36 columns]"
      ]
     },
     "execution_count": 95,
     "metadata": {},
     "output_type": "execute_result"
    }
   ],
   "source": [
    "rec_df.tail(2)"
   ]
  },
  {
   "cell_type": "code",
   "execution_count": 96,
   "metadata": {},
   "outputs": [
    {
     "data": {
      "text/plain": [
       "(799, 36)"
      ]
     },
     "execution_count": 96,
     "metadata": {},
     "output_type": "execute_result"
    }
   ],
   "source": [
    "rec_df.shape"
   ]
  },
  {
   "cell_type": "code",
   "execution_count": null,
   "metadata": {},
   "outputs": [],
   "source": []
  },
  {
   "cell_type": "code",
   "execution_count": null,
   "metadata": {},
   "outputs": [],
   "source": []
  },
  {
   "cell_type": "code",
   "execution_count": null,
   "metadata": {},
   "outputs": [],
   "source": []
  },
  {
   "cell_type": "code",
   "execution_count": null,
   "metadata": {},
   "outputs": [],
   "source": []
  },
  {
   "cell_type": "code",
   "execution_count": null,
   "metadata": {},
   "outputs": [],
   "source": []
  },
  {
   "cell_type": "code",
   "execution_count": 45,
   "metadata": {},
   "outputs": [
    {
     "name": "stdout",
     "output_type": "stream",
     "text": [
      "(1477, 14)\n"
     ]
    }
   ],
   "source": [
    "print(team_df.shape)"
   ]
  },
  {
   "cell_type": "code",
   "execution_count": 46,
   "metadata": {},
   "outputs": [
    {
     "data": {
      "text/plain": [
       "Index(['team', 'year', 'wins', 'losses', 'ties', 'win_loss_perc',\n",
       "       'points_scored', 'opp_points', 'points_diff', 'margin_of_victory',\n",
       "       'SoS', 'SRS', 'OSRS', 'DSRS'],\n",
       "      dtype='object')"
      ]
     },
     "execution_count": 46,
     "metadata": {},
     "output_type": "execute_result"
    }
   ],
   "source": [
    "team_df.columns"
   ]
  },
  {
   "cell_type": "code",
   "execution_count": 47,
   "metadata": {},
   "outputs": [
    {
     "name": "stdout",
     "output_type": "stream",
     "text": [
      "(1477, 22)\n"
     ]
    }
   ],
   "source": [
    "print(pass_df.shape)"
   ]
  },
  {
   "cell_type": "code",
   "execution_count": 48,
   "metadata": {},
   "outputs": [
    {
     "data": {
      "text/plain": [
       "Index(['team', 'year', 'game', 'comp', 'attempts', 'comp_perc', 'pass_yards',\n",
       "       'pass_tds', 'pass_td_perc', 'int', 'int_perc', 'pass_long', 'pass_y/a',\n",
       "       'y/c', 'pass_y/g', 'QB_rate', 'sacks', 'sack_yds', 'sack_perc',\n",
       "       'qb_comebacks', 'qb_gwd', 'pass_exp'],\n",
       "      dtype='object')"
      ]
     },
     "execution_count": 48,
     "metadata": {},
     "output_type": "execute_result"
    }
   ],
   "source": [
    "pass_df.columns"
   ]
  },
  {
   "cell_type": "code",
   "execution_count": 49,
   "metadata": {},
   "outputs": [
    {
     "data": {
      "text/html": [
       "<div>\n",
       "<style scoped>\n",
       "    .dataframe tbody tr th:only-of-type {\n",
       "        vertical-align: middle;\n",
       "    }\n",
       "\n",
       "    .dataframe tbody tr th {\n",
       "        vertical-align: top;\n",
       "    }\n",
       "\n",
       "    .dataframe thead th {\n",
       "        text-align: right;\n",
       "    }\n",
       "</style>\n",
       "<table border=\"1\" class=\"dataframe\">\n",
       "  <thead>\n",
       "    <tr style=\"text-align: right;\">\n",
       "      <th></th>\n",
       "      <th>team</th>\n",
       "      <th>year</th>\n",
       "      <th>wins</th>\n",
       "      <th>losses</th>\n",
       "      <th>ties</th>\n",
       "      <th>win_loss_perc</th>\n",
       "      <th>points_scored</th>\n",
       "      <th>opp_points</th>\n",
       "      <th>points_diff</th>\n",
       "      <th>margin_of_victory</th>\n",
       "      <th>SoS</th>\n",
       "      <th>SRS</th>\n",
       "      <th>OSRS</th>\n",
       "      <th>DSRS</th>\n",
       "    </tr>\n",
       "  </thead>\n",
       "  <tbody>\n",
       "    <tr>\n",
       "      <td>0</td>\n",
       "      <td>New England Patriots</td>\n",
       "      <td>2019</td>\n",
       "      <td>8</td>\n",
       "      <td>1</td>\n",
       "      <td>0.0</td>\n",
       "      <td>0.889</td>\n",
       "      <td>270</td>\n",
       "      <td>98</td>\n",
       "      <td>172</td>\n",
       "      <td>19.1</td>\n",
       "      <td>-5.9</td>\n",
       "      <td>13.3</td>\n",
       "      <td>5.2</td>\n",
       "      <td>8.0</td>\n",
       "    </tr>\n",
       "    <tr>\n",
       "      <td>1</td>\n",
       "      <td>Buffalo Bills</td>\n",
       "      <td>2019</td>\n",
       "      <td>6</td>\n",
       "      <td>3</td>\n",
       "      <td>0.0</td>\n",
       "      <td>0.667</td>\n",
       "      <td>174</td>\n",
       "      <td>150</td>\n",
       "      <td>24</td>\n",
       "      <td>2.7</td>\n",
       "      <td>-5.3</td>\n",
       "      <td>-2.7</td>\n",
       "      <td>-5.3</td>\n",
       "      <td>2.6</td>\n",
       "    </tr>\n",
       "    <tr>\n",
       "      <td>2</td>\n",
       "      <td>Miami Dolphins</td>\n",
       "      <td>2019</td>\n",
       "      <td>2</td>\n",
       "      <td>7</td>\n",
       "      <td>0.0</td>\n",
       "      <td>0.222</td>\n",
       "      <td>119</td>\n",
       "      <td>268</td>\n",
       "      <td>-149</td>\n",
       "      <td>-16.6</td>\n",
       "      <td>0.6</td>\n",
       "      <td>-15.9</td>\n",
       "      <td>-7.9</td>\n",
       "      <td>-8.0</td>\n",
       "    </tr>\n",
       "    <tr>\n",
       "      <td>3</td>\n",
       "      <td>New York Jets</td>\n",
       "      <td>2019</td>\n",
       "      <td>2</td>\n",
       "      <td>7</td>\n",
       "      <td>0.0</td>\n",
       "      <td>0.222</td>\n",
       "      <td>130</td>\n",
       "      <td>238</td>\n",
       "      <td>-108</td>\n",
       "      <td>-12.0</td>\n",
       "      <td>-0.1</td>\n",
       "      <td>-12.1</td>\n",
       "      <td>-7.9</td>\n",
       "      <td>-4.2</td>\n",
       "    </tr>\n",
       "    <tr>\n",
       "      <td>4</td>\n",
       "      <td>Baltimore Ravens</td>\n",
       "      <td>2019</td>\n",
       "      <td>7</td>\n",
       "      <td>2</td>\n",
       "      <td>0.0</td>\n",
       "      <td>0.778</td>\n",
       "      <td>300</td>\n",
       "      <td>189</td>\n",
       "      <td>111</td>\n",
       "      <td>12.3</td>\n",
       "      <td>-2.0</td>\n",
       "      <td>10.3</td>\n",
       "      <td>9.4</td>\n",
       "      <td>0.9</td>\n",
       "    </tr>\n",
       "    <tr>\n",
       "      <td>...</td>\n",
       "      <td>...</td>\n",
       "      <td>...</td>\n",
       "      <td>...</td>\n",
       "      <td>...</td>\n",
       "      <td>...</td>\n",
       "      <td>...</td>\n",
       "      <td>...</td>\n",
       "      <td>...</td>\n",
       "      <td>...</td>\n",
       "      <td>...</td>\n",
       "      <td>...</td>\n",
       "      <td>...</td>\n",
       "      <td>...</td>\n",
       "      <td>...</td>\n",
       "    </tr>\n",
       "    <tr>\n",
       "      <td>1312</td>\n",
       "      <td>Chicago Bears</td>\n",
       "      <td>1970</td>\n",
       "      <td>6</td>\n",
       "      <td>8</td>\n",
       "      <td>0.0</td>\n",
       "      <td>0.429</td>\n",
       "      <td>256</td>\n",
       "      <td>261</td>\n",
       "      <td>-5</td>\n",
       "      <td>-0.4</td>\n",
       "      <td>2.6</td>\n",
       "      <td>2.2</td>\n",
       "      <td>0.4</td>\n",
       "      <td>1.8</td>\n",
       "    </tr>\n",
       "    <tr>\n",
       "      <td>1313</td>\n",
       "      <td>San Francisco 49ers</td>\n",
       "      <td>1970</td>\n",
       "      <td>10</td>\n",
       "      <td>3</td>\n",
       "      <td>1.0</td>\n",
       "      <td>0.769</td>\n",
       "      <td>352</td>\n",
       "      <td>267</td>\n",
       "      <td>85</td>\n",
       "      <td>6.1</td>\n",
       "      <td>0.4</td>\n",
       "      <td>6.5</td>\n",
       "      <td>6.4</td>\n",
       "      <td>0.1</td>\n",
       "    </tr>\n",
       "    <tr>\n",
       "      <td>1314</td>\n",
       "      <td>Los Angeles Rams</td>\n",
       "      <td>1970</td>\n",
       "      <td>9</td>\n",
       "      <td>4</td>\n",
       "      <td>1.0</td>\n",
       "      <td>0.692</td>\n",
       "      <td>325</td>\n",
       "      <td>202</td>\n",
       "      <td>123</td>\n",
       "      <td>8.8</td>\n",
       "      <td>0.8</td>\n",
       "      <td>9.6</td>\n",
       "      <td>4.4</td>\n",
       "      <td>5.3</td>\n",
       "    </tr>\n",
       "    <tr>\n",
       "      <td>1315</td>\n",
       "      <td>Atlanta Falcons</td>\n",
       "      <td>1970</td>\n",
       "      <td>4</td>\n",
       "      <td>8</td>\n",
       "      <td>2.0</td>\n",
       "      <td>0.333</td>\n",
       "      <td>206</td>\n",
       "      <td>261</td>\n",
       "      <td>-55</td>\n",
       "      <td>-3.9</td>\n",
       "      <td>1.6</td>\n",
       "      <td>-2.3</td>\n",
       "      <td>-3.5</td>\n",
       "      <td>1.2</td>\n",
       "    </tr>\n",
       "    <tr>\n",
       "      <td>1316</td>\n",
       "      <td>New Orleans Saints</td>\n",
       "      <td>1970</td>\n",
       "      <td>2</td>\n",
       "      <td>11</td>\n",
       "      <td>1.0</td>\n",
       "      <td>0.154</td>\n",
       "      <td>172</td>\n",
       "      <td>347</td>\n",
       "      <td>-175</td>\n",
       "      <td>-12.5</td>\n",
       "      <td>4.6</td>\n",
       "      <td>-7.9</td>\n",
       "      <td>-4.6</td>\n",
       "      <td>-3.3</td>\n",
       "    </tr>\n",
       "  </tbody>\n",
       "</table>\n",
       "<p>1477 rows × 14 columns</p>\n",
       "</div>"
      ],
      "text/plain": [
       "                      team  year  wins  losses  ties  win_loss_perc  \\\n",
       "0     New England Patriots  2019     8       1   0.0          0.889   \n",
       "1            Buffalo Bills  2019     6       3   0.0          0.667   \n",
       "2           Miami Dolphins  2019     2       7   0.0          0.222   \n",
       "3            New York Jets  2019     2       7   0.0          0.222   \n",
       "4         Baltimore Ravens  2019     7       2   0.0          0.778   \n",
       "...                    ...   ...   ...     ...   ...            ...   \n",
       "1312         Chicago Bears  1970     6       8   0.0          0.429   \n",
       "1313   San Francisco 49ers  1970    10       3   1.0          0.769   \n",
       "1314      Los Angeles Rams  1970     9       4   1.0          0.692   \n",
       "1315       Atlanta Falcons  1970     4       8   2.0          0.333   \n",
       "1316    New Orleans Saints  1970     2      11   1.0          0.154   \n",
       "\n",
       "      points_scored  opp_points  points_diff  margin_of_victory  SoS   SRS  \\\n",
       "0               270          98          172               19.1 -5.9  13.3   \n",
       "1               174         150           24                2.7 -5.3  -2.7   \n",
       "2               119         268         -149              -16.6  0.6 -15.9   \n",
       "3               130         238         -108              -12.0 -0.1 -12.1   \n",
       "4               300         189          111               12.3 -2.0  10.3   \n",
       "...             ...         ...          ...                ...  ...   ...   \n",
       "1312            256         261           -5               -0.4  2.6   2.2   \n",
       "1313            352         267           85                6.1  0.4   6.5   \n",
       "1314            325         202          123                8.8  0.8   9.6   \n",
       "1315            206         261          -55               -3.9  1.6  -2.3   \n",
       "1316            172         347         -175              -12.5  4.6  -7.9   \n",
       "\n",
       "      OSRS  DSRS  \n",
       "0      5.2   8.0  \n",
       "1     -5.3   2.6  \n",
       "2     -7.9  -8.0  \n",
       "3     -7.9  -4.2  \n",
       "4      9.4   0.9  \n",
       "...    ...   ...  \n",
       "1312   0.4   1.8  \n",
       "1313   6.4   0.1  \n",
       "1314   4.4   5.3  \n",
       "1315  -3.5   1.2  \n",
       "1316  -4.6  -3.3  \n",
       "\n",
       "[1477 rows x 14 columns]"
      ]
     },
     "execution_count": 49,
     "metadata": {},
     "output_type": "execute_result"
    }
   ],
   "source": [
    "team_df"
   ]
  },
  {
   "cell_type": "code",
   "execution_count": 50,
   "metadata": {},
   "outputs": [
    {
     "data": {
      "text/html": [
       "<div>\n",
       "<style scoped>\n",
       "    .dataframe tbody tr th:only-of-type {\n",
       "        vertical-align: middle;\n",
       "    }\n",
       "\n",
       "    .dataframe tbody tr th {\n",
       "        vertical-align: top;\n",
       "    }\n",
       "\n",
       "    .dataframe thead th {\n",
       "        text-align: right;\n",
       "    }\n",
       "</style>\n",
       "<table border=\"1\" class=\"dataframe\">\n",
       "  <thead>\n",
       "    <tr style=\"text-align: right;\">\n",
       "      <th></th>\n",
       "      <th>team</th>\n",
       "      <th>year</th>\n",
       "      <th>game</th>\n",
       "      <th>comp</th>\n",
       "      <th>attempts</th>\n",
       "      <th>comp_perc</th>\n",
       "      <th>pass_yards</th>\n",
       "      <th>pass_tds</th>\n",
       "      <th>pass_td_perc</th>\n",
       "      <th>int</th>\n",
       "      <th>...</th>\n",
       "      <th>pass_y/a</th>\n",
       "      <th>y/c</th>\n",
       "      <th>pass_y/g</th>\n",
       "      <th>QB_rate</th>\n",
       "      <th>sacks</th>\n",
       "      <th>sack_yds</th>\n",
       "      <th>sack_perc</th>\n",
       "      <th>qb_comebacks</th>\n",
       "      <th>qb_gwd</th>\n",
       "      <th>pass_exp</th>\n",
       "    </tr>\n",
       "  </thead>\n",
       "  <tbody>\n",
       "    <tr>\n",
       "      <td>0</td>\n",
       "      <td>Kansas City Chiefs</td>\n",
       "      <td>2019</td>\n",
       "      <td>10</td>\n",
       "      <td>252</td>\n",
       "      <td>383</td>\n",
       "      <td>65.8</td>\n",
       "      <td>3139</td>\n",
       "      <td>22</td>\n",
       "      <td>5.7</td>\n",
       "      <td>1</td>\n",
       "      <td>...</td>\n",
       "      <td>8.6</td>\n",
       "      <td>13.0</td>\n",
       "      <td>313.9</td>\n",
       "      <td>110.7</td>\n",
       "      <td>18</td>\n",
       "      <td>146</td>\n",
       "      <td>4.5</td>\n",
       "      <td>2.0</td>\n",
       "      <td>2.0</td>\n",
       "      <td>136.67</td>\n",
       "    </tr>\n",
       "    <tr>\n",
       "      <td>1</td>\n",
       "      <td>Atlanta Falcons</td>\n",
       "      <td>2019</td>\n",
       "      <td>9</td>\n",
       "      <td>267</td>\n",
       "      <td>378</td>\n",
       "      <td>70.6</td>\n",
       "      <td>2708</td>\n",
       "      <td>19</td>\n",
       "      <td>5.0</td>\n",
       "      <td>10</td>\n",
       "      <td>...</td>\n",
       "      <td>7.6</td>\n",
       "      <td>10.8</td>\n",
       "      <td>300.9</td>\n",
       "      <td>98.4</td>\n",
       "      <td>22</td>\n",
       "      <td>169</td>\n",
       "      <td>5.5</td>\n",
       "      <td>1.0</td>\n",
       "      <td>1.0</td>\n",
       "      <td>82.47</td>\n",
       "    </tr>\n",
       "    <tr>\n",
       "      <td>2</td>\n",
       "      <td>Los Angeles Chargers</td>\n",
       "      <td>2019</td>\n",
       "      <td>10</td>\n",
       "      <td>241</td>\n",
       "      <td>365</td>\n",
       "      <td>66.0</td>\n",
       "      <td>2701</td>\n",
       "      <td>14</td>\n",
       "      <td>3.8</td>\n",
       "      <td>10</td>\n",
       "      <td>...</td>\n",
       "      <td>7.7</td>\n",
       "      <td>11.7</td>\n",
       "      <td>270.1</td>\n",
       "      <td>90.7</td>\n",
       "      <td>21</td>\n",
       "      <td>122</td>\n",
       "      <td>5.4</td>\n",
       "      <td>1.0</td>\n",
       "      <td>2.0</td>\n",
       "      <td>78.39</td>\n",
       "    </tr>\n",
       "    <tr>\n",
       "      <td>3</td>\n",
       "      <td>Dallas Cowboys</td>\n",
       "      <td>2019</td>\n",
       "      <td>9</td>\n",
       "      <td>218</td>\n",
       "      <td>320</td>\n",
       "      <td>68.1</td>\n",
       "      <td>2693</td>\n",
       "      <td>18</td>\n",
       "      <td>5.6</td>\n",
       "      <td>9</td>\n",
       "      <td>...</td>\n",
       "      <td>8.7</td>\n",
       "      <td>12.7</td>\n",
       "      <td>299.2</td>\n",
       "      <td>102.0</td>\n",
       "      <td>11</td>\n",
       "      <td>84</td>\n",
       "      <td>3.3</td>\n",
       "      <td>NaN</td>\n",
       "      <td>NaN</td>\n",
       "      <td>125.05</td>\n",
       "    </tr>\n",
       "    <tr>\n",
       "      <td>4</td>\n",
       "      <td>Detroit Lions</td>\n",
       "      <td>2019</td>\n",
       "      <td>9</td>\n",
       "      <td>214</td>\n",
       "      <td>337</td>\n",
       "      <td>63.5</td>\n",
       "      <td>2621</td>\n",
       "      <td>20</td>\n",
       "      <td>5.9</td>\n",
       "      <td>6</td>\n",
       "      <td>...</td>\n",
       "      <td>8.2</td>\n",
       "      <td>12.9</td>\n",
       "      <td>291.2</td>\n",
       "      <td>101.6</td>\n",
       "      <td>20</td>\n",
       "      <td>147</td>\n",
       "      <td>5.6</td>\n",
       "      <td>2.0</td>\n",
       "      <td>1.0</td>\n",
       "      <td>90.45</td>\n",
       "    </tr>\n",
       "    <tr>\n",
       "      <td>5</td>\n",
       "      <td>Seattle Seahawks</td>\n",
       "      <td>2019</td>\n",
       "      <td>10</td>\n",
       "      <td>224</td>\n",
       "      <td>327</td>\n",
       "      <td>68.5</td>\n",
       "      <td>2559</td>\n",
       "      <td>23</td>\n",
       "      <td>7.0</td>\n",
       "      <td>2</td>\n",
       "      <td>...</td>\n",
       "      <td>8.4</td>\n",
       "      <td>12.2</td>\n",
       "      <td>255.9</td>\n",
       "      <td>114.9</td>\n",
       "      <td>27</td>\n",
       "      <td>178</td>\n",
       "      <td>7.6</td>\n",
       "      <td>4.0</td>\n",
       "      <td>5.0</td>\n",
       "      <td>93.91</td>\n",
       "    </tr>\n",
       "    <tr>\n",
       "      <td>6</td>\n",
       "      <td>Tampa Bay Buccaneers</td>\n",
       "      <td>2019</td>\n",
       "      <td>9</td>\n",
       "      <td>212</td>\n",
       "      <td>355</td>\n",
       "      <td>59.7</td>\n",
       "      <td>2558</td>\n",
       "      <td>17</td>\n",
       "      <td>4.8</td>\n",
       "      <td>14</td>\n",
       "      <td>...</td>\n",
       "      <td>7.8</td>\n",
       "      <td>13.0</td>\n",
       "      <td>284.2</td>\n",
       "      <td>83.8</td>\n",
       "      <td>34</td>\n",
       "      <td>207</td>\n",
       "      <td>8.7</td>\n",
       "      <td>1.0</td>\n",
       "      <td>1.0</td>\n",
       "      <td>39.56</td>\n",
       "    </tr>\n",
       "    <tr>\n",
       "      <td>7</td>\n",
       "      <td>Green Bay Packers</td>\n",
       "      <td>2019</td>\n",
       "      <td>10</td>\n",
       "      <td>225</td>\n",
       "      <td>347</td>\n",
       "      <td>64.8</td>\n",
       "      <td>2539</td>\n",
       "      <td>17</td>\n",
       "      <td>4.9</td>\n",
       "      <td>2</td>\n",
       "      <td>...</td>\n",
       "      <td>7.8</td>\n",
       "      <td>12.1</td>\n",
       "      <td>253.9</td>\n",
       "      <td>102.7</td>\n",
       "      <td>22</td>\n",
       "      <td>179</td>\n",
       "      <td>6.0</td>\n",
       "      <td>1.0</td>\n",
       "      <td>2.0</td>\n",
       "      <td>104.62</td>\n",
       "    </tr>\n",
       "    <tr>\n",
       "      <td>8</td>\n",
       "      <td>Los Angeles Rams</td>\n",
       "      <td>2019</td>\n",
       "      <td>9</td>\n",
       "      <td>215</td>\n",
       "      <td>357</td>\n",
       "      <td>60.2</td>\n",
       "      <td>2516</td>\n",
       "      <td>11</td>\n",
       "      <td>3.1</td>\n",
       "      <td>10</td>\n",
       "      <td>...</td>\n",
       "      <td>7.4</td>\n",
       "      <td>12.2</td>\n",
       "      <td>279.6</td>\n",
       "      <td>81.6</td>\n",
       "      <td>16</td>\n",
       "      <td>117</td>\n",
       "      <td>4.3</td>\n",
       "      <td>1.0</td>\n",
       "      <td>1.0</td>\n",
       "      <td>30.10</td>\n",
       "    </tr>\n",
       "    <tr>\n",
       "      <td>9</td>\n",
       "      <td>New England Patriots</td>\n",
       "      <td>2019</td>\n",
       "      <td>9</td>\n",
       "      <td>233</td>\n",
       "      <td>360</td>\n",
       "      <td>64.7</td>\n",
       "      <td>2465</td>\n",
       "      <td>14</td>\n",
       "      <td>3.9</td>\n",
       "      <td>6</td>\n",
       "      <td>...</td>\n",
       "      <td>7.2</td>\n",
       "      <td>11.1</td>\n",
       "      <td>273.9</td>\n",
       "      <td>91.9</td>\n",
       "      <td>16</td>\n",
       "      <td>117</td>\n",
       "      <td>4.3</td>\n",
       "      <td>NaN</td>\n",
       "      <td>NaN</td>\n",
       "      <td>71.88</td>\n",
       "    </tr>\n",
       "  </tbody>\n",
       "</table>\n",
       "<p>10 rows × 22 columns</p>\n",
       "</div>"
      ],
      "text/plain": [
       "                   team  year  game  comp  attempts  comp_perc  pass_yards  \\\n",
       "0    Kansas City Chiefs  2019    10   252       383       65.8        3139   \n",
       "1       Atlanta Falcons  2019     9   267       378       70.6        2708   \n",
       "2  Los Angeles Chargers  2019    10   241       365       66.0        2701   \n",
       "3        Dallas Cowboys  2019     9   218       320       68.1        2693   \n",
       "4         Detroit Lions  2019     9   214       337       63.5        2621   \n",
       "5      Seattle Seahawks  2019    10   224       327       68.5        2559   \n",
       "6  Tampa Bay Buccaneers  2019     9   212       355       59.7        2558   \n",
       "7     Green Bay Packers  2019    10   225       347       64.8        2539   \n",
       "8      Los Angeles Rams  2019     9   215       357       60.2        2516   \n",
       "9  New England Patriots  2019     9   233       360       64.7        2465   \n",
       "\n",
       "   pass_tds  pass_td_perc  int  ...  pass_y/a   y/c  pass_y/g  QB_rate  sacks  \\\n",
       "0        22           5.7    1  ...       8.6  13.0     313.9    110.7     18   \n",
       "1        19           5.0   10  ...       7.6  10.8     300.9     98.4     22   \n",
       "2        14           3.8   10  ...       7.7  11.7     270.1     90.7     21   \n",
       "3        18           5.6    9  ...       8.7  12.7     299.2    102.0     11   \n",
       "4        20           5.9    6  ...       8.2  12.9     291.2    101.6     20   \n",
       "5        23           7.0    2  ...       8.4  12.2     255.9    114.9     27   \n",
       "6        17           4.8   14  ...       7.8  13.0     284.2     83.8     34   \n",
       "7        17           4.9    2  ...       7.8  12.1     253.9    102.7     22   \n",
       "8        11           3.1   10  ...       7.4  12.2     279.6     81.6     16   \n",
       "9        14           3.9    6  ...       7.2  11.1     273.9     91.9     16   \n",
       "\n",
       "   sack_yds  sack_perc  qb_comebacks  qb_gwd  pass_exp  \n",
       "0       146        4.5           2.0     2.0    136.67  \n",
       "1       169        5.5           1.0     1.0     82.47  \n",
       "2       122        5.4           1.0     2.0     78.39  \n",
       "3        84        3.3           NaN     NaN    125.05  \n",
       "4       147        5.6           2.0     1.0     90.45  \n",
       "5       178        7.6           4.0     5.0     93.91  \n",
       "6       207        8.7           1.0     1.0     39.56  \n",
       "7       179        6.0           1.0     2.0    104.62  \n",
       "8       117        4.3           1.0     1.0     30.10  \n",
       "9       117        4.3           NaN     NaN     71.88  \n",
       "\n",
       "[10 rows x 22 columns]"
      ]
     },
     "execution_count": 50,
     "metadata": {},
     "output_type": "execute_result"
    }
   ],
   "source": [
    "pass_df.head(10)"
   ]
  },
  {
   "cell_type": "code",
   "execution_count": 51,
   "metadata": {},
   "outputs": [
    {
     "data": {
      "text/plain": [
       "1974    26\n",
       "1973    26\n",
       "1972    26\n",
       "1971    26\n",
       "1970    26\n",
       "Name: year, dtype: int64"
      ]
     },
     "execution_count": 51,
     "metadata": {},
     "output_type": "execute_result"
    }
   ],
   "source": [
    "df['year'].value_counts().tail()"
   ]
  },
  {
   "cell_type": "code",
   "execution_count": 52,
   "metadata": {},
   "outputs": [
    {
     "data": {
      "text/plain": [
       "Los Angeles Raiders     13\n",
       "Phoenix Cardinals        6\n",
       "Los Angeles Chargers     3\n",
       "Tennessee Oilers         2\n",
       "Boston Patriots          1\n",
       "Name: team, dtype: int64"
      ]
     },
     "execution_count": 52,
     "metadata": {},
     "output_type": "execute_result"
    }
   ],
   "source": [
    "df['team'].value_counts().tail()"
   ]
  },
  {
   "cell_type": "code",
   "execution_count": 53,
   "metadata": {},
   "outputs": [
    {
     "data": {
      "text/plain": [
       "10    168\n",
       "8     167\n",
       "7     165\n",
       "9     158\n",
       "6     138\n",
       "5     133\n",
       "4     127\n",
       "11    117\n",
       "12     92\n",
       "3      63\n",
       "2      52\n",
       "13     49\n",
       "14     21\n",
       "1      15\n",
       "15      6\n",
       "0       5\n",
       "16      1\n",
       "Name: wins, dtype: int64"
      ]
     },
     "execution_count": 53,
     "metadata": {},
     "output_type": "execute_result"
    }
   ],
   "source": [
    "df['wins'].value_counts()"
   ]
  },
  {
   "cell_type": "code",
   "execution_count": 54,
   "metadata": {},
   "outputs": [
    {
     "data": {
      "image/png": "[encoded data removed]",
      "text/plain": [
       "<Figure size 432x288 with 1 Axes>"
      ]
     },
     "metadata": {
      "needs_background": "light"
     },
     "output_type": "display_data"
    }
   ],
   "source": [
    "plt.hist(df['wins'], bins=17);"
   ]
  },
  {
   "cell_type": "code",
   "execution_count": 55,
   "metadata": {},
   "outputs": [
    {
     "data": {
      "image/png": "[encoded data removed]",
      "text/plain": [
       "<Figure size 432x288 with 1 Axes>"
      ]
     },
     "metadata": {
      "needs_background": "light"
     },
     "output_type": "display_data"
    }
   ],
   "source": [
    "plt.hist(df['win_loss_perc'], bins=17);"
   ]
  },
  {
   "cell_type": "markdown",
   "metadata": {},
   "source": [
    "### College EDA"
   ]
  },
  {
   "cell_type": "code",
   "execution_count": 56,
   "metadata": {},
   "outputs": [
    {
     "data": {
      "text/html": [
       "<div>\n",
       "<style scoped>\n",
       "    .dataframe tbody tr th:only-of-type {\n",
       "        vertical-align: middle;\n",
       "    }\n",
       "\n",
       "    .dataframe tbody tr th {\n",
       "        vertical-align: top;\n",
       "    }\n",
       "\n",
       "    .dataframe thead th {\n",
       "        text-align: right;\n",
       "    }\n",
       "</style>\n",
       "<table border=\"1\" class=\"dataframe\">\n",
       "  <thead>\n",
       "    <tr style=\"text-align: right;\">\n",
       "      <th></th>\n",
       "      <th>Rk</th>\n",
       "      <th>School</th>\n",
       "      <th>Conf</th>\n",
       "      <th>W</th>\n",
       "      <th>L</th>\n",
       "      <th>Pct</th>\n",
       "      <th>W.1</th>\n",
       "      <th>L.1</th>\n",
       "      <th>Pct.1</th>\n",
       "      <th>Off</th>\n",
       "      <th>Def</th>\n",
       "      <th>SRS</th>\n",
       "      <th>SOS</th>\n",
       "      <th>AP Pre</th>\n",
       "      <th>AP High</th>\n",
       "      <th>AP Rank</th>\n",
       "      <th>Notes</th>\n",
       "      <th>year</th>\n",
       "    </tr>\n",
       "  </thead>\n",
       "  <tbody>\n",
       "    <tr>\n",
       "      <td>0</td>\n",
       "      <td>1</td>\n",
       "      <td>Clemson</td>\n",
       "      <td>ACC (Atlantic)</td>\n",
       "      <td>11</td>\n",
       "      <td>0</td>\n",
       "      <td>1.000</td>\n",
       "      <td>8.0</td>\n",
       "      <td>0.0</td>\n",
       "      <td>1.000</td>\n",
       "      <td>45.9</td>\n",
       "      <td>10.7</td>\n",
       "      <td>20.66</td>\n",
       "      <td>-0.88</td>\n",
       "      <td>3.0</td>\n",
       "      <td>1.0</td>\n",
       "      <td>1.0</td>\n",
       "      <td>NaN</td>\n",
       "      <td>2019</td>\n",
       "    </tr>\n",
       "    <tr>\n",
       "      <td>1</td>\n",
       "      <td>2</td>\n",
       "      <td>Wake Forest</td>\n",
       "      <td>ACC (Atlantic)</td>\n",
       "      <td>7</td>\n",
       "      <td>3</td>\n",
       "      <td>0.700</td>\n",
       "      <td>3.0</td>\n",
       "      <td>3.0</td>\n",
       "      <td>0.500</td>\n",
       "      <td>32.4</td>\n",
       "      <td>28.5</td>\n",
       "      <td>5.22</td>\n",
       "      <td>0.62</td>\n",
       "      <td>NaN</td>\n",
       "      <td>NaN</td>\n",
       "      <td>19.0</td>\n",
       "      <td>NaN</td>\n",
       "      <td>2019</td>\n",
       "    </tr>\n",
       "    <tr>\n",
       "      <td>2</td>\n",
       "      <td>3</td>\n",
       "      <td>Louisville</td>\n",
       "      <td>ACC (Atlantic)</td>\n",
       "      <td>6</td>\n",
       "      <td>4</td>\n",
       "      <td>0.600</td>\n",
       "      <td>4.0</td>\n",
       "      <td>3.0</td>\n",
       "      <td>0.571</td>\n",
       "      <td>32.3</td>\n",
       "      <td>32.7</td>\n",
       "      <td>3.62</td>\n",
       "      <td>3.72</td>\n",
       "      <td>NaN</td>\n",
       "      <td>NaN</td>\n",
       "      <td>NaN</td>\n",
       "      <td>NaN</td>\n",
       "      <td>2019</td>\n",
       "    </tr>\n",
       "    <tr>\n",
       "      <td>3</td>\n",
       "      <td>4</td>\n",
       "      <td>Florida State</td>\n",
       "      <td>ACC (Atlantic)</td>\n",
       "      <td>6</td>\n",
       "      <td>5</td>\n",
       "      <td>0.545</td>\n",
       "      <td>4.0</td>\n",
       "      <td>4.0</td>\n",
       "      <td>0.500</td>\n",
       "      <td>30.2</td>\n",
       "      <td>27.5</td>\n",
       "      <td>4.52</td>\n",
       "      <td>2.42</td>\n",
       "      <td>NaN</td>\n",
       "      <td>NaN</td>\n",
       "      <td>NaN</td>\n",
       "      <td>NaN</td>\n",
       "      <td>2019</td>\n",
       "    </tr>\n",
       "    <tr>\n",
       "      <td>4</td>\n",
       "      <td>5</td>\n",
       "      <td>Boston College</td>\n",
       "      <td>ACC (Atlantic)</td>\n",
       "      <td>5</td>\n",
       "      <td>5</td>\n",
       "      <td>0.500</td>\n",
       "      <td>3.0</td>\n",
       "      <td>4.0</td>\n",
       "      <td>0.429</td>\n",
       "      <td>33.8</td>\n",
       "      <td>32.1</td>\n",
       "      <td>2.03</td>\n",
       "      <td>-0.07</td>\n",
       "      <td>NaN</td>\n",
       "      <td>NaN</td>\n",
       "      <td>NaN</td>\n",
       "      <td>NaN</td>\n",
       "      <td>2019</td>\n",
       "    </tr>\n",
       "  </tbody>\n",
       "</table>\n",
       "</div>"
      ],
      "text/plain": [
       "   Rk          School            Conf   W  L    Pct  W.1  L.1  Pct.1   Off  \\\n",
       "0   1         Clemson  ACC (Atlantic)  11  0  1.000  8.0  0.0  1.000  45.9   \n",
       "1   2     Wake Forest  ACC (Atlantic)   7  3  0.700  3.0  3.0  0.500  32.4   \n",
       "2   3      Louisville  ACC (Atlantic)   6  4  0.600  4.0  3.0  0.571  32.3   \n",
       "3   4   Florida State  ACC (Atlantic)   6  5  0.545  4.0  4.0  0.500  30.2   \n",
       "4   5  Boston College  ACC (Atlantic)   5  5  0.500  3.0  4.0  0.429  33.8   \n",
       "\n",
       "    Def    SRS   SOS  AP Pre  AP High  AP Rank Notes  year  \n",
       "0  10.7  20.66 -0.88     3.0      1.0      1.0   NaN  2019  \n",
       "1  28.5   5.22  0.62     NaN      NaN     19.0   NaN  2019  \n",
       "2  32.7   3.62  3.72     NaN      NaN      NaN   NaN  2019  \n",
       "3  27.5   4.52  2.42     NaN      NaN      NaN   NaN  2019  \n",
       "4  32.1   2.03 -0.07     NaN      NaN      NaN   NaN  2019  "
      ]
     },
     "execution_count": 56,
     "metadata": {},
     "output_type": "execute_result"
    }
   ],
   "source": [
    "college_stand_df.head()"
   ]
  },
  {
   "cell_type": "code",
   "execution_count": 57,
   "metadata": {},
   "outputs": [
    {
     "data": {
      "text/plain": [
       "Index(['Rk', 'School', 'Conf', 'W', 'L', 'Pct', 'W.1', 'L.1', 'Pct.1', 'Off',\n",
       "       'Def', 'SRS', 'SOS', 'AP Pre', 'AP High', 'AP Rank', 'Notes', 'year'],\n",
       "      dtype='object')"
      ]
     },
     "execution_count": 57,
     "metadata": {},
     "output_type": "execute_result"
    }
   ],
   "source": [
    "college_stand_df.columns"
   ]
  },
  {
   "cell_type": "code",
   "execution_count": 58,
   "metadata": {},
   "outputs": [
    {
     "data": {
      "text/plain": [
       "Notes      0.988264\n",
       "AP Pre     0.792889\n",
       "AP Rank    0.785986\n",
       "AP High    0.639627\n",
       "Pct.1      0.037625\n",
       "L.1        0.004833\n",
       "W.1        0.004833\n",
       "Pct        0.000000\n",
       "School     0.000000\n",
       "Conf       0.000000\n",
       "W          0.000000\n",
       "L          0.000000\n",
       "year       0.000000\n",
       "Off        0.000000\n",
       "Def        0.000000\n",
       "SRS        0.000000\n",
       "SOS        0.000000\n",
       "Rk         0.000000\n",
       "dtype: float64"
      ]
     },
     "execution_count": 58,
     "metadata": {},
     "output_type": "execute_result"
    }
   ],
   "source": [
    "college_stand_df.isnull().mean().sort_values(ascending = False)"
   ]
  },
  {
   "cell_type": "code",
   "execution_count": 59,
   "metadata": {},
   "outputs": [
    {
     "data": {
      "text/html": [
       "<div>\n",
       "<style scoped>\n",
       "    .dataframe tbody tr th:only-of-type {\n",
       "        vertical-align: middle;\n",
       "    }\n",
       "\n",
       "    .dataframe tbody tr th {\n",
       "        vertical-align: top;\n",
       "    }\n",
       "\n",
       "    .dataframe thead th {\n",
       "        text-align: right;\n",
       "    }\n",
       "</style>\n",
       "<table border=\"1\" class=\"dataframe\">\n",
       "  <thead>\n",
       "    <tr style=\"text-align: right;\">\n",
       "      <th></th>\n",
       "      <th>off_Rk</th>\n",
       "      <th>School</th>\n",
       "      <th>G</th>\n",
       "      <th>Pts</th>\n",
       "      <th>pass_cmp</th>\n",
       "      <th>pass_Att</th>\n",
       "      <th>cmp_Pct</th>\n",
       "      <th>pass_Yds</th>\n",
       "      <th>pass_TD</th>\n",
       "      <th>rush_Att</th>\n",
       "      <th>...</th>\n",
       "      <th>1st_down_Pass</th>\n",
       "      <th>1st_down_Rush</th>\n",
       "      <th>1st_down_Pen</th>\n",
       "      <th>1st_down_Tot</th>\n",
       "      <th>pen_No.</th>\n",
       "      <th>pen_Yds</th>\n",
       "      <th>Fum</th>\n",
       "      <th>Int</th>\n",
       "      <th>TO_Tot</th>\n",
       "      <th>year</th>\n",
       "    </tr>\n",
       "  </thead>\n",
       "  <tbody>\n",
       "    <tr>\n",
       "      <td>0</td>\n",
       "      <td>1</td>\n",
       "      <td>Ohio State</td>\n",
       "      <td>10</td>\n",
       "      <td>51.5</td>\n",
       "      <td>19.0</td>\n",
       "      <td>27.8</td>\n",
       "      <td>68.3</td>\n",
       "      <td>254.3</td>\n",
       "      <td>3.8</td>\n",
       "      <td>46.6</td>\n",
       "      <td>...</td>\n",
       "      <td>11.8</td>\n",
       "      <td>14.5</td>\n",
       "      <td>2.3</td>\n",
       "      <td>28.6</td>\n",
       "      <td>5.8</td>\n",
       "      <td>56.2</td>\n",
       "      <td>0.8</td>\n",
       "      <td>0.1</td>\n",
       "      <td>0.9</td>\n",
       "      <td>2019</td>\n",
       "    </tr>\n",
       "    <tr>\n",
       "      <td>1</td>\n",
       "      <td>2</td>\n",
       "      <td>LSU</td>\n",
       "      <td>10</td>\n",
       "      <td>47.8</td>\n",
       "      <td>28.5</td>\n",
       "      <td>37.0</td>\n",
       "      <td>77.0</td>\n",
       "      <td>390.3</td>\n",
       "      <td>3.5</td>\n",
       "      <td>35.6</td>\n",
       "      <td>...</td>\n",
       "      <td>15.8</td>\n",
       "      <td>10.5</td>\n",
       "      <td>1.6</td>\n",
       "      <td>27.6</td>\n",
       "      <td>5.9</td>\n",
       "      <td>58.9</td>\n",
       "      <td>0.4</td>\n",
       "      <td>0.7</td>\n",
       "      <td>1.1</td>\n",
       "      <td>2019</td>\n",
       "    </tr>\n",
       "    <tr>\n",
       "      <td>2</td>\n",
       "      <td>3</td>\n",
       "      <td>Oklahoma</td>\n",
       "      <td>10</td>\n",
       "      <td>47.0</td>\n",
       "      <td>20.4</td>\n",
       "      <td>28.5</td>\n",
       "      <td>71.6</td>\n",
       "      <td>334.0</td>\n",
       "      <td>3.1</td>\n",
       "      <td>37.8</td>\n",
       "      <td>...</td>\n",
       "      <td>13.7</td>\n",
       "      <td>11.3</td>\n",
       "      <td>1.2</td>\n",
       "      <td>25.9</td>\n",
       "      <td>7.3</td>\n",
       "      <td>78.9</td>\n",
       "      <td>0.7</td>\n",
       "      <td>0.6</td>\n",
       "      <td>1.3</td>\n",
       "      <td>2019</td>\n",
       "    </tr>\n",
       "    <tr>\n",
       "      <td>3</td>\n",
       "      <td>4</td>\n",
       "      <td>Alabama</td>\n",
       "      <td>10</td>\n",
       "      <td>46.8</td>\n",
       "      <td>23.3</td>\n",
       "      <td>32.7</td>\n",
       "      <td>71.3</td>\n",
       "      <td>347.7</td>\n",
       "      <td>3.8</td>\n",
       "      <td>32.5</td>\n",
       "      <td>...</td>\n",
       "      <td>13.7</td>\n",
       "      <td>9.4</td>\n",
       "      <td>1.7</td>\n",
       "      <td>24.7</td>\n",
       "      <td>7.3</td>\n",
       "      <td>68.9</td>\n",
       "      <td>0.3</td>\n",
       "      <td>0.4</td>\n",
       "      <td>0.7</td>\n",
       "      <td>2019</td>\n",
       "    </tr>\n",
       "    <tr>\n",
       "      <td>4</td>\n",
       "      <td>5</td>\n",
       "      <td>Clemson</td>\n",
       "      <td>11</td>\n",
       "      <td>45.9</td>\n",
       "      <td>21.9</td>\n",
       "      <td>33.4</td>\n",
       "      <td>65.7</td>\n",
       "      <td>282.5</td>\n",
       "      <td>2.8</td>\n",
       "      <td>39.2</td>\n",
       "      <td>...</td>\n",
       "      <td>12.7</td>\n",
       "      <td>11.6</td>\n",
       "      <td>2.1</td>\n",
       "      <td>26.5</td>\n",
       "      <td>5.7</td>\n",
       "      <td>45.7</td>\n",
       "      <td>0.4</td>\n",
       "      <td>0.9</td>\n",
       "      <td>1.3</td>\n",
       "      <td>2019</td>\n",
       "    </tr>\n",
       "  </tbody>\n",
       "</table>\n",
       "<p>5 rows × 26 columns</p>\n",
       "</div>"
      ],
      "text/plain": [
       "   off_Rk      School   G   Pts  pass_cmp  pass_Att  cmp_Pct  pass_Yds  \\\n",
       "0       1  Ohio State  10  51.5      19.0      27.8     68.3     254.3   \n",
       "1       2         LSU  10  47.8      28.5      37.0     77.0     390.3   \n",
       "2       3    Oklahoma  10  47.0      20.4      28.5     71.6     334.0   \n",
       "3       4     Alabama  10  46.8      23.3      32.7     71.3     347.7   \n",
       "4       5     Clemson  11  45.9      21.9      33.4     65.7     282.5   \n",
       "\n",
       "   pass_TD  rush_Att  ...  1st_down_Pass  1st_down_Rush  1st_down_Pen  \\\n",
       "0      3.8      46.6  ...           11.8           14.5           2.3   \n",
       "1      3.5      35.6  ...           15.8           10.5           1.6   \n",
       "2      3.1      37.8  ...           13.7           11.3           1.2   \n",
       "3      3.8      32.5  ...           13.7            9.4           1.7   \n",
       "4      2.8      39.2  ...           12.7           11.6           2.1   \n",
       "\n",
       "   1st_down_Tot  pen_No.  pen_Yds  Fum  Int  TO_Tot  year  \n",
       "0          28.6      5.8     56.2  0.8  0.1     0.9  2019  \n",
       "1          27.6      5.9     58.9  0.4  0.7     1.1  2019  \n",
       "2          25.9      7.3     78.9  0.7  0.6     1.3  2019  \n",
       "3          24.7      7.3     68.9  0.3  0.4     0.7  2019  \n",
       "4          26.5      5.7     45.7  0.4  0.9     1.3  2019  \n",
       "\n",
       "[5 rows x 26 columns]"
      ]
     },
     "execution_count": 59,
     "metadata": {},
     "output_type": "execute_result"
    }
   ],
   "source": [
    "college_off_df.head()"
   ]
  },
  {
   "cell_type": "code",
   "execution_count": 60,
   "metadata": {},
   "outputs": [
    {
     "data": {
      "text/plain": [
       "Index(['off_Rk', 'School', 'G', 'Pts', 'pass_cmp', 'pass_Att', 'cmp_Pct',\n",
       "       'pass_Yds', 'pass_TD', 'rush_Att', 'rush_Yds', 'rush_Avg', 'rush_TD',\n",
       "       'Plays', 'Yds', 'Avg_Yds', '1st_down_Pass', '1st_down_Rush',\n",
       "       '1st_down_Pen', '1st_down_Tot', 'pen_No.', 'pen_Yds', 'Fum', 'Int',\n",
       "       'TO_Tot', 'year'],\n",
       "      dtype='object')"
      ]
     },
     "execution_count": 60,
     "metadata": {},
     "output_type": "execute_result"
    }
   ],
   "source": [
    "college_off_df.columns"
   ]
  },
  {
   "cell_type": "code",
   "execution_count": 61,
   "metadata": {},
   "outputs": [
    {
     "data": {
      "text/plain": [
       "year             0.0\n",
       "TO_Tot           0.0\n",
       "School           0.0\n",
       "G                0.0\n",
       "Pts              0.0\n",
       "pass_cmp         0.0\n",
       "pass_Att         0.0\n",
       "cmp_Pct          0.0\n",
       "pass_Yds         0.0\n",
       "pass_TD          0.0\n",
       "rush_Att         0.0\n",
       "rush_Yds         0.0\n",
       "rush_Avg         0.0\n",
       "rush_TD          0.0\n",
       "Plays            0.0\n",
       "Yds              0.0\n",
       "Avg_Yds          0.0\n",
       "1st_down_Pass    0.0\n",
       "1st_down_Rush    0.0\n",
       "1st_down_Pen     0.0\n",
       "1st_down_Tot     0.0\n",
       "pen_No.          0.0\n",
       "pen_Yds          0.0\n",
       "Fum              0.0\n",
       "Int              0.0\n",
       "off_Rk           0.0\n",
       "dtype: float64"
      ]
     },
     "execution_count": 61,
     "metadata": {},
     "output_type": "execute_result"
    }
   ],
   "source": [
    "college_off_df.isnull().mean().sort_values(ascending = False)"
   ]
  },
  {
   "cell_type": "code",
   "execution_count": 62,
   "metadata": {},
   "outputs": [
    {
     "data": {
      "text/html": [
       "<div>\n",
       "<style scoped>\n",
       "    .dataframe tbody tr th:only-of-type {\n",
       "        vertical-align: middle;\n",
       "    }\n",
       "\n",
       "    .dataframe tbody tr th {\n",
       "        vertical-align: top;\n",
       "    }\n",
       "\n",
       "    .dataframe thead th {\n",
       "        text-align: right;\n",
       "    }\n",
       "</style>\n",
       "<table border=\"1\" class=\"dataframe\">\n",
       "  <thead>\n",
       "    <tr style=\"text-align: right;\">\n",
       "      <th></th>\n",
       "      <th>Rk</th>\n",
       "      <th>School</th>\n",
       "      <th>Conf</th>\n",
       "      <th>W</th>\n",
       "      <th>L</th>\n",
       "      <th>Pct</th>\n",
       "      <th>W.1</th>\n",
       "      <th>L.1</th>\n",
       "      <th>Pct.1</th>\n",
       "      <th>Off</th>\n",
       "      <th>...</th>\n",
       "      <th>opp_Avg_Yds</th>\n",
       "      <th>opp_1st_down_Pass</th>\n",
       "      <th>opp_1st_down_Rush</th>\n",
       "      <th>opp_1st_down_Pen</th>\n",
       "      <th>opp_1st_down_Tot</th>\n",
       "      <th>opp_pen_No.</th>\n",
       "      <th>opp_pen_Yds</th>\n",
       "      <th>opp_Fum</th>\n",
       "      <th>opp_Int</th>\n",
       "      <th>opp_TO_Tot</th>\n",
       "    </tr>\n",
       "  </thead>\n",
       "  <tbody>\n",
       "    <tr>\n",
       "      <td>0</td>\n",
       "      <td>1</td>\n",
       "      <td>Clemson</td>\n",
       "      <td>ACC (Atlantic)</td>\n",
       "      <td>11</td>\n",
       "      <td>0</td>\n",
       "      <td>1.000</td>\n",
       "      <td>8.0</td>\n",
       "      <td>0.0</td>\n",
       "      <td>1.000</td>\n",
       "      <td>45.9</td>\n",
       "      <td>...</td>\n",
       "      <td>3.9</td>\n",
       "      <td>5.0</td>\n",
       "      <td>5.6</td>\n",
       "      <td>1.2</td>\n",
       "      <td>11.8</td>\n",
       "      <td>5.5</td>\n",
       "      <td>51.7</td>\n",
       "      <td>1.0</td>\n",
       "      <td>1.2</td>\n",
       "      <td>2.2</td>\n",
       "    </tr>\n",
       "    <tr>\n",
       "      <td>1</td>\n",
       "      <td>2</td>\n",
       "      <td>Wake Forest</td>\n",
       "      <td>ACC (Atlantic)</td>\n",
       "      <td>7</td>\n",
       "      <td>3</td>\n",
       "      <td>0.700</td>\n",
       "      <td>3.0</td>\n",
       "      <td>3.0</td>\n",
       "      <td>0.500</td>\n",
       "      <td>32.4</td>\n",
       "      <td>...</td>\n",
       "      <td>5.8</td>\n",
       "      <td>11.4</td>\n",
       "      <td>8.1</td>\n",
       "      <td>1.2</td>\n",
       "      <td>20.7</td>\n",
       "      <td>6.2</td>\n",
       "      <td>52.9</td>\n",
       "      <td>0.8</td>\n",
       "      <td>1.0</td>\n",
       "      <td>1.8</td>\n",
       "    </tr>\n",
       "    <tr>\n",
       "      <td>2</td>\n",
       "      <td>3</td>\n",
       "      <td>Louisville</td>\n",
       "      <td>ACC (Atlantic)</td>\n",
       "      <td>6</td>\n",
       "      <td>4</td>\n",
       "      <td>0.600</td>\n",
       "      <td>4.0</td>\n",
       "      <td>3.0</td>\n",
       "      <td>0.571</td>\n",
       "      <td>32.3</td>\n",
       "      <td>...</td>\n",
       "      <td>6.0</td>\n",
       "      <td>11.6</td>\n",
       "      <td>8.7</td>\n",
       "      <td>1.6</td>\n",
       "      <td>21.9</td>\n",
       "      <td>5.7</td>\n",
       "      <td>44.8</td>\n",
       "      <td>0.8</td>\n",
       "      <td>0.7</td>\n",
       "      <td>1.5</td>\n",
       "    </tr>\n",
       "    <tr>\n",
       "      <td>3</td>\n",
       "      <td>4</td>\n",
       "      <td>Florida State</td>\n",
       "      <td>ACC (Atlantic)</td>\n",
       "      <td>6</td>\n",
       "      <td>5</td>\n",
       "      <td>0.545</td>\n",
       "      <td>4.0</td>\n",
       "      <td>4.0</td>\n",
       "      <td>0.500</td>\n",
       "      <td>30.2</td>\n",
       "      <td>...</td>\n",
       "      <td>5.3</td>\n",
       "      <td>12.8</td>\n",
       "      <td>8.7</td>\n",
       "      <td>3.0</td>\n",
       "      <td>24.5</td>\n",
       "      <td>7.2</td>\n",
       "      <td>61.1</td>\n",
       "      <td>0.7</td>\n",
       "      <td>0.7</td>\n",
       "      <td>1.5</td>\n",
       "    </tr>\n",
       "    <tr>\n",
       "      <td>4</td>\n",
       "      <td>5</td>\n",
       "      <td>Boston College</td>\n",
       "      <td>ACC (Atlantic)</td>\n",
       "      <td>5</td>\n",
       "      <td>5</td>\n",
       "      <td>0.500</td>\n",
       "      <td>3.0</td>\n",
       "      <td>4.0</td>\n",
       "      <td>0.429</td>\n",
       "      <td>33.8</td>\n",
       "      <td>...</td>\n",
       "      <td>6.6</td>\n",
       "      <td>12.6</td>\n",
       "      <td>8.7</td>\n",
       "      <td>1.1</td>\n",
       "      <td>22.4</td>\n",
       "      <td>6.2</td>\n",
       "      <td>46.0</td>\n",
       "      <td>0.4</td>\n",
       "      <td>0.9</td>\n",
       "      <td>1.3</td>\n",
       "    </tr>\n",
       "    <tr>\n",
       "      <td>...</td>\n",
       "      <td>...</td>\n",
       "      <td>...</td>\n",
       "      <td>...</td>\n",
       "      <td>...</td>\n",
       "      <td>...</td>\n",
       "      <td>...</td>\n",
       "      <td>...</td>\n",
       "      <td>...</td>\n",
       "      <td>...</td>\n",
       "      <td>...</td>\n",
       "      <td>...</td>\n",
       "      <td>...</td>\n",
       "      <td>...</td>\n",
       "      <td>...</td>\n",
       "      <td>...</td>\n",
       "      <td>...</td>\n",
       "      <td>...</td>\n",
       "      <td>...</td>\n",
       "      <td>...</td>\n",
       "      <td>...</td>\n",
       "      <td>...</td>\n",
       "    </tr>\n",
       "    <tr>\n",
       "      <td>2423</td>\n",
       "      <td>112</td>\n",
       "      <td>Tulsa</td>\n",
       "      <td>WAC</td>\n",
       "      <td>5</td>\n",
       "      <td>7</td>\n",
       "      <td>0.417</td>\n",
       "      <td>4.0</td>\n",
       "      <td>4.0</td>\n",
       "      <td>0.500</td>\n",
       "      <td>20.0</td>\n",
       "      <td>...</td>\n",
       "      <td>5.9</td>\n",
       "      <td>8.1</td>\n",
       "      <td>10.0</td>\n",
       "      <td>0.6</td>\n",
       "      <td>18.7</td>\n",
       "      <td>8.8</td>\n",
       "      <td>67.4</td>\n",
       "      <td>1.3</td>\n",
       "      <td>0.8</td>\n",
       "      <td>2.1</td>\n",
       "    </tr>\n",
       "    <tr>\n",
       "      <td>2424</td>\n",
       "      <td>113</td>\n",
       "      <td>Hawaii</td>\n",
       "      <td>WAC</td>\n",
       "      <td>3</td>\n",
       "      <td>9</td>\n",
       "      <td>0.250</td>\n",
       "      <td>2.0</td>\n",
       "      <td>6.0</td>\n",
       "      <td>0.250</td>\n",
       "      <td>24.5</td>\n",
       "      <td>...</td>\n",
       "      <td>5.3</td>\n",
       "      <td>8.0</td>\n",
       "      <td>12.1</td>\n",
       "      <td>1.9</td>\n",
       "      <td>22.0</td>\n",
       "      <td>8.0</td>\n",
       "      <td>66.2</td>\n",
       "      <td>1.2</td>\n",
       "      <td>1.0</td>\n",
       "      <td>2.2</td>\n",
       "    </tr>\n",
       "    <tr>\n",
       "      <td>2425</td>\n",
       "      <td>114</td>\n",
       "      <td>Rice</td>\n",
       "      <td>WAC</td>\n",
       "      <td>3</td>\n",
       "      <td>8</td>\n",
       "      <td>0.273</td>\n",
       "      <td>2.0</td>\n",
       "      <td>6.0</td>\n",
       "      <td>0.250</td>\n",
       "      <td>21.5</td>\n",
       "      <td>...</td>\n",
       "      <td>5.6</td>\n",
       "      <td>11.1</td>\n",
       "      <td>7.4</td>\n",
       "      <td>1.2</td>\n",
       "      <td>19.6</td>\n",
       "      <td>6.8</td>\n",
       "      <td>57.5</td>\n",
       "      <td>0.8</td>\n",
       "      <td>1.6</td>\n",
       "      <td>2.5</td>\n",
       "    </tr>\n",
       "    <tr>\n",
       "      <td>2426</td>\n",
       "      <td>115</td>\n",
       "      <td>SMU</td>\n",
       "      <td>WAC</td>\n",
       "      <td>3</td>\n",
       "      <td>9</td>\n",
       "      <td>0.250</td>\n",
       "      <td>2.0</td>\n",
       "      <td>6.0</td>\n",
       "      <td>0.250</td>\n",
       "      <td>15.1</td>\n",
       "      <td>...</td>\n",
       "      <td>5.7</td>\n",
       "      <td>9.3</td>\n",
       "      <td>6.8</td>\n",
       "      <td>1.6</td>\n",
       "      <td>17.6</td>\n",
       "      <td>8.1</td>\n",
       "      <td>69.0</td>\n",
       "      <td>0.8</td>\n",
       "      <td>0.7</td>\n",
       "      <td>1.5</td>\n",
       "    </tr>\n",
       "    <tr>\n",
       "      <td>2427</td>\n",
       "      <td>116</td>\n",
       "      <td>Nevada</td>\n",
       "      <td>WAC</td>\n",
       "      <td>2</td>\n",
       "      <td>10</td>\n",
       "      <td>0.167</td>\n",
       "      <td>1.0</td>\n",
       "      <td>7.0</td>\n",
       "      <td>0.125</td>\n",
       "      <td>17.3</td>\n",
       "      <td>...</td>\n",
       "      <td>5.9</td>\n",
       "      <td>8.8</td>\n",
       "      <td>12.1</td>\n",
       "      <td>1.9</td>\n",
       "      <td>22.8</td>\n",
       "      <td>7.8</td>\n",
       "      <td>75.5</td>\n",
       "      <td>1.1</td>\n",
       "      <td>1.1</td>\n",
       "      <td>2.2</td>\n",
       "    </tr>\n",
       "  </tbody>\n",
       "</table>\n",
       "<p>2428 rows × 66 columns</p>\n",
       "</div>"
      ],
      "text/plain": [
       "       Rk          School            Conf   W   L    Pct  W.1  L.1  Pct.1  \\\n",
       "0       1         Clemson  ACC (Atlantic)  11   0  1.000  8.0  0.0  1.000   \n",
       "1       2     Wake Forest  ACC (Atlantic)   7   3  0.700  3.0  3.0  0.500   \n",
       "2       3      Louisville  ACC (Atlantic)   6   4  0.600  4.0  3.0  0.571   \n",
       "3       4   Florida State  ACC (Atlantic)   6   5  0.545  4.0  4.0  0.500   \n",
       "4       5  Boston College  ACC (Atlantic)   5   5  0.500  3.0  4.0  0.429   \n",
       "...   ...             ...             ...  ..  ..    ...  ...  ...    ...   \n",
       "2423  112           Tulsa             WAC   5   7  0.417  4.0  4.0  0.500   \n",
       "2424  113          Hawaii             WAC   3   9  0.250  2.0  6.0  0.250   \n",
       "2425  114            Rice             WAC   3   8  0.273  2.0  6.0  0.250   \n",
       "2426  115             SMU             WAC   3   9  0.250  2.0  6.0  0.250   \n",
       "2427  116          Nevada             WAC   2  10  0.167  1.0  7.0  0.125   \n",
       "\n",
       "       Off  ...  opp_Avg_Yds  opp_1st_down_Pass  opp_1st_down_Rush  \\\n",
       "0     45.9  ...          3.9                5.0                5.6   \n",
       "1     32.4  ...          5.8               11.4                8.1   \n",
       "2     32.3  ...          6.0               11.6                8.7   \n",
       "3     30.2  ...          5.3               12.8                8.7   \n",
       "4     33.8  ...          6.6               12.6                8.7   \n",
       "...    ...  ...          ...                ...                ...   \n",
       "2423  20.0  ...          5.9                8.1               10.0   \n",
       "2424  24.5  ...          5.3                8.0               12.1   \n",
       "2425  21.5  ...          5.6               11.1                7.4   \n",
       "2426  15.1  ...          5.7                9.3                6.8   \n",
       "2427  17.3  ...          5.9                8.8               12.1   \n",
       "\n",
       "      opp_1st_down_Pen  opp_1st_down_Tot  opp_pen_No. opp_pen_Yds  opp_Fum  \\\n",
       "0                  1.2              11.8          5.5        51.7      1.0   \n",
       "1                  1.2              20.7          6.2        52.9      0.8   \n",
       "2                  1.6              21.9          5.7        44.8      0.8   \n",
       "3                  3.0              24.5          7.2        61.1      0.7   \n",
       "4                  1.1              22.4          6.2        46.0      0.4   \n",
       "...                ...               ...          ...         ...      ...   \n",
       "2423               0.6              18.7          8.8        67.4      1.3   \n",
       "2424               1.9              22.0          8.0        66.2      1.2   \n",
       "2425               1.2              19.6          6.8        57.5      0.8   \n",
       "2426               1.6              17.6          8.1        69.0      0.8   \n",
       "2427               1.9              22.8          7.8        75.5      1.1   \n",
       "\n",
       "      opp_Int  opp_TO_Tot  \n",
       "0         1.2         2.2  \n",
       "1         1.0         1.8  \n",
       "2         0.7         1.5  \n",
       "3         0.7         1.5  \n",
       "4         0.9         1.3  \n",
       "...       ...         ...  \n",
       "2423      0.8         2.1  \n",
       "2424      1.0         2.2  \n",
       "2425      1.6         2.5  \n",
       "2426      0.7         1.5  \n",
       "2427      1.1         2.2  \n",
       "\n",
       "[2428 rows x 66 columns]"
      ]
     },
     "execution_count": 62,
     "metadata": {},
     "output_type": "execute_result"
    }
   ],
   "source": [
    "cdf"
   ]
  },
  {
   "cell_type": "code",
   "execution_count": null,
   "metadata": {},
   "outputs": [],
   "source": []
  },
  {
   "cell_type": "code",
   "execution_count": null,
   "metadata": {},
   "outputs": [],
   "source": []
  },
  {
   "cell_type": "code",
   "execution_count": null,
   "metadata": {},
   "outputs": [],
   "source": []
  },
  {
   "cell_type": "code",
   "execution_count": null,
   "metadata": {},
   "outputs": [],
   "source": []
  },
  {
   "cell_type": "markdown",
   "metadata": {},
   "source": [
    "## DataFrame Completion Exports"
   ]
  },
  {
   "cell_type": "code",
   "execution_count": 63,
   "metadata": {},
   "outputs": [],
   "source": [
    "# Exporting team DataFrame\n",
    "# team_df.to_csv('../data/NFL_teams.csv', index=False)"
   ]
  },
  {
   "cell_type": "code",
   "execution_count": 64,
   "metadata": {},
   "outputs": [],
   "source": [
    "# Exporting pass DataFrame\n",
    "# pass_df.to_csv('../data/NFL_passing.csv', index=False)"
   ]
  },
  {
   "cell_type": "markdown",
   "metadata": {},
   "source": [
    "Exporting concatenated dfs for later use."
   ]
  },
  {
   "cell_type": "code",
   "execution_count": 97,
   "metadata": {},
   "outputs": [],
   "source": [
    "rec_df.to_csv('../data/Combined_Final_Data/recommender_data.csv', index=False)"
   ]
  },
  {
   "cell_type": "code",
   "execution_count": null,
   "metadata": {},
   "outputs": [],
   "source": []
  }
 ],
 "metadata": {
  "kernelspec": {
   "display_name": "Python 3",
   "language": "python",
   "name": "python3"
  },
  "language_info": {
   "codemirror_mode": {
    "name": "ipython",
    "version": 3
   },
   "file_extension": ".py",
   "mimetype": "text/x-python",
   "name": "python",
   "nbconvert_exporter": "python",
   "pygments_lexer": "ipython3",
   "version": "3.7.4"
  }
 },
 "nbformat": 4,
 "nbformat_minor": 2
}
