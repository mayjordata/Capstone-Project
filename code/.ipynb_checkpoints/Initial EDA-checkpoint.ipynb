{
 "cells": [
  {
   "cell_type": "code",
   "execution_count": 1,
   "metadata": {},
   "outputs": [],
   "source": [
    "import pandas as pd\n",
    "import requests\n",
    "from bs4 import BeautifulSoup\n",
    "from time import sleep\n",
    "from datetime import datetime\n",
    "\n",
    "from selenium import webdriver"
   ]
  },
  {
   "cell_type": "markdown",
   "metadata": {},
   "source": [
    "## Imports"
   ]
  },
  {
   "cell_type": "markdown",
   "metadata": {},
   "source": [
    "### NFL"
   ]
  },
  {
   "cell_type": "code",
   "execution_count": 9,
   "metadata": {},
   "outputs": [],
   "source": [
    "# Overall Team Data\n",
    "team_df1 = pd.read_csv('../data/teams_2019_2015.csv')\n",
    "team_df2 = pd.read_csv('../data/teams_2014_1970.csv')"
   ]
  },
  {
   "cell_type": "code",
   "execution_count": 10,
   "metadata": {},
   "outputs": [],
   "source": [
    "# Passing Data\n",
    "pass_df1 = pd.read_csv('../data/pass_2019_2015.csv')\n",
    "pass_df2 = pd.read_csv('../data/pass_2014_1970.csv')"
   ]
  },
  {
   "cell_type": "code",
   "execution_count": 11,
   "metadata": {},
   "outputs": [],
   "source": [
    "# Rushing Data\n",
    "rush_df = pd.read_csv('../data/rush_stats.csv')"
   ]
  },
  {
   "cell_type": "code",
   "execution_count": 12,
   "metadata": {},
   "outputs": [],
   "source": [
    "# Defense Data\n",
    "def_df = pd.read_csv('../data/defensive_stats.csv')"
   ]
  },
  {
   "cell_type": "markdown",
   "metadata": {},
   "source": [
    "### College"
   ]
  },
  {
   "cell_type": "code",
   "execution_count": 53,
   "metadata": {},
   "outputs": [],
   "source": [
    "college_stand_df = pd.read_csv('../data/college_standings.csv')"
   ]
  },
  {
   "cell_type": "code",
   "execution_count": 54,
   "metadata": {},
   "outputs": [],
   "source": [
    "college_off_df = pd.read_csv('../data/college_offense_stats.csv')"
   ]
  },
  {
   "cell_type": "code",
   "execution_count": 55,
   "metadata": {},
   "outputs": [],
   "source": [
    "college_def_df = pd.read_csv('../data/college_defense_stats.csv')"
   ]
  },
  {
   "cell_type": "markdown",
   "metadata": {},
   "source": [
    "## Combining Data"
   ]
  },
  {
   "cell_type": "markdown",
   "metadata": {},
   "source": [
    "### Stacked Concatenation"
   ]
  },
  {
   "cell_type": "code",
   "execution_count": 14,
   "metadata": {},
   "outputs": [],
   "source": [
    "# Multiyear DataFrames - Stacking them dfs upon each other\n",
    "team_df = pd.concat([team_df1, team_df2])\n",
    "pass_df = pd.concat([pass_df1, pass_df2])"
   ]
  },
  {
   "cell_type": "code",
   "execution_count": 27,
   "metadata": {},
   "outputs": [],
   "source": [
    "# Exporting team DataFrame"
   ]
  },
  {
   "cell_type": "code",
   "execution_count": 28,
   "metadata": {},
   "outputs": [],
   "source": [
    "# Exporting pass DataFrame"
   ]
  },
  {
   "cell_type": "markdown",
   "metadata": {},
   "source": [
    "Exporting concatenated dfs for later use."
   ]
  },
  {
   "cell_type": "markdown",
   "metadata": {},
   "source": [
    "### Merging DataFrames"
   ]
  },
  {
   "cell_type": "code",
   "execution_count": 26,
   "metadata": {},
   "outputs": [
    {
     "data": {
      "text/plain": [
       "(1477, 34)"
      ]
     },
     "execution_count": 26,
     "metadata": {},
     "output_type": "execute_result"
    }
   ],
   "source": [
    "# Merging team & passsing DataFrames\n",
    "df1 = pd.merge(team_df, pass_df, left_on=['team','year'], right_on=['team','year'])\n",
    "df1.shape"
   ]
  },
  {
   "cell_type": "code",
   "execution_count": 34,
   "metadata": {},
   "outputs": [
    {
     "data": {
      "text/plain": [
       "(1477, 43)"
      ]
     },
     "execution_count": 34,
     "metadata": {},
     "output_type": "execute_result"
    }
   ],
   "source": [
    "df2 = pd.merge(df1, rush_df, left_on=['team','year'], right_on=['team','year'])\n",
    "df2.shape"
   ]
  },
  {
   "cell_type": "code",
   "execution_count": 36,
   "metadata": {},
   "outputs": [],
   "source": [
    "df = pd.merge(df2, def_df, left_on=['team','year'], right_on=['team','year'])"
   ]
  },
  {
   "cell_type": "markdown",
   "metadata": {},
   "source": [
    "### Examining Data"
   ]
  },
  {
   "cell_type": "code",
   "execution_count": 15,
   "metadata": {},
   "outputs": [
    {
     "name": "stdout",
     "output_type": "stream",
     "text": [
      "(1477, 14)\n"
     ]
    }
   ],
   "source": [
    "print(team_df.shape)"
   ]
  },
  {
   "cell_type": "code",
   "execution_count": 18,
   "metadata": {},
   "outputs": [
    {
     "data": {
      "text/plain": [
       "Index(['team', 'year', 'wins', 'losses', 'ties', 'win_loss_perc',\n",
       "       'points_scored', 'opp_points', 'points_diff', 'margin_of_victory',\n",
       "       'SoS', 'SRS', 'OSRS', 'DSRS'],\n",
       "      dtype='object')"
      ]
     },
     "execution_count": 18,
     "metadata": {},
     "output_type": "execute_result"
    }
   ],
   "source": [
    "team_df.columns"
   ]
  },
  {
   "cell_type": "code",
   "execution_count": 16,
   "metadata": {},
   "outputs": [
    {
     "name": "stdout",
     "output_type": "stream",
     "text": [
      "(1477, 22)\n"
     ]
    }
   ],
   "source": [
    "print(pass_df.shape)"
   ]
  },
  {
   "cell_type": "code",
   "execution_count": 19,
   "metadata": {},
   "outputs": [
    {
     "data": {
      "text/plain": [
       "Index(['team', 'year', 'game', 'comp', 'attempts', 'comp_perc', 'pass_yards',\n",
       "       'pass_tds', 'pass_td_perc', 'int', 'int_perc', 'pass_long', 'pass_y/a',\n",
       "       'y/c', 'pass_y/g', 'QB_rate', 'sacks', 'sack_yds', 'sack_perc',\n",
       "       'qb_comebacks', 'qb_gwd', 'pass_exp'],\n",
       "      dtype='object')"
      ]
     },
     "execution_count": 19,
     "metadata": {},
     "output_type": "execute_result"
    }
   ],
   "source": [
    "pass_df.columns"
   ]
  },
  {
   "cell_type": "code",
   "execution_count": 17,
   "metadata": {},
   "outputs": [
    {
     "data": {
      "text/html": [
       "<div>\n",
       "<style scoped>\n",
       "    .dataframe tbody tr th:only-of-type {\n",
       "        vertical-align: middle;\n",
       "    }\n",
       "\n",
       "    .dataframe tbody tr th {\n",
       "        vertical-align: top;\n",
       "    }\n",
       "\n",
       "    .dataframe thead th {\n",
       "        text-align: right;\n",
       "    }\n",
       "</style>\n",
       "<table border=\"1\" class=\"dataframe\">\n",
       "  <thead>\n",
       "    <tr style=\"text-align: right;\">\n",
       "      <th></th>\n",
       "      <th>team</th>\n",
       "      <th>year</th>\n",
       "      <th>wins</th>\n",
       "      <th>losses</th>\n",
       "      <th>ties</th>\n",
       "      <th>win_loss_perc</th>\n",
       "      <th>points_scored</th>\n",
       "      <th>opp_points</th>\n",
       "      <th>points_diff</th>\n",
       "      <th>margin_of_victory</th>\n",
       "      <th>SoS</th>\n",
       "      <th>SRS</th>\n",
       "      <th>OSRS</th>\n",
       "      <th>DSRS</th>\n",
       "    </tr>\n",
       "  </thead>\n",
       "  <tbody>\n",
       "    <tr>\n",
       "      <td>0</td>\n",
       "      <td>New England Patriots</td>\n",
       "      <td>2019</td>\n",
       "      <td>8</td>\n",
       "      <td>1</td>\n",
       "      <td>0.0</td>\n",
       "      <td>0.889</td>\n",
       "      <td>270</td>\n",
       "      <td>98</td>\n",
       "      <td>172</td>\n",
       "      <td>19.1</td>\n",
       "      <td>-5.9</td>\n",
       "      <td>13.3</td>\n",
       "      <td>5.2</td>\n",
       "      <td>8.0</td>\n",
       "    </tr>\n",
       "    <tr>\n",
       "      <td>1</td>\n",
       "      <td>Buffalo Bills</td>\n",
       "      <td>2019</td>\n",
       "      <td>6</td>\n",
       "      <td>3</td>\n",
       "      <td>0.0</td>\n",
       "      <td>0.667</td>\n",
       "      <td>174</td>\n",
       "      <td>150</td>\n",
       "      <td>24</td>\n",
       "      <td>2.7</td>\n",
       "      <td>-5.3</td>\n",
       "      <td>-2.7</td>\n",
       "      <td>-5.3</td>\n",
       "      <td>2.6</td>\n",
       "    </tr>\n",
       "    <tr>\n",
       "      <td>2</td>\n",
       "      <td>Miami Dolphins</td>\n",
       "      <td>2019</td>\n",
       "      <td>2</td>\n",
       "      <td>7</td>\n",
       "      <td>0.0</td>\n",
       "      <td>0.222</td>\n",
       "      <td>119</td>\n",
       "      <td>268</td>\n",
       "      <td>-149</td>\n",
       "      <td>-16.6</td>\n",
       "      <td>0.6</td>\n",
       "      <td>-15.9</td>\n",
       "      <td>-7.9</td>\n",
       "      <td>-8.0</td>\n",
       "    </tr>\n",
       "    <tr>\n",
       "      <td>3</td>\n",
       "      <td>New York Jets</td>\n",
       "      <td>2019</td>\n",
       "      <td>2</td>\n",
       "      <td>7</td>\n",
       "      <td>0.0</td>\n",
       "      <td>0.222</td>\n",
       "      <td>130</td>\n",
       "      <td>238</td>\n",
       "      <td>-108</td>\n",
       "      <td>-12.0</td>\n",
       "      <td>-0.1</td>\n",
       "      <td>-12.1</td>\n",
       "      <td>-7.9</td>\n",
       "      <td>-4.2</td>\n",
       "    </tr>\n",
       "    <tr>\n",
       "      <td>4</td>\n",
       "      <td>Baltimore Ravens</td>\n",
       "      <td>2019</td>\n",
       "      <td>7</td>\n",
       "      <td>2</td>\n",
       "      <td>0.0</td>\n",
       "      <td>0.778</td>\n",
       "      <td>300</td>\n",
       "      <td>189</td>\n",
       "      <td>111</td>\n",
       "      <td>12.3</td>\n",
       "      <td>-2.0</td>\n",
       "      <td>10.3</td>\n",
       "      <td>9.4</td>\n",
       "      <td>0.9</td>\n",
       "    </tr>\n",
       "    <tr>\n",
       "      <td>...</td>\n",
       "      <td>...</td>\n",
       "      <td>...</td>\n",
       "      <td>...</td>\n",
       "      <td>...</td>\n",
       "      <td>...</td>\n",
       "      <td>...</td>\n",
       "      <td>...</td>\n",
       "      <td>...</td>\n",
       "      <td>...</td>\n",
       "      <td>...</td>\n",
       "      <td>...</td>\n",
       "      <td>...</td>\n",
       "      <td>...</td>\n",
       "      <td>...</td>\n",
       "    </tr>\n",
       "    <tr>\n",
       "      <td>1312</td>\n",
       "      <td>Chicago Bears</td>\n",
       "      <td>1970</td>\n",
       "      <td>6</td>\n",
       "      <td>8</td>\n",
       "      <td>0.0</td>\n",
       "      <td>0.429</td>\n",
       "      <td>256</td>\n",
       "      <td>261</td>\n",
       "      <td>-5</td>\n",
       "      <td>-0.4</td>\n",
       "      <td>2.6</td>\n",
       "      <td>2.2</td>\n",
       "      <td>0.4</td>\n",
       "      <td>1.8</td>\n",
       "    </tr>\n",
       "    <tr>\n",
       "      <td>1313</td>\n",
       "      <td>San Francisco 49ers</td>\n",
       "      <td>1970</td>\n",
       "      <td>10</td>\n",
       "      <td>3</td>\n",
       "      <td>1.0</td>\n",
       "      <td>0.769</td>\n",
       "      <td>352</td>\n",
       "      <td>267</td>\n",
       "      <td>85</td>\n",
       "      <td>6.1</td>\n",
       "      <td>0.4</td>\n",
       "      <td>6.5</td>\n",
       "      <td>6.4</td>\n",
       "      <td>0.1</td>\n",
       "    </tr>\n",
       "    <tr>\n",
       "      <td>1314</td>\n",
       "      <td>Los Angeles Rams</td>\n",
       "      <td>1970</td>\n",
       "      <td>9</td>\n",
       "      <td>4</td>\n",
       "      <td>1.0</td>\n",
       "      <td>0.692</td>\n",
       "      <td>325</td>\n",
       "      <td>202</td>\n",
       "      <td>123</td>\n",
       "      <td>8.8</td>\n",
       "      <td>0.8</td>\n",
       "      <td>9.6</td>\n",
       "      <td>4.4</td>\n",
       "      <td>5.3</td>\n",
       "    </tr>\n",
       "    <tr>\n",
       "      <td>1315</td>\n",
       "      <td>Atlanta Falcons</td>\n",
       "      <td>1970</td>\n",
       "      <td>4</td>\n",
       "      <td>8</td>\n",
       "      <td>2.0</td>\n",
       "      <td>0.333</td>\n",
       "      <td>206</td>\n",
       "      <td>261</td>\n",
       "      <td>-55</td>\n",
       "      <td>-3.9</td>\n",
       "      <td>1.6</td>\n",
       "      <td>-2.3</td>\n",
       "      <td>-3.5</td>\n",
       "      <td>1.2</td>\n",
       "    </tr>\n",
       "    <tr>\n",
       "      <td>1316</td>\n",
       "      <td>New Orleans Saints</td>\n",
       "      <td>1970</td>\n",
       "      <td>2</td>\n",
       "      <td>11</td>\n",
       "      <td>1.0</td>\n",
       "      <td>0.154</td>\n",
       "      <td>172</td>\n",
       "      <td>347</td>\n",
       "      <td>-175</td>\n",
       "      <td>-12.5</td>\n",
       "      <td>4.6</td>\n",
       "      <td>-7.9</td>\n",
       "      <td>-4.6</td>\n",
       "      <td>-3.3</td>\n",
       "    </tr>\n",
       "  </tbody>\n",
       "</table>\n",
       "<p>1477 rows × 14 columns</p>\n",
       "</div>"
      ],
      "text/plain": [
       "                      team  year  wins  losses  ties  win_loss_perc  \\\n",
       "0     New England Patriots  2019     8       1   0.0          0.889   \n",
       "1            Buffalo Bills  2019     6       3   0.0          0.667   \n",
       "2           Miami Dolphins  2019     2       7   0.0          0.222   \n",
       "3            New York Jets  2019     2       7   0.0          0.222   \n",
       "4         Baltimore Ravens  2019     7       2   0.0          0.778   \n",
       "...                    ...   ...   ...     ...   ...            ...   \n",
       "1312         Chicago Bears  1970     6       8   0.0          0.429   \n",
       "1313   San Francisco 49ers  1970    10       3   1.0          0.769   \n",
       "1314      Los Angeles Rams  1970     9       4   1.0          0.692   \n",
       "1315       Atlanta Falcons  1970     4       8   2.0          0.333   \n",
       "1316    New Orleans Saints  1970     2      11   1.0          0.154   \n",
       "\n",
       "      points_scored  opp_points  points_diff  margin_of_victory  SoS   SRS  \\\n",
       "0               270          98          172               19.1 -5.9  13.3   \n",
       "1               174         150           24                2.7 -5.3  -2.7   \n",
       "2               119         268         -149              -16.6  0.6 -15.9   \n",
       "3               130         238         -108              -12.0 -0.1 -12.1   \n",
       "4               300         189          111               12.3 -2.0  10.3   \n",
       "...             ...         ...          ...                ...  ...   ...   \n",
       "1312            256         261           -5               -0.4  2.6   2.2   \n",
       "1313            352         267           85                6.1  0.4   6.5   \n",
       "1314            325         202          123                8.8  0.8   9.6   \n",
       "1315            206         261          -55               -3.9  1.6  -2.3   \n",
       "1316            172         347         -175              -12.5  4.6  -7.9   \n",
       "\n",
       "      OSRS  DSRS  \n",
       "0      5.2   8.0  \n",
       "1     -5.3   2.6  \n",
       "2     -7.9  -8.0  \n",
       "3     -7.9  -4.2  \n",
       "4      9.4   0.9  \n",
       "...    ...   ...  \n",
       "1312   0.4   1.8  \n",
       "1313   6.4   0.1  \n",
       "1314   4.4   5.3  \n",
       "1315  -3.5   1.2  \n",
       "1316  -4.6  -3.3  \n",
       "\n",
       "[1477 rows x 14 columns]"
      ]
     },
     "execution_count": 17,
     "metadata": {},
     "output_type": "execute_result"
    }
   ],
   "source": [
    "team_df"
   ]
  },
  {
   "cell_type": "code",
   "execution_count": 22,
   "metadata": {},
   "outputs": [
    {
     "data": {
      "text/html": [
       "<div>\n",
       "<style scoped>\n",
       "    .dataframe tbody tr th:only-of-type {\n",
       "        vertical-align: middle;\n",
       "    }\n",
       "\n",
       "    .dataframe tbody tr th {\n",
       "        vertical-align: top;\n",
       "    }\n",
       "\n",
       "    .dataframe thead th {\n",
       "        text-align: right;\n",
       "    }\n",
       "</style>\n",
       "<table border=\"1\" class=\"dataframe\">\n",
       "  <thead>\n",
       "    <tr style=\"text-align: right;\">\n",
       "      <th></th>\n",
       "      <th>team</th>\n",
       "      <th>year</th>\n",
       "      <th>game</th>\n",
       "      <th>comp</th>\n",
       "      <th>attempts</th>\n",
       "      <th>comp_perc</th>\n",
       "      <th>pass_yards</th>\n",
       "      <th>pass_tds</th>\n",
       "      <th>pass_td_perc</th>\n",
       "      <th>int</th>\n",
       "      <th>...</th>\n",
       "      <th>pass_y/a</th>\n",
       "      <th>y/c</th>\n",
       "      <th>pass_y/g</th>\n",
       "      <th>QB_rate</th>\n",
       "      <th>sacks</th>\n",
       "      <th>sack_yds</th>\n",
       "      <th>sack_perc</th>\n",
       "      <th>qb_comebacks</th>\n",
       "      <th>qb_gwd</th>\n",
       "      <th>pass_exp</th>\n",
       "    </tr>\n",
       "  </thead>\n",
       "  <tbody>\n",
       "    <tr>\n",
       "      <td>0</td>\n",
       "      <td>Kansas City Chiefs</td>\n",
       "      <td>2019</td>\n",
       "      <td>10</td>\n",
       "      <td>252</td>\n",
       "      <td>383</td>\n",
       "      <td>65.8</td>\n",
       "      <td>3139</td>\n",
       "      <td>22</td>\n",
       "      <td>5.7</td>\n",
       "      <td>1</td>\n",
       "      <td>...</td>\n",
       "      <td>8.6</td>\n",
       "      <td>13.0</td>\n",
       "      <td>313.9</td>\n",
       "      <td>110.7</td>\n",
       "      <td>18</td>\n",
       "      <td>146</td>\n",
       "      <td>4.5</td>\n",
       "      <td>2.0</td>\n",
       "      <td>2.0</td>\n",
       "      <td>136.67</td>\n",
       "    </tr>\n",
       "    <tr>\n",
       "      <td>1</td>\n",
       "      <td>Atlanta Falcons</td>\n",
       "      <td>2019</td>\n",
       "      <td>9</td>\n",
       "      <td>267</td>\n",
       "      <td>378</td>\n",
       "      <td>70.6</td>\n",
       "      <td>2708</td>\n",
       "      <td>19</td>\n",
       "      <td>5.0</td>\n",
       "      <td>10</td>\n",
       "      <td>...</td>\n",
       "      <td>7.6</td>\n",
       "      <td>10.8</td>\n",
       "      <td>300.9</td>\n",
       "      <td>98.4</td>\n",
       "      <td>22</td>\n",
       "      <td>169</td>\n",
       "      <td>5.5</td>\n",
       "      <td>1.0</td>\n",
       "      <td>1.0</td>\n",
       "      <td>82.47</td>\n",
       "    </tr>\n",
       "    <tr>\n",
       "      <td>2</td>\n",
       "      <td>Los Angeles Chargers</td>\n",
       "      <td>2019</td>\n",
       "      <td>10</td>\n",
       "      <td>241</td>\n",
       "      <td>365</td>\n",
       "      <td>66.0</td>\n",
       "      <td>2701</td>\n",
       "      <td>14</td>\n",
       "      <td>3.8</td>\n",
       "      <td>10</td>\n",
       "      <td>...</td>\n",
       "      <td>7.7</td>\n",
       "      <td>11.7</td>\n",
       "      <td>270.1</td>\n",
       "      <td>90.7</td>\n",
       "      <td>21</td>\n",
       "      <td>122</td>\n",
       "      <td>5.4</td>\n",
       "      <td>1.0</td>\n",
       "      <td>2.0</td>\n",
       "      <td>78.39</td>\n",
       "    </tr>\n",
       "    <tr>\n",
       "      <td>3</td>\n",
       "      <td>Dallas Cowboys</td>\n",
       "      <td>2019</td>\n",
       "      <td>9</td>\n",
       "      <td>218</td>\n",
       "      <td>320</td>\n",
       "      <td>68.1</td>\n",
       "      <td>2693</td>\n",
       "      <td>18</td>\n",
       "      <td>5.6</td>\n",
       "      <td>9</td>\n",
       "      <td>...</td>\n",
       "      <td>8.7</td>\n",
       "      <td>12.7</td>\n",
       "      <td>299.2</td>\n",
       "      <td>102.0</td>\n",
       "      <td>11</td>\n",
       "      <td>84</td>\n",
       "      <td>3.3</td>\n",
       "      <td>NaN</td>\n",
       "      <td>NaN</td>\n",
       "      <td>125.05</td>\n",
       "    </tr>\n",
       "    <tr>\n",
       "      <td>4</td>\n",
       "      <td>Detroit Lions</td>\n",
       "      <td>2019</td>\n",
       "      <td>9</td>\n",
       "      <td>214</td>\n",
       "      <td>337</td>\n",
       "      <td>63.5</td>\n",
       "      <td>2621</td>\n",
       "      <td>20</td>\n",
       "      <td>5.9</td>\n",
       "      <td>6</td>\n",
       "      <td>...</td>\n",
       "      <td>8.2</td>\n",
       "      <td>12.9</td>\n",
       "      <td>291.2</td>\n",
       "      <td>101.6</td>\n",
       "      <td>20</td>\n",
       "      <td>147</td>\n",
       "      <td>5.6</td>\n",
       "      <td>2.0</td>\n",
       "      <td>1.0</td>\n",
       "      <td>90.45</td>\n",
       "    </tr>\n",
       "    <tr>\n",
       "      <td>5</td>\n",
       "      <td>Seattle Seahawks</td>\n",
       "      <td>2019</td>\n",
       "      <td>10</td>\n",
       "      <td>224</td>\n",
       "      <td>327</td>\n",
       "      <td>68.5</td>\n",
       "      <td>2559</td>\n",
       "      <td>23</td>\n",
       "      <td>7.0</td>\n",
       "      <td>2</td>\n",
       "      <td>...</td>\n",
       "      <td>8.4</td>\n",
       "      <td>12.2</td>\n",
       "      <td>255.9</td>\n",
       "      <td>114.9</td>\n",
       "      <td>27</td>\n",
       "      <td>178</td>\n",
       "      <td>7.6</td>\n",
       "      <td>4.0</td>\n",
       "      <td>5.0</td>\n",
       "      <td>93.91</td>\n",
       "    </tr>\n",
       "    <tr>\n",
       "      <td>6</td>\n",
       "      <td>Tampa Bay Buccaneers</td>\n",
       "      <td>2019</td>\n",
       "      <td>9</td>\n",
       "      <td>212</td>\n",
       "      <td>355</td>\n",
       "      <td>59.7</td>\n",
       "      <td>2558</td>\n",
       "      <td>17</td>\n",
       "      <td>4.8</td>\n",
       "      <td>14</td>\n",
       "      <td>...</td>\n",
       "      <td>7.8</td>\n",
       "      <td>13.0</td>\n",
       "      <td>284.2</td>\n",
       "      <td>83.8</td>\n",
       "      <td>34</td>\n",
       "      <td>207</td>\n",
       "      <td>8.7</td>\n",
       "      <td>1.0</td>\n",
       "      <td>1.0</td>\n",
       "      <td>39.56</td>\n",
       "    </tr>\n",
       "    <tr>\n",
       "      <td>7</td>\n",
       "      <td>Green Bay Packers</td>\n",
       "      <td>2019</td>\n",
       "      <td>10</td>\n",
       "      <td>225</td>\n",
       "      <td>347</td>\n",
       "      <td>64.8</td>\n",
       "      <td>2539</td>\n",
       "      <td>17</td>\n",
       "      <td>4.9</td>\n",
       "      <td>2</td>\n",
       "      <td>...</td>\n",
       "      <td>7.8</td>\n",
       "      <td>12.1</td>\n",
       "      <td>253.9</td>\n",
       "      <td>102.7</td>\n",
       "      <td>22</td>\n",
       "      <td>179</td>\n",
       "      <td>6.0</td>\n",
       "      <td>1.0</td>\n",
       "      <td>2.0</td>\n",
       "      <td>104.62</td>\n",
       "    </tr>\n",
       "    <tr>\n",
       "      <td>8</td>\n",
       "      <td>Los Angeles Rams</td>\n",
       "      <td>2019</td>\n",
       "      <td>9</td>\n",
       "      <td>215</td>\n",
       "      <td>357</td>\n",
       "      <td>60.2</td>\n",
       "      <td>2516</td>\n",
       "      <td>11</td>\n",
       "      <td>3.1</td>\n",
       "      <td>10</td>\n",
       "      <td>...</td>\n",
       "      <td>7.4</td>\n",
       "      <td>12.2</td>\n",
       "      <td>279.6</td>\n",
       "      <td>81.6</td>\n",
       "      <td>16</td>\n",
       "      <td>117</td>\n",
       "      <td>4.3</td>\n",
       "      <td>1.0</td>\n",
       "      <td>1.0</td>\n",
       "      <td>30.10</td>\n",
       "    </tr>\n",
       "    <tr>\n",
       "      <td>9</td>\n",
       "      <td>New England Patriots</td>\n",
       "      <td>2019</td>\n",
       "      <td>9</td>\n",
       "      <td>233</td>\n",
       "      <td>360</td>\n",
       "      <td>64.7</td>\n",
       "      <td>2465</td>\n",
       "      <td>14</td>\n",
       "      <td>3.9</td>\n",
       "      <td>6</td>\n",
       "      <td>...</td>\n",
       "      <td>7.2</td>\n",
       "      <td>11.1</td>\n",
       "      <td>273.9</td>\n",
       "      <td>91.9</td>\n",
       "      <td>16</td>\n",
       "      <td>117</td>\n",
       "      <td>4.3</td>\n",
       "      <td>NaN</td>\n",
       "      <td>NaN</td>\n",
       "      <td>71.88</td>\n",
       "    </tr>\n",
       "  </tbody>\n",
       "</table>\n",
       "<p>10 rows × 22 columns</p>\n",
       "</div>"
      ],
      "text/plain": [
       "                   team  year  game  comp  attempts  comp_perc  pass_yards  \\\n",
       "0    Kansas City Chiefs  2019    10   252       383       65.8        3139   \n",
       "1       Atlanta Falcons  2019     9   267       378       70.6        2708   \n",
       "2  Los Angeles Chargers  2019    10   241       365       66.0        2701   \n",
       "3        Dallas Cowboys  2019     9   218       320       68.1        2693   \n",
       "4         Detroit Lions  2019     9   214       337       63.5        2621   \n",
       "5      Seattle Seahawks  2019    10   224       327       68.5        2559   \n",
       "6  Tampa Bay Buccaneers  2019     9   212       355       59.7        2558   \n",
       "7     Green Bay Packers  2019    10   225       347       64.8        2539   \n",
       "8      Los Angeles Rams  2019     9   215       357       60.2        2516   \n",
       "9  New England Patriots  2019     9   233       360       64.7        2465   \n",
       "\n",
       "   pass_tds  pass_td_perc  int  ...  pass_y/a   y/c  pass_y/g  QB_rate  sacks  \\\n",
       "0        22           5.7    1  ...       8.6  13.0     313.9    110.7     18   \n",
       "1        19           5.0   10  ...       7.6  10.8     300.9     98.4     22   \n",
       "2        14           3.8   10  ...       7.7  11.7     270.1     90.7     21   \n",
       "3        18           5.6    9  ...       8.7  12.7     299.2    102.0     11   \n",
       "4        20           5.9    6  ...       8.2  12.9     291.2    101.6     20   \n",
       "5        23           7.0    2  ...       8.4  12.2     255.9    114.9     27   \n",
       "6        17           4.8   14  ...       7.8  13.0     284.2     83.8     34   \n",
       "7        17           4.9    2  ...       7.8  12.1     253.9    102.7     22   \n",
       "8        11           3.1   10  ...       7.4  12.2     279.6     81.6     16   \n",
       "9        14           3.9    6  ...       7.2  11.1     273.9     91.9     16   \n",
       "\n",
       "   sack_yds  sack_perc  qb_comebacks  qb_gwd  pass_exp  \n",
       "0       146        4.5           2.0     2.0    136.67  \n",
       "1       169        5.5           1.0     1.0     82.47  \n",
       "2       122        5.4           1.0     2.0     78.39  \n",
       "3        84        3.3           NaN     NaN    125.05  \n",
       "4       147        5.6           2.0     1.0     90.45  \n",
       "5       178        7.6           4.0     5.0     93.91  \n",
       "6       207        8.7           1.0     1.0     39.56  \n",
       "7       179        6.0           1.0     2.0    104.62  \n",
       "8       117        4.3           1.0     1.0     30.10  \n",
       "9       117        4.3           NaN     NaN     71.88  \n",
       "\n",
       "[10 rows x 22 columns]"
      ]
     },
     "execution_count": 22,
     "metadata": {},
     "output_type": "execute_result"
    }
   ],
   "source": [
    "pass_df.head(10)"
   ]
  },
  {
   "cell_type": "code",
   "execution_count": 40,
   "metadata": {},
   "outputs": [],
   "source": [
    "df.drop(columns='game_y', inplace=True)"
   ]
  },
  {
   "cell_type": "code",
   "execution_count": 44,
   "metadata": {},
   "outputs": [],
   "source": [
    "df.rename(columns={'game_x':'game'}, inplace=True)"
   ]
  },
  {
   "cell_type": "code",
   "execution_count": 46,
   "metadata": {},
   "outputs": [
    {
     "data": {
      "text/plain": [
       "(1477, 68)"
      ]
     },
     "execution_count": 46,
     "metadata": {},
     "output_type": "execute_result"
    }
   ],
   "source": [
    "df.shape"
   ]
  },
  {
   "cell_type": "code",
   "execution_count": 47,
   "metadata": {},
   "outputs": [
    {
     "data": {
      "text/plain": [
       "2019    32\n",
       "2009    32\n",
       "2018    32\n",
       "2003    32\n",
       "2004    32\n",
       "2005    32\n",
       "2006    32\n",
       "2007    32\n",
       "2008    32\n",
       "2002    32\n",
       "2010    32\n",
       "2012    32\n",
       "2013    32\n",
       "2014    32\n",
       "2015    32\n",
       "2016    32\n",
       "2017    32\n",
       "2011    32\n",
       "2001    31\n",
       "2000    31\n",
       "1999    31\n",
       "1996    30\n",
       "1995    30\n",
       "1997    30\n",
       "1998    30\n",
       "1984    28\n",
       "1976    28\n",
       "1977    28\n",
       "1978    28\n",
       "1979    28\n",
       "1980    28\n",
       "1981    28\n",
       "1982    28\n",
       "1983    28\n",
       "1994    28\n",
       "1985    28\n",
       "1986    28\n",
       "1987    28\n",
       "1988    28\n",
       "1989    28\n",
       "1990    28\n",
       "1991    28\n",
       "1992    28\n",
       "1993    28\n",
       "1975    26\n",
       "1974    26\n",
       "1973    26\n",
       "1972    26\n",
       "1971    26\n",
       "1970    26\n",
       "Name: year, dtype: int64"
      ]
     },
     "execution_count": 47,
     "metadata": {},
     "output_type": "execute_result"
    }
   ],
   "source": [
    "df['year'].value_counts()"
   ]
  },
  {
   "cell_type": "code",
   "execution_count": 48,
   "metadata": {},
   "outputs": [
    {
     "data": {
      "text/plain": [
       "New Orleans Saints      50\n",
       "Dallas Cowboys          50\n",
       "New York Jets           50\n",
       "Philadelphia Eagles     50\n",
       "Minnesota Vikings       50\n",
       "Detroit Lions           50\n",
       "Atlanta Falcons         50\n",
       "Pittsburgh Steelers     50\n",
       "Denver Broncos          50\n",
       "Buffalo Bills           50\n",
       "Chicago Bears           50\n",
       "Miami Dolphins          50\n",
       "San Francisco 49ers     50\n",
       "Kansas City Chiefs      50\n",
       "New York Giants         50\n",
       "Washington Redskins     50\n",
       "Green Bay Packers       50\n",
       "Cincinnati Bengals      50\n",
       "New England Patriots    49\n",
       "Cleveland Browns        47\n",
       "San Diego Chargers      47\n",
       "Tampa Bay Buccaneers    44\n",
       "Seattle Seahawks        44\n",
       "Oakland Raiders         37\n",
       "Indianapolis Colts      36\n",
       "Los Angeles Rams        29\n",
       "Houston Oilers          27\n",
       "Arizona Cardinals       26\n",
       "Carolina Panthers       25\n",
       "Jacksonville Jaguars    25\n",
       "Baltimore Ravens        24\n",
       "Tennessee Titans        21\n",
       "St. Louis Rams          21\n",
       "Houston Texans          18\n",
       "St. Louis Cardinals     18\n",
       "Baltimore Colts         14\n",
       "Los Angeles Raiders     13\n",
       "Phoenix Cardinals        6\n",
       "Los Angeles Chargers     3\n",
       "Tennessee Oilers         2\n",
       "Boston Patriots          1\n",
       "Name: team, dtype: int64"
      ]
     },
     "execution_count": 48,
     "metadata": {},
     "output_type": "execute_result"
    }
   ],
   "source": [
    "df['team'].value_counts()"
   ]
  },
  {
   "cell_type": "code",
   "execution_count": null,
   "metadata": {},
   "outputs": [],
   "source": []
  }
 ],
 "metadata": {
  "kernelspec": {
   "display_name": "Python 3",
   "language": "python",
   "name": "python3"
  },
  "language_info": {
   "codemirror_mode": {
    "name": "ipython",
    "version": 3
   },
   "file_extension": ".py",
   "mimetype": "text/x-python",
   "name": "python",
   "nbconvert_exporter": "python",
   "pygments_lexer": "ipython3",
   "version": "3.7.4"
  }
 },
 "nbformat": 4,
 "nbformat_minor": 2
}
